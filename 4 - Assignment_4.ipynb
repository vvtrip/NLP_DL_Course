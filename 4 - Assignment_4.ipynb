{
  "nbformat": 4,
  "nbformat_minor": 0,
  "metadata": {
    "colab": {
      "provenance": []
    },
    "kernelspec": {
      "name": "python3",
      "display_name": "Python 3"
    },
    "language_info": {
      "name": "python"
    }
  },
  "cells": [
    {
      "cell_type": "markdown",
      "source": [
        "1. Read the file “Brexit.docx” and write a function in Python named “GetNGrams” which takes a string and a number ‘n’ as input\n",
        "and returns n-grams from the string.\n",
        "\n",
        "  Example:\n",
        "\n",
        "  String: “John met with an accident”\n",
        "\n",
        "  Output:\n",
        "\n",
        "  When n=2 => [(John, met), (met, with), (with, an), (an, accident)]\n",
        "\n",
        "  When n=3 => [(John, met, with), (met, with, an), (with, an, accident)]\n",
        "\n",
        "  When n=4 => [(John, met, w\n",
        "  ith, an), (met, with, an, accident)]  "
      ],
      "metadata": {
        "id": "Xx0QLuwzdxTG"
      }
    },
    {
      "cell_type": "code",
      "execution_count": 4,
      "metadata": {
        "colab": {
          "base_uri": "https://localhost:8080/"
        },
        "id": "hwtBo12qdUMK",
        "outputId": "ee47ba52-e669-4442-8621-d77384b86ca1"
      },
      "outputs": [
        {
          "output_type": "stream",
          "name": "stdout",
          "text": [
            "Requirement already satisfied: python-docx in /usr/local/lib/python3.10/dist-packages (1.0.0)\n",
            "Requirement already satisfied: lxml>=3.1.0 in /usr/local/lib/python3.10/dist-packages (from python-docx) (4.9.3)\n",
            "Requirement already satisfied: typing-extensions in /usr/local/lib/python3.10/dist-packages (from python-docx) (4.5.0)\n"
          ]
        }
      ],
      "source": [
        "!pip install python-docx\n",
        "import docx\n",
        "\n",
        "doc = docx.Document('Brexit.docx')"
      ]
    },
    {
      "cell_type": "code",
      "source": [
        "from nltk.util import ngrams\n",
        "from nltk.tokenize import word_tokenize\n",
        "import nltk\n",
        "nltk.download('punkt')\n",
        "\n",
        "def GetNGrams(string, n):\n",
        "\n",
        "  tok = word_tokenize(string)\n",
        "  ngrams_list = list(ngrams(tok, n))\n",
        "\n",
        "  return ngrams_list\n",
        "\n",
        "print(GetNGrams(input(), int(input())))\n"
      ],
      "metadata": {
        "colab": {
          "base_uri": "https://localhost:8080/"
        },
        "id": "k1aI6Ylddrbi",
        "outputId": "d9cbe716-86a1-4557-889a-fb0c3f5d5ae7"
      },
      "execution_count": 5,
      "outputs": [
        {
          "output_type": "stream",
          "name": "stderr",
          "text": [
            "[nltk_data] Downloading package punkt to /root/nltk_data...\n",
            "[nltk_data]   Unzipping tokenizers/punkt.zip.\n"
          ]
        },
        {
          "output_type": "stream",
          "name": "stdout",
          "text": [
            "mama i killed a man put a gun above his head pulled my trigger now he's dead\n",
            "4\n",
            "[('mama', 'i', 'killed', 'a'), ('i', 'killed', 'a', 'man'), ('killed', 'a', 'man', 'put'), ('a', 'man', 'put', 'a'), ('man', 'put', 'a', 'gun'), ('put', 'a', 'gun', 'above'), ('a', 'gun', 'above', 'his'), ('gun', 'above', 'his', 'head'), ('above', 'his', 'head', 'pulled'), ('his', 'head', 'pulled', 'my'), ('head', 'pulled', 'my', 'trigger'), ('pulled', 'my', 'trigger', 'now'), ('my', 'trigger', 'now', 'he'), ('trigger', 'now', 'he', \"'s\"), ('now', 'he', \"'s\", 'dead')]\n"
          ]
        }
      ]
    },
    {
      "cell_type": "markdown",
      "source": [
        "2. Read the file “Brexit.docx” and write python functions which take a string as an input and returns:\n",
        "\n",
        "  •Number of Nouns (all forms of noun). Take function name as “NounsCount”\n",
        "\n",
        "  •Number of Pronouns (all forms). Take function name as “PronounsCount”\n",
        "\n",
        "  •Number of Adjectives (all forms).Take function name as “AdjectivesCount”\n",
        "\n",
        "  •Number of Verbs (all forms).Take function name as “VerbsCount”\n",
        "\n",
        "  •Number of Adverbs (all forms).Take function name as “AdverbsCount”\n",
        "\n",
        "\n",
        "  Plot a pie chart showing the distribution of nouns, pronouns,\n",
        "  verbs, adverbs and adjectives."
      ],
      "metadata": {
        "id": "jqT7hJ4_fkyS"
      }
    },
    {
      "cell_type": "code",
      "source": [
        "import numpy as np\n",
        "import matplotlib.pyplot as plt\n",
        "import nltk\n",
        "nltk.download('averaged_perceptron_tagger')"
      ],
      "metadata": {
        "colab": {
          "base_uri": "https://localhost:8080/"
        },
        "id": "aSB_VN6xx3d1",
        "outputId": "64700810-0a2d-48fd-9a8b-8d972fb443d6"
      },
      "execution_count": 12,
      "outputs": [
        {
          "output_type": "stream",
          "name": "stderr",
          "text": [
            "[nltk_data] Downloading package averaged_perceptron_tagger to\n",
            "[nltk_data]     /root/nltk_data...\n",
            "[nltk_data]   Package averaged_perceptron_tagger is already up-to-\n",
            "[nltk_data]       date!\n"
          ]
        },
        {
          "output_type": "execute_result",
          "data": {
            "text/plain": [
              "True"
            ]
          },
          "metadata": {},
          "execution_count": 12
        }
      ]
    },
    {
      "cell_type": "code",
      "source": [
        "from nltk.tag import pos_tag\n",
        "\n",
        "def NounsCount(string):\n",
        "  tok = word_tokenize(string)\n",
        "  tok = pos_tag(tok)\n",
        "  noun_words = [word for word in tok if word[1] in ('NN', 'NNS', 'NNP' ,'NNPS') ]\n",
        "  return len(noun_words)\n",
        "\n",
        "def PronounsCount(string):\n",
        "  tok = word_tokenize(string)\n",
        "  tok = pos_tag(tok)\n",
        "  pronoun_words = [word for word in tok if word[1] in ('PRP', 'PRP$', 'WP')]\n",
        "  return len(pronoun_words)\n",
        "\n",
        "def AdjectivesCount(string):\n",
        "  tok = word_tokenize(string)\n",
        "  tok = pos_tag(tok)\n",
        "  adjective_words = [word for word in tok if word[1] == 'JJ']\n",
        "  return len(adjective_words)\n",
        "\n",
        "def VerbsCount(string):\n",
        "  tok = word_tokenize(string)\n",
        "  tok = pos_tag(tok)\n",
        "  verbs_words = [word for word in tok if word[1] in ('VBZ', 'VBP', 'VBN', 'VBG', 'VBD', 'VB')]\n",
        "  return len(verbs_words)\n",
        "\n",
        "def AdverbsCount(string):\n",
        "  tok = word_tokenize(string)\n",
        "  tok = pos_tag(tok)\n",
        "  adverbs_words = [word for word in tok if word[1] in ('WRB', 'RBS', 'RB', 'RBR')]\n",
        "  return len(adverbs_words)\n",
        "\n",
        "string = doc.paragraphs[0].text\n",
        "noun = NounsCount(string)\n",
        "pronoun = PronounsCount(string)\n",
        "verbs = VerbsCount(string)\n",
        "adjective = AdjectivesCount(string)\n",
        "adverb = AdverbsCount(string)\n",
        "\n",
        "print(string)\n",
        "y = np.array([noun, pronoun, verbs, adjective, adverb])\n",
        "print(y)\n",
        "plt.pie(y, labels = ['noun', 'pronoun', 'verbs', 'adjective', 'adverbs'])\n",
        "plt.show()"
      ],
      "metadata": {
        "id": "RbzTbM4Ve5nY",
        "colab": {
          "base_uri": "https://localhost:8080/",
          "height": 462
        },
        "outputId": "3c9516ad-e366-4aa7-8371-bd4ef57a316e"
      },
      "execution_count": 23,
      "outputs": [
        {
          "output_type": "stream",
          "name": "stdout",
          "text": [
            "Brexit is the impending withdrawal of the United Kingdom (UK) from the European Union (EU). In a referendum on 23 June 2016, a majority of British voters supported leaving the EU. On 29 March 2017, the UK government invoked Article 50 of the Treaty on European Union. The European Union (Withdrawal) Act 2018 declares \"exit day\" to be 29 March 2019 at 11 p.m. (Central European Time).\n",
            "[28  0  7  4  0]\n"
          ]
        },
        {
          "output_type": "display_data",
          "data": {
            "text/plain": [
              "<Figure size 640x480 with 1 Axes>"
            ],
            "image/png": "[encoded data removed]"
          },
          "metadata": {}
        }
      ]
    },
    {
      "cell_type": "markdown",
      "source": [
        "3. Read the file “Brexit.docx” and write python functions which take a string as an input and returns:\n",
        "\n",
        "  •Number of geo-Political entities present in the file.\n",
        "  Take function name as “GeoPoliticalCount”\n",
        "\n",
        "  •Number of Persons present in the file. Take function name as “\n",
        "  Persons Count”\n",
        "\n",
        "  •Numbers of Organizations mentioned in the file.\n",
        "  Take function name as “OrganizationsCount”"
      ],
      "metadata": {
        "id": "eKk4jK5g0Ua-"
      }
    },
    {
      "cell_type": "code",
      "source": [
        "nltk.download('maxent_ne_chunker')\n",
        "nltk.download('words')"
      ],
      "metadata": {
        "colab": {
          "base_uri": "https://localhost:8080/"
        },
        "id": "ni3jJaUy2hv0",
        "outputId": "8fc84748-a13b-49b0-992a-b683a33ed31a"
      },
      "execution_count": 27,
      "outputs": [
        {
          "output_type": "stream",
          "name": "stderr",
          "text": [
            "[nltk_data] Downloading package maxent_ne_chunker to\n",
            "[nltk_data]     /root/nltk_data...\n",
            "[nltk_data]   Package maxent_ne_chunker is already up-to-date!\n",
            "[nltk_data] Downloading package words to /root/nltk_data...\n",
            "[nltk_data]   Unzipping corpora/words.zip.\n"
          ]
        },
        {
          "output_type": "execute_result",
          "data": {
            "text/plain": [
              "True"
            ]
          },
          "metadata": {},
          "execution_count": 27
        }
      ]
    },
    {
      "cell_type": "code",
      "source": [
        "from nltk import ne_chunk\n",
        "\n",
        "def GeoPoliticalCount(string):\n",
        "  tok = word_tokenize(string)\n",
        "  ne_tags = pos_tag(tok)\n",
        "  ne_ner = list(ne_chunk(ne_tags))\n",
        "  nn = [str(words) for words in ne_ner if 'GPE' in str(words)]\n",
        "  return nn\n",
        "\n",
        "def PersonsCount(string):\n",
        "  tok = word_tokenize(string)\n",
        "  ne_tags = pos_tag(tok)\n",
        "  ne_ner = list(ne_chunk(ne_tags))\n",
        "  nn = [str(words) for words in ne_ner if 'PERSON' in str(words)]\n",
        "  return nn\n",
        "\n",
        "def OrganizationsCount(string):\n",
        "  tok = word_tokenize(string)\n",
        "  ne_tags = pos_tag(tok)\n",
        "  ne_ner = list(ne_chunk(ne_tags))\n",
        "  nn = [str(words) for words in ne_ner if 'ORGANIZATION' in str(words)]\n",
        "  return nn\n",
        "\n",
        "string = doc.paragraphs[1].text\n",
        "print(string)\n",
        "geo_pol = GeoPoliticalCount(string)\n",
        "persons = PersonsCount(string)\n",
        "orgs = OrganizationsCount(string)\n",
        "\n",
        "print(f\"Total {len(geo_pol)} Geopolitical Entities detected as following\\n\")\n",
        "print(geo_pol)\n",
        "print(f\"\\nTotal {len(persons)} persons detected as following\\n\")\n",
        "print(persons)\n",
        "print(f\"\\nTotal {len(orgs)} organizations detected as following\\n\")\n",
        "print(orgs)"
      ],
      "metadata": {
        "colab": {
          "base_uri": "https://localhost:8080/"
        },
        "id": "6u5fpC851JK2",
        "outputId": "14a8a2e9-8d67-4071-8dbb-b2bf29adbe6c"
      },
      "execution_count": 50,
      "outputs": [
        {
          "output_type": "stream",
          "name": "stdout",
          "text": [
            "Prime Minister Theresa May announced the government's intention not to seek permanent membership of the European single market or the EU customs union after leaving the EU and promised to repeal the European Communities Act of 1972 and incorporate existing European Union law into UK domestic law. A new government department, the Department for Exiting the European Union, was created in July 2016.\n",
            "Total 4 Geopolitical Entities detected as following\n",
            "\n",
            "['(GPE European/JJ)', '(GPE EU/NNP)', '(GPE EU/NNP)', '(GPE European/NNP Union/NNP)']\n",
            "\n",
            "Total 1 persons detected as following\n",
            "\n",
            "['(PERSON Theresa/NNP May/NNP)']\n",
            "\n",
            "Total 4 organizations detected as following\n",
            "\n",
            "['(ORGANIZATION European/NNP)', '(ORGANIZATION UK/NNP)', '(ORGANIZATION Department/NNP)', '(ORGANIZATION European/NNP Union/NNP)']\n"
          ]
        }
      ]
    },
    {
      "cell_type": "markdown",
      "source": [
        "4. Answer the following questions:\n",
        "\n",
        "  •Most frequent bi-gram from the data\n",
        "\n",
        "  •Most frequent Noun\n",
        "\n",
        "  •Most frequent GeoPolitical Entity\n",
        "\n",
        "  •Most frequent person"
      ],
      "metadata": {
        "id": "j64K3VP40ZF4"
      }
    },
    {
      "cell_type": "code",
      "source": [
        "from nltk.util import ngrams\n",
        "from nltk.probability import FreqDist\n",
        "from nltk.tokenize import word_tokenize\n",
        "import nltk\n",
        "nltk.download('punkt')"
      ],
      "metadata": {
        "colab": {
          "base_uri": "https://localhost:8080/"
        },
        "id": "l6b5agX97UYN",
        "outputId": "7c355488-925d-41b8-d00e-33bf5e3abe31"
      },
      "execution_count": 54,
      "outputs": [
        {
          "output_type": "stream",
          "name": "stderr",
          "text": [
            "[nltk_data] Downloading package punkt to /root/nltk_data...\n",
            "[nltk_data]   Package punkt is already up-to-date!\n"
          ]
        },
        {
          "output_type": "execute_result",
          "data": {
            "text/plain": [
              "True"
            ]
          },
          "metadata": {},
          "execution_count": 54
        }
      ]
    },
    {
      "cell_type": "code",
      "source": [
        "def GetNGrams(string, n):\n",
        "\n",
        "  tok = word_tokenize(string)\n",
        "  ngrams_list = list(ngrams(tok, n))\n",
        "\n",
        "  return ngrams_list\n",
        "\n",
        "lst = GetNGrams(string, 2)\n",
        "fdist = FreqDist()\n",
        "for i in lst:\n",
        "  fdist[i] += 1\n",
        "fdist.most_common(1)"
      ],
      "metadata": {
        "colab": {
          "base_uri": "https://localhost:8080/"
        },
        "id": "pYfi69wQwXYf",
        "outputId": "d46ae489-96e1-4cc4-8371-4d9f463265bb"
      },
      "execution_count": 55,
      "outputs": [
        {
          "output_type": "execute_result",
          "data": {
            "text/plain": [
              "[(('the', 'European'), 3)]"
            ]
          },
          "metadata": {},
          "execution_count": 55
        }
      ]
    },
    {
      "cell_type": "code",
      "source": [],
      "metadata": {
        "id": "Tycumaxn7JaZ"
      },
      "execution_count": null,
      "outputs": []
    }
  ]
}