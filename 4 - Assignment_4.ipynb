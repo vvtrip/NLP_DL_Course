{
  "nbformat": 4,
  "nbformat_minor": 0,
  "metadata": {
    "colab": {
      "provenance": [],
      "authorship_tag": "ABX9TyPeyV0cwfkizgl7RXpu+LH1"
    },
    "kernelspec": {
      "name": "python3",
      "display_name": "Python 3"
    },
    "language_info": {
      "name": "python"
    }
  },
  "cells": [
    {
      "cell_type": "markdown",
      "source": [
        "1. Read the file “Brexit.docx” and write a function in Python named “GetNGrams” which takes a string and a number ‘n’ as input\n",
        "and returns n-grams from the string.\n",
        "\n",
        "  Example:\n",
        "\n",
        "  String: “John met with an accident”\n",
        "\n",
        "  Output:\n",
        "\n",
        "  When n=2 => [(John, met), (met, with), (with, an), (an, accident)]\n",
        "\n",
        "  When n=3 => [(John, met, with), (met, with, an), (with, an, accident)]\n",
        "\n",
        "  When n=4 => [(John, met, w\n",
        "  ith, an), (met, with, an, accident)]  "
      ],
      "metadata": {
        "id": "Xx0QLuwzdxTG"
      }
    },
    {
      "cell_type": "code",
      "execution_count": 1,
      "metadata": {
        "colab": {
          "base_uri": "https://localhost:8080/"
        },
        "id": "hwtBo12qdUMK",
        "outputId": "2c0978ac-f75f-4b36-edec-abf200ecdcf1"
      },
      "outputs": [
        {
          "output_type": "stream",
          "name": "stdout",
          "text": [
            "Collecting python-docx\n",
            "  Downloading python-docx-0.8.11.tar.gz (5.6 MB)\n",
            "\u001b[2K     \u001b[90m━━━━━━━━━━━━━━━━━━━━━━━━━━━━━━━━━━━━━━━━\u001b[0m \u001b[32m5.6/5.6 MB\u001b[0m \u001b[31m48.2 MB/s\u001b[0m eta \u001b[36m0:00:00\u001b[0m\n",
            "\u001b[?25h  Preparing metadata (setup.py) ... \u001b[?25l\u001b[?25hdone\n",
            "Requirement already satisfied: lxml>=2.3.2 in /usr/local/lib/python3.10/dist-packages (from python-docx) (4.9.3)\n",
            "Building wheels for collected packages: python-docx\n",
            "  Building wheel for python-docx (setup.py) ... \u001b[?25l\u001b[?25hdone\n",
            "  Created wheel for python-docx: filename=python_docx-0.8.11-py3-none-any.whl size=184487 sha256=db9adec0227551715ce070f8cadb7e3ad7f59b41b50d27dc7e90d3afdac084a9\n",
            "  Stored in directory: /root/.cache/pip/wheels/80/27/06/837436d4c3bd989b957a91679966f207bfd71d358d63a8194d\n",
            "Successfully built python-docx\n",
            "Installing collected packages: python-docx\n",
            "Successfully installed python-docx-0.8.11\n"
          ]
        }
      ],
      "source": [
        "!pip install python-docx\n",
        "import docx\n",
        "\n",
        "doc = docx.Document('Brexit.docx')"
      ]
    },
    {
      "cell_type": "code",
      "source": [
        "from nltk.util import ngrams\n",
        "from nltk.tokenize import word_tokenize\n",
        "import nltk\n",
        "nltk.download('punkt')\n",
        "\n",
        "def GetNGrams(string, n):\n",
        "\n",
        "  tok = word_tokenize(string)\n",
        "  ngrams_list = list(ngrams(tok, n))\n",
        "\n",
        "  return ngrams_list\n",
        "\n",
        "print(GetNGrams(input(), int(input())))\n"
      ],
      "metadata": {
        "colab": {
          "base_uri": "https://localhost:8080/"
        },
        "id": "k1aI6Ylddrbi",
        "outputId": "3cb65869-7fad-4b2c-f3f1-37e889a3acc6"
      },
      "execution_count": 6,
      "outputs": [
        {
          "output_type": "stream",
          "name": "stderr",
          "text": [
            "[nltk_data] Downloading package punkt to /root/nltk_data...\n",
            "[nltk_data]   Package punkt is already up-to-date!\n"
          ]
        },
        {
          "output_type": "stream",
          "name": "stdout",
          "text": [
            "the quick brown fox jumps over the lazy frog\n",
            "4\n",
            "[('the', 'quick', 'brown', 'fox'), ('quick', 'brown', 'fox', 'jumps'), ('brown', 'fox', 'jumps', 'over'), ('fox', 'jumps', 'over', 'the'), ('jumps', 'over', 'the', 'lazy'), ('over', 'the', 'lazy', 'frog')]\n"
          ]
        }
      ]
    },
    {
      "cell_type": "markdown",
      "source": [
        "2. Read the file “Brexit.docx” and write python functions which take a string as an input and returns:\n",
        "\n",
        "  •Number of Nouns (all forms of noun). Take function name as “NounsCount”\n",
        "\n",
        "  •Number of Pronouns (all forms). Take function name as “PronounsCount”\n",
        "\n",
        "  •Number of Adjectives (all forms).Take function name as “AdjectivesCount”\n",
        "\n",
        "  •Number of Verbs (all forms).Take function name as “VerbsCount”\n",
        "\n",
        "  •Number of Adverbs (all forms).Take function name as “AdverbsCount”\n",
        "\n",
        "\n",
        "  Plot a pie chart showing the distribution of nouns, pronouns,\n",
        "  verbs, adverbs and adjectives."
      ],
      "metadata": {
        "id": "jqT7hJ4_fkyS"
      }
    },
    {
      "cell_type": "code",
      "source": [],
      "metadata": {
        "id": "RbzTbM4Ve5nY"
      },
      "execution_count": null,
      "outputs": []
    }
  ]
}