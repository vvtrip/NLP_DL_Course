{
  "nbformat": 4,
  "nbformat_minor": 0,
  "metadata": {
    "colab": {
      "provenance": []
    },
    "kernelspec": {
      "name": "python3",
      "display_name": "Python 3"
    },
    "language_info": {
      "name": "python"
    }
  },
  "cells": [
    {
      "cell_type": "markdown",
      "source": [
        "1. Write a program to enter a string from user and perform following tasks\n",
        "\n",
        "  • Write a python function named “Tokenize” which returns the tokenized string\n",
        "\n",
        "  •Print tokens along with the frequency of each token using the above function\n",
        "  \n",
        "  •Print the 5 least occurring tokens"
      ],
      "metadata": {
        "id": "yBCxQYsZXmVS"
      }
    },
    {
      "cell_type": "code",
      "execution_count": null,
      "metadata": {
        "colab": {
          "base_uri": "https://localhost:8080/"
        },
        "id": "ax9Mj6fKXhEF",
        "outputId": "dc42abf2-d14e-425a-ccd6-85c3f4a883c0"
      },
      "outputs": [
        {
          "output_type": "stream",
          "name": "stdout",
          "text": [
            "twinkle twinkle little star, how i wonder what you are , up above the world so high, like a diamond in the sky\n",
            "[('e', 9), ('t', 8), ('i', 8), ('o', 7), ('w', 6), ('l', 6), ('a', 6), ('h', 6), ('n', 5), ('k', 4), ('r', 4), ('d', 4), ('s', 3), (',', 3), ('y', 2), ('u', 2), ('p', 1), ('b', 1), ('v', 1), ('g', 1), ('m', 1)]\n",
            "[('p', 1), ('b', 1), ('v', 1), ('g', 1), ('m', 1)]\n"
          ]
        }
      ],
      "source": [
        "import nltk\n",
        "from nltk.probability import FreqDist\n",
        "\n",
        "def Tokenize(string):\n",
        "  str_lst = string.split()\n",
        "  fdist = FreqDist()\n",
        "  for word in str_lst:\n",
        "    for chr in word:\n",
        "      fdist[chr.lower()] += 1\n",
        "  print(fdist.most_common())\n",
        "  print(fdist.most_common()[-5:])\n",
        "\n",
        "string = input()\n",
        "Tokenize(string)\n"
      ]
    },
    {
      "cell_type": "markdown",
      "source": [
        "2. Write a program to enter a string from user and perform following tasks.\n",
        "\n",
        "  •Write a python function named “RemoveStopWords” which returns the string after removing stop words\n",
        "\n",
        "  •Count frequency of each stop word present in a string using the above function\n",
        "\n",
        "  •Plot a bar graph depicting stop words and their frequencies"
      ],
      "metadata": {
        "id": "A1UMcO62cizm"
      }
    },
    {
      "cell_type": "code",
      "source": [
        "import nltk\n",
        "import pandas as pd\n",
        "from nltk.probability import FreqDist\n",
        "from nltk.corpus import stopwords\n",
        "import matplotlib.pyplot as plt\n",
        "nltk.download('stopwords')\n",
        "\n",
        "def RemoveStopWords(string):\n",
        "  str_lst = string.split()\n",
        "  stop_words = stopwords.words('english')\n",
        "\n",
        "  fdist = FreqDist()\n",
        "\n",
        "  for word in str_lst:\n",
        "    if word.lower() in stop_words:\n",
        "      fdist[word.lower()] += 1\n",
        "\n",
        "  print(fdist.most_common())\n",
        "\n",
        "  srs = pd.Series(dict(fdist))\n",
        "\n",
        "  plt.bar(srs[:26].index.tolist(), srs[:26].values.tolist())\n",
        "\n",
        "string = input()\n",
        "RemoveStopWords(string)"
      ],
      "metadata": {
        "id": "Opb4sXELaxfV",
        "colab": {
          "base_uri": "https://localhost:8080/",
          "height": 502
        },
        "outputId": "2565dc0e-eb7e-4b6a-b70b-9c0a7078b379"
      },
      "execution_count": 5,
      "outputs": [
        {
          "output_type": "stream",
          "name": "stderr",
          "text": [
            "[nltk_data] Downloading package stopwords to /root/nltk_data...\n",
            "[nltk_data]   Package stopwords is already up-to-date!\n"
          ]
        },
        {
          "output_type": "stream",
          "name": "stdout",
          "text": [
            "twinkle twinkle little star, how i wonder what you are , up above the world so high, like a diamond in the sky\n",
            "[('the', 2), ('how', 1), ('i', 1), ('what', 1), ('you', 1), ('are', 1), ('up', 1), ('above', 1), ('so', 1), ('a', 1), ('in', 1)]\n"
          ]
        },
        {
          "output_type": "display_data",
          "data": {
            "text/plain": [
              "<Figure size 640x480 with 1 Axes>"
            ],
            "image/png": "[encoded data removed]"
          },
          "metadata": {}
        }
      ]
    },
    {
      "cell_type": "markdown",
      "source": [
        "3. Write a program to enter a string from user and perform following tasks\n",
        "\n",
        "  •Write a python function named “Lemmatize” which returns a string after lemmatizing the string.\n",
        "\n",
        "  •Write a python function named “Stemmed” which returns a string after stemming the string. (Use any stemmer of your preference)\n",
        "\n",
        "  •Print all the words along with their lemmatized and stemmed form using the above functions\n",
        "\n",
        "  •Save these results in a csv file having 3 columns:\n",
        "  \n",
        "  Original Word\n",
        "\n",
        "  Lemmatized Form\n",
        "\n",
        "  Stemmed Form"
      ],
      "metadata": {
        "id": "weg0cBWURwMa"
      }
    },
    {
      "cell_type": "code",
      "source": [
        "from nltk.stem import PorterStemmer\n",
        "from nltk.stem import WordNetLemmatizer\n",
        "nltk.download('wordnet')\n",
        "import pandas as pd\n",
        "\n",
        "def Stemmed(string):\n",
        "  str_lst = string.split()\n",
        "  pst = PorterStemmer()\n",
        "  stem_lst=[]\n",
        "\n",
        "  for word in str_lst:\n",
        "    stem_lst.append(pst.stem(word))\n",
        "\n",
        "  return stem_lst\n",
        "\n",
        "\n",
        "def Lemmatize(string):\n",
        "  str_lst = string.split()\n",
        "  lem = WordNetLemmatizer()\n",
        "  lem_lst=[]\n",
        "\n",
        "  for word in str_lst:\n",
        "    lem_lst.append(lem.lemmatize(word))\n",
        "\n",
        "  return lem_lst, str_lst\n",
        "\n",
        "string = input()\n",
        "lems, words = Lemmatize(string)\n",
        "stems = Stemmed(string)\n",
        "\n",
        "for i in range(len(words)):\n",
        "  print(f\"word: {words[i]}, stem word: {stems[i]}, lemmatized word: {lems[i]}\")\n",
        "\n",
        "df = pd.DataFrame({\"Original Word\":words, \"Lemmatized Form\":lems, \"Stemmed Form\":stems})\n",
        "df.to_csv('./words_stem_lem.csv', index=False)"
      ],
      "metadata": {
        "colab": {
          "base_uri": "https://localhost:8080/"
        },
        "id": "lksCfvluRLZA",
        "outputId": "07043c15-77ed-435f-d5e1-e90342d13d7e"
      },
      "execution_count": 12,
      "outputs": [
        {
          "output_type": "stream",
          "name": "stderr",
          "text": [
            "[nltk_data] Downloading package wordnet to /root/nltk_data...\n",
            "[nltk_data]   Package wordnet is already up-to-date!\n"
          ]
        },
        {
          "output_type": "stream",
          "name": "stdout",
          "text": [
            "the quick brown fox jumps over the lazy frog\n",
            "word: the, stem word: the, lemmatized word: the\n",
            "word: quick, stem word: quick, lemmatized word: quick\n",
            "word: brown, stem word: brown, lemmatized word: brown\n",
            "word: fox, stem word: fox, lemmatized word: fox\n",
            "word: jumps, stem word: jump, lemmatized word: jump\n",
            "word: over, stem word: over, lemmatized word: over\n",
            "word: the, stem word: the, lemmatized word: the\n",
            "word: lazy, stem word: lazi, lemmatized word: lazy\n",
            "word: frog, stem word: frog, lemmatized word: frog\n"
          ]
        }
      ]
    },
    {
      "cell_type": "markdown",
      "source": [
        "4. Create a python file named “PreProcess” and perform the following tasks.\n",
        "\n",
        "  •Copy the function “Tokenize” in this file from question 1\n",
        "\n",
        "  •Copy the function “RemoveStopWords” in this file from question 2\n",
        "\n",
        "  •Copy the function “Lemmatize” in this file from question 3\n",
        "\n",
        "      Create a function named “Refine” which accepts a string and call the above 3 functions in the same order i.e. first Tokenize then RemoveStop Words then Lemmatize.\n",
        "\n",
        "      Remember:\n",
        "      >Inputted string will be input to Tokenize Function\n",
        "      >Tokenized String will be input to RemoveStopWords function\n",
        "      >StopWordsRemoved string will be input to Lemmatize function"
      ],
      "metadata": {
        "id": "4-D3ADqTX4Zh"
      }
    },
    {
      "cell_type": "code",
      "source": [
        "import nltk\n",
        "from nltk.corpus import stopwords\n",
        "import matplotlib.pyplot as plt\n",
        "nltk.download('stopwords')\n",
        "\n",
        "def Tokenize(string):\n",
        "  str_lst = string.split()\n",
        "  return str_lst\n",
        "\n",
        "def RemoveStopWords(string):\n",
        "  str_lst = string\n",
        "  stop_words = stopwords.words('english')\n",
        "  print(str_lst)\n",
        "  for word in str_lst:\n",
        "    print(word)\n",
        "    if word.lower() in stop_words:\n",
        "      str_lst.remove(word)\n",
        "\n",
        "  return str_lst\n",
        "\n",
        "def Lemmatize(string):\n",
        "  str_lst = string\n",
        "  lem = WordNetLemmatizer()\n",
        "  lem_lst=[]\n",
        "\n",
        "  for word in str_lst:\n",
        "    lem_lst.append(lem.lemmatize(word))\n",
        "\n",
        "  return lem_lst, str_lst\n",
        "\n",
        "def Refine():\n",
        "  string = input()\n",
        "  string = Tokenize(string)\n",
        "  string = RemoveStopWords(string)\n",
        "  string, words = Lemmatize(string)\n",
        "  string = \" \".join(string)\n",
        "  print(f\"refined string: {string}\")\n",
        "\n",
        "Refine()"
      ],
      "metadata": {
        "colab": {
          "base_uri": "https://localhost:8080/"
        },
        "id": "cNfHtr02Wf01",
        "outputId": "4b11d680-cfb2-47e8-a37b-0c73afeffe70"
      },
      "execution_count": 19,
      "outputs": [
        {
          "output_type": "stream",
          "name": "stderr",
          "text": [
            "[nltk_data] Downloading package stopwords to /root/nltk_data...\n",
            "[nltk_data]   Package stopwords is already up-to-date!\n"
          ]
        },
        {
          "output_type": "stream",
          "name": "stdout",
          "text": [
            "quick brown fox jumps over lazy frog\n",
            "['quick', 'brown', 'fox', 'jumps', 'over', 'lazy', 'frog']\n",
            "quick\n",
            "brown\n",
            "fox\n",
            "jumps\n",
            "over\n",
            "frog\n",
            "refined string: quick brown fox jump lazy frog\n"
          ]
        }
      ]
    },
    {
      "cell_type": "code",
      "source": [],
      "metadata": {
        "id": "ZjjL_iCiaM1K"
      },
      "execution_count": null,
      "outputs": []
    }
  ]
}