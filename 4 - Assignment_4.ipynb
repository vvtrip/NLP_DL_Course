{
  "nbformat": 4,
  "nbformat_minor": 0,
  "metadata": {
    "colab": {
      "provenance": [],
      "authorship_tag": "ABX9TyMl8+pO/kzD1k1gwZqvfU+D"
    },
    "kernelspec": {
      "name": "python3",
      "display_name": "Python 3"
    },
    "language_info": {
      "name": "python"
    }
  },
  "cells": [
    {
      "cell_type": "markdown",
      "source": [
        "1. Read the file “Brexit.docx” and write a function in Python named “GetNGrams” which takes a string and a number ‘n’ as input\n",
        "and returns n-grams from the string.\n",
        "\n",
        "  Example:\n",
        "\n",
        "  String: “John met with an accident”\n",
        "\n",
        "  Output:\n",
        "\n",
        "  When n=2 => [(John, met), (met, with), (with, an), (an, accident)]\n",
        "\n",
        "  When n=3 => [(John, met, with), (met, with, an), (with, an, accident)]\n",
        "\n",
        "  When n=4 => [(John, met, w\n",
        "  ith, an), (met, with, an, accident)]  "
      ],
      "metadata": {
        "id": "Xx0QLuwzdxTG"
      }
    },
    {
      "cell_type": "code",
      "execution_count": 1,
      "metadata": {
        "colab": {
          "base_uri": "https://localhost:8080/"
        },
        "id": "hwtBo12qdUMK",
        "outputId": "96b4d416-22a7-49eb-ca1c-4cc93fcc8525"
      },
      "outputs": [
        {
          "output_type": "stream",
          "name": "stdout",
          "text": [
            "Collecting python-docx\n",
            "  Downloading python_docx-1.0.0-py3-none-any.whl (236 kB)\n",
            "\u001b[?25l     \u001b[90m━━━━━━━━━━━━━━━━━━━━━━━━━━━━━━━━━━━━━━━━\u001b[0m \u001b[32m0.0/236.1 kB\u001b[0m \u001b[31m?\u001b[0m eta \u001b[36m-:--:--\u001b[0m\r\u001b[2K     \u001b[91m━━━━━━━━━━\u001b[0m\u001b[90m╺\u001b[0m\u001b[90m━━━━━━━━━━━━━━━━━━━━━━━━━━━━━\u001b[0m \u001b[32m61.4/236.1 kB\u001b[0m \u001b[31m1.8 MB/s\u001b[0m eta \u001b[36m0:00:01\u001b[0m\r\u001b[2K     \u001b[90m━━━━━━━━━━━━━━━━━━━━━━━━━━━━━━━━━━━━━━━\u001b[0m \u001b[32m236.1/236.1 kB\u001b[0m \u001b[31m4.0 MB/s\u001b[0m eta \u001b[36m0:00:00\u001b[0m\n",
            "\u001b[?25hRequirement already satisfied: lxml>=3.1.0 in /usr/local/lib/python3.10/dist-packages (from python-docx) (4.9.3)\n",
            "Requirement already satisfied: typing-extensions in /usr/local/lib/python3.10/dist-packages (from python-docx) (4.5.0)\n",
            "Installing collected packages: python-docx\n",
            "Successfully installed python-docx-1.0.0\n"
          ]
        }
      ],
      "source": [
        "!pip install python-docx\n",
        "import docx\n",
        "\n",
        "doc = docx.Document('Brexit.docx')"
      ]
    },
    {
      "cell_type": "code",
      "source": [
        "from nltk.util import ngrams\n",
        "from nltk.tokenize import word_tokenize\n",
        "import nltk\n",
        "nltk.download('punkt')\n",
        "\n",
        "def GetNGrams(string, n):\n",
        "\n",
        "  tok = word_tokenize(string)\n",
        "  ngrams_list = list(ngrams(tok, n))\n",
        "\n",
        "  return ngrams_list\n",
        "\n",
        "print(GetNGrams(input(), int(input())))\n"
      ],
      "metadata": {
        "colab": {
          "base_uri": "https://localhost:8080/"
        },
        "id": "k1aI6Ylddrbi",
        "outputId": "2696d29d-a700-4f76-b358-bb1c4d2d6eea"
      },
      "execution_count": 2,
      "outputs": [
        {
          "output_type": "stream",
          "name": "stderr",
          "text": [
            "[nltk_data] Downloading package punkt to /root/nltk_data...\n",
            "[nltk_data]   Unzipping tokenizers/punkt.zip.\n"
          ]
        },
        {
          "output_type": "stream",
          "name": "stdout",
          "text": [
            "quick brown fox jumps over the lazy dog\n",
            "4\n",
            "[('quick', 'brown', 'fox', 'jumps'), ('brown', 'fox', 'jumps', 'over'), ('fox', 'jumps', 'over', 'the'), ('jumps', 'over', 'the', 'lazy'), ('over', 'the', 'lazy', 'dog')]\n"
          ]
        }
      ]
    },
    {
      "cell_type": "markdown",
      "source": [
        "2. Read the file “Brexit.docx” and write python functions which take a string as an input and returns:\n",
        "\n",
        "  •Number of Nouns (all forms of noun). Take function name as “NounsCount”\n",
        "\n",
        "  •Number of Pronouns (all forms). Take function name as “PronounsCount”\n",
        "\n",
        "  •Number of Adjectives (all forms).Take function name as “AdjectivesCount”\n",
        "\n",
        "  •Number of Verbs (all forms).Take function name as “VerbsCount”\n",
        "\n",
        "  •Number of Adverbs (all forms).Take function name as “AdverbsCount”\n",
        "\n",
        "\n",
        "  Plot a pie chart showing the distribution of nouns, pronouns,\n",
        "  verbs, adverbs and adjectives."
      ],
      "metadata": {
        "id": "jqT7hJ4_fkyS"
      }
    },
    {
      "cell_type": "code",
      "source": [
        "import numpy as np\n",
        "import matplotlib.pyplot as plt\n",
        "import nltk\n",
        "nltk.download('averaged_perceptron_tagger')"
      ],
      "metadata": {
        "colab": {
          "base_uri": "https://localhost:8080/"
        },
        "id": "aSB_VN6xx3d1",
        "outputId": "5d95fcd9-342f-4eed-9dcc-14a28e9687a7"
      },
      "execution_count": 3,
      "outputs": [
        {
          "output_type": "stream",
          "name": "stderr",
          "text": [
            "[nltk_data] Downloading package averaged_perceptron_tagger to\n",
            "[nltk_data]     /root/nltk_data...\n",
            "[nltk_data]   Unzipping taggers/averaged_perceptron_tagger.zip.\n"
          ]
        },
        {
          "output_type": "execute_result",
          "data": {
            "text/plain": [
              "True"
            ]
          },
          "metadata": {},
          "execution_count": 3
        }
      ]
    },
    {
      "cell_type": "code",
      "source": [
        "from nltk.tag import pos_tag\n",
        "\n",
        "def NounsCount(string):\n",
        "  tok = word_tokenize(string)\n",
        "  tok = pos_tag(tok)\n",
        "  noun_words = [word for word in tok if word[1] in ('NN', 'NNS', 'NNP' ,'NNPS') ]\n",
        "  return len(noun_words)\n",
        "\n",
        "def PronounsCount(string):\n",
        "  tok = word_tokenize(string)\n",
        "  tok = pos_tag(tok)\n",
        "  pronoun_words = [word for word in tok if word[1] in ('PRP', 'PRP$', 'WP')]\n",
        "  return len(pronoun_words)\n",
        "\n",
        "def AdjectivesCount(string):\n",
        "  tok = word_tokenize(string)\n",
        "  tok = pos_tag(tok)\n",
        "  adjective_words = [word for word in tok if word[1] == 'JJ']\n",
        "  return len(adjective_words)\n",
        "\n",
        "def VerbsCount(string):\n",
        "  tok = word_tokenize(string)\n",
        "  tok = pos_tag(tok)\n",
        "  verbs_words = [word for word in tok if word[1] in ('VBZ', 'VBP', 'VBN', 'VBG', 'VBD', 'VB')]\n",
        "  return len(verbs_words)\n",
        "\n",
        "def AdverbsCount(string):\n",
        "  tok = word_tokenize(string)\n",
        "  tok = pos_tag(tok)\n",
        "  adverbs_words = [word for word in tok if word[1] in ('WRB', 'RBS', 'RB', 'RBR')]\n",
        "  return len(adverbs_words)\n",
        "\n",
        "string = doc.paragraphs[0].text\n",
        "noun = NounsCount(string)\n",
        "pronoun = PronounsCount(string)\n",
        "verbs = VerbsCount(string)\n",
        "adjective = AdjectivesCount(string)\n",
        "adverb = AdverbsCount(string)\n",
        "\n",
        "print(string)\n",
        "y = np.array([noun, pronoun, verbs, adjective, adverb])\n",
        "print(y)\n",
        "plt.pie(y, labels = ['noun', 'pronoun', 'verbs', 'adjective', 'adverbs'])\n",
        "plt.show()"
      ],
      "metadata": {
        "id": "RbzTbM4Ve5nY",
        "colab": {
          "base_uri": "https://localhost:8080/",
          "height": 462
        },
        "outputId": "e39e98df-4b44-4fa8-b9e7-2ae071d9225f"
      },
      "execution_count": 4,
      "outputs": [
        {
          "output_type": "stream",
          "name": "stdout",
          "text": [
            "Brexit is the impending withdrawal of the United Kingdom (UK) from the European Union (EU). In a referendum on 23 June 2016, a majority of British voters supported leaving the EU. On 29 March 2017, the UK government invoked Article 50 of the Treaty on European Union. The European Union (Withdrawal) Act 2018 declares \"exit day\" to be 29 March 2019 at 11 p.m. (Central European Time).\n",
            "[28  0  7  4  0]\n"
          ]
        },
        {
          "output_type": "display_data",
          "data": {
            "text/plain": [
              "<Figure size 640x480 with 1 Axes>"
            ],
            "image/png": "[encoded data removed]"
          },
          "metadata": {}
        }
      ]
    },
    {
      "cell_type": "markdown",
      "source": [
        "3. Read the file “Brexit.docx” and write python functions which take a string as an input and returns:\n",
        "\n",
        "  •Number of geo-Political entities present in the file.\n",
        "  Take function name as “GeoPoliticalCount”\n",
        "\n",
        "  •Number of Persons present in the file. Take function name as “\n",
        "  Persons Count”\n",
        "\n",
        "  •Numbers of Organizations mentioned in the file.\n",
        "  Take function name as “OrganizationsCount”"
      ],
      "metadata": {
        "id": "eKk4jK5g0Ua-"
      }
    },
    {
      "cell_type": "code",
      "source": [
        "nltk.download('maxent_ne_chunker')\n",
        "nltk.download('words')"
      ],
      "metadata": {
        "colab": {
          "base_uri": "https://localhost:8080/"
        },
        "id": "ni3jJaUy2hv0",
        "outputId": "9dd4f257-f7cf-431a-c3ad-f2ac66a98118"
      },
      "execution_count": 5,
      "outputs": [
        {
          "output_type": "stream",
          "name": "stderr",
          "text": [
            "[nltk_data] Downloading package maxent_ne_chunker to\n",
            "[nltk_data]     /root/nltk_data...\n",
            "[nltk_data]   Unzipping chunkers/maxent_ne_chunker.zip.\n",
            "[nltk_data] Downloading package words to /root/nltk_data...\n",
            "[nltk_data]   Unzipping corpora/words.zip.\n"
          ]
        },
        {
          "output_type": "execute_result",
          "data": {
            "text/plain": [
              "True"
            ]
          },
          "metadata": {},
          "execution_count": 5
        }
      ]
    },
    {
      "cell_type": "code",
      "source": [
        "from nltk import ne_chunk\n",
        "\n",
        "def GeoPoliticalCount(string):\n",
        "  tok = word_tokenize(string)\n",
        "  ne_tags = pos_tag(tok)\n",
        "  ne_ner = list(ne_chunk(ne_tags))\n",
        "  nn = [str(words) for words in ne_ner if 'GPE' in str(words)]\n",
        "  return nn\n",
        "\n",
        "def PersonsCount(string):\n",
        "  tok = word_tokenize(string)\n",
        "  ne_tags = pos_tag(tok)\n",
        "  ne_ner = list(ne_chunk(ne_tags))\n",
        "  nn = [str(words) for words in ne_ner if 'PERSON' in str(words)]\n",
        "  return nn\n",
        "\n",
        "def OrganizationsCount(string):\n",
        "  tok = word_tokenize(string)\n",
        "  ne_tags = pos_tag(tok)\n",
        "  ne_ner = list(ne_chunk(ne_tags))\n",
        "  nn = [str(words) for words in ne_ner if 'ORGANIZATION' in str(words)]\n",
        "  return nn\n",
        "\n",
        "string = doc.paragraphs[1].text\n",
        "print(string)\n",
        "geo_pol = GeoPoliticalCount(string)\n",
        "persons = PersonsCount(string)\n",
        "orgs = OrganizationsCount(string)\n",
        "\n",
        "print(f\"Total {len(geo_pol)} Geopolitical Entities detected as following\\n\")\n",
        "print(geo_pol)\n",
        "print(f\"\\nTotal {len(persons)} persons detected as following\\n\")\n",
        "print(persons)\n",
        "print(f\"\\nTotal {len(orgs)} organizations detected as following\\n\")\n",
        "print(orgs)"
      ],
      "metadata": {
        "colab": {
          "base_uri": "https://localhost:8080/"
        },
        "id": "6u5fpC851JK2",
        "outputId": "72d0be7d-0333-4a7e-e72c-6e7f755f8774"
      },
      "execution_count": 6,
      "outputs": [
        {
          "output_type": "stream",
          "name": "stdout",
          "text": [
            "Prime Minister Theresa May announced the government's intention not to seek permanent membership of the European single market or the EU customs union after leaving the EU and promised to repeal the European Communities Act of 1972 and incorporate existing European Union law into UK domestic law. A new government department, the Department for Exiting the European Union, was created in July 2016.\n",
            "Total 4 Geopolitical Entities detected as following\n",
            "\n",
            "['(GPE European/JJ)', '(GPE EU/NNP)', '(GPE EU/NNP)', '(GPE European/NNP Union/NNP)']\n",
            "\n",
            "Total 1 persons detected as following\n",
            "\n",
            "['(PERSON Theresa/NNP May/NNP)']\n",
            "\n",
            "Total 4 organizations detected as following\n",
            "\n",
            "['(ORGANIZATION European/NNP)', '(ORGANIZATION UK/NNP)', '(ORGANIZATION Department/NNP)', '(ORGANIZATION European/NNP Union/NNP)']\n"
          ]
        }
      ]
    },
    {
      "cell_type": "markdown",
      "source": [
        "4. Answer the following questions:\n",
        "\n",
        "  •Most frequent bi-gram from the data\n",
        "\n",
        "  •Most frequent Noun\n",
        "\n",
        "  •Most frequent GeoPolitical Entity\n",
        "\n",
        "  •Most frequent person"
      ],
      "metadata": {
        "id": "j64K3VP40ZF4"
      }
    },
    {
      "cell_type": "code",
      "source": [
        "from nltk.util import ngrams\n",
        "from nltk.probability import FreqDist\n",
        "from nltk.tokenize import word_tokenize\n",
        "import nltk\n",
        "nltk.download('punkt')"
      ],
      "metadata": {
        "colab": {
          "base_uri": "https://localhost:8080/"
        },
        "id": "l6b5agX97UYN",
        "outputId": "1d95f806-55b2-44a6-a7a4-97eb4555ef64"
      },
      "execution_count": 7,
      "outputs": [
        {
          "output_type": "stream",
          "name": "stderr",
          "text": [
            "[nltk_data] Downloading package punkt to /root/nltk_data...\n",
            "[nltk_data]   Package punkt is already up-to-date!\n"
          ]
        },
        {
          "output_type": "execute_result",
          "data": {
            "text/plain": [
              "True"
            ]
          },
          "metadata": {},
          "execution_count": 7
        }
      ]
    },
    {
      "cell_type": "code",
      "source": [
        "def GetNGrams(string, n):\n",
        "\n",
        "  tok = word_tokenize(string)\n",
        "  ngrams_list = list(ngrams(tok, n))\n",
        "\n",
        "  return ngrams_list\n",
        "\n",
        "lst = GetNGrams(string, 2)\n",
        "fdist = FreqDist()\n",
        "for i in lst:\n",
        "  fdist[i] += 1\n",
        "fdist.most_common(1)"
      ],
      "metadata": {
        "colab": {
          "base_uri": "https://localhost:8080/"
        },
        "id": "pYfi69wQwXYf",
        "outputId": "0ef186dc-c77d-4603-8fe7-aa5c4d842d0a"
      },
      "execution_count": 8,
      "outputs": [
        {
          "output_type": "execute_result",
          "data": {
            "text/plain": [
              "[(('the', 'European'), 3)]"
            ]
          },
          "metadata": {},
          "execution_count": 8
        }
      ]
    },
    {
      "cell_type": "markdown",
      "source": [
        "# Alternate solution"
      ],
      "metadata": {
        "id": "J0GLqea5z24t"
      }
    },
    {
      "cell_type": "markdown",
      "source": [
        "1. Read the file “Brexit.docx” and write a function in Python named “GetNGrams” which takes a string and a number ‘n’ as input and returns n-grams from the string."
      ],
      "metadata": {
        "id": "Qck79zRUz7Qo"
      }
    },
    {
      "cell_type": "code",
      "source": [
        "#Reading file and content from user\n",
        "\n",
        "document = docx.Document('Brexit.docx')\n",
        "content=[]\n",
        "for each in document.paragraphs:\n",
        "    content.append(each.text)\n",
        "content=\" \".join(content)\n",
        "\n",
        "#NGram Function\n",
        "import nltk\n",
        "def GetNGrams(string,n):\n",
        "    tokens=nltk.tokenize.word_tokenize(string)\n",
        "    return list(nltk.ngrams(tokens,n))"
      ],
      "metadata": {
        "id": "Tycumaxn7JaZ"
      },
      "execution_count": 10,
      "outputs": []
    },
    {
      "cell_type": "markdown",
      "source": [
        "2. Read the file “Brexit.docx” and write python functions which take a string as an input and returns:\n",
        "\n",
        "\n",
        "•\tNumber of Nouns (all forms of noun). Take function name as “NounsCount”\n",
        "\n",
        "•\tNumber of Pronouns (all forms). Take function name as “PronounsCount”\n",
        "\n",
        "•\tNumber of Adjectives (all forms). Take function name as “AdjectivesCount”\n",
        "\n",
        "•\tNumber of Verbs (all forms). Take function name as “VerbsCount”\n",
        "\n",
        "•\tNumber of Adverbs (all forms). Take function name as “AdverbsCount”"
      ],
      "metadata": {
        "id": "QU0yXiwl0oYn"
      }
    },
    {
      "cell_type": "code",
      "source": [
        "def GetPOSTags(string):\n",
        "    tokens=nltk.word_tokenize(string)\n",
        "    pos_tags=nltk.pos_tag(tokens)\n",
        "    return pos_tags\n",
        "\n",
        "#Number of Nouns\n",
        "def NounsCount(string):\n",
        "    POSTags=GetPOSTags(string)\n",
        "    allForms=['NN','NNP','NNS','NNPS']\n",
        "    count=0\n",
        "    for word,tag in POSTags:\n",
        "        if tag in allForms:\n",
        "            count+=1\n",
        "    return count\n",
        "\n",
        "#Number of Pronouns\n",
        "def PronounsCount(string):\n",
        "    POSTags=GetPOSTags(string)\n",
        "    allForms=['PRP','PRP$']\n",
        "    count=0\n",
        "    for word,tag in POSTags:\n",
        "        if tag in allForms:\n",
        "            count+=1\n",
        "    return count\n",
        "\n",
        "#Number of Verbs\n",
        "def VerbsCount(string):\n",
        "    POSTags=GetPOSTags(string)\n",
        "    allForms=['VB','VBP','VBZ','VBG','VBD','VBN']\n",
        "    count=0\n",
        "    for word,tag in POSTags:\n",
        "        if tag in allForms:\n",
        "            count+=1\n",
        "    return count\n",
        "\n",
        "#Number of Adjectives\n",
        "def AdjectivesCount(string):\n",
        "    POSTags=GetPOSTags(string)\n",
        "    allForms=['JJ','JJR','JJS']\n",
        "    count=0\n",
        "    for word,tag in POSTags:\n",
        "        if tag in allForms:\n",
        "            count+=1\n",
        "    return count\n",
        "\n",
        "#Number of Adverbs\n",
        "def AdverbsCount(string):\n",
        "    POSTags=GetPOSTags(string)\n",
        "    allForms=['RB','RBR']\n",
        "    count=0\n",
        "    for word,tag in POSTags:\n",
        "        if tag in allForms:\n",
        "            count+=1\n",
        "    return count"
      ],
      "metadata": {
        "id": "wI5VgWTF004r"
      },
      "execution_count": 14,
      "outputs": []
    },
    {
      "cell_type": "code",
      "source": [
        "nouns=NounsCount(content)\n",
        "pronouns=PronounsCount(content)\n",
        "adjectives=AdjectivesCount(content)\n",
        "adverbs=AdverbsCount(content)\n",
        "verbs=VerbsCount(content)\n",
        "allTags=[nouns,pronouns,adverbs,adjectives,verbs]\n",
        "labels=['NounsCount','PronounsCount','AdverbsCount','AdjectivesCount','VerbsCount']\n",
        "\n",
        "import matplotlib.pyplot as plt\n",
        "plt.figure(figsize=(5,5))\n",
        "plt.pie(allTags,labels=labels)\n",
        "plt.show()"
      ],
      "metadata": {
        "colab": {
          "base_uri": "https://localhost:8080/",
          "height": 422
        },
        "id": "kred5szI04MP",
        "outputId": "f0896b0d-dfc7-4b66-c162-675867ec89e0"
      },
      "execution_count": 15,
      "outputs": [
        {
          "output_type": "display_data",
          "data": {
            "text/plain": [
              "<Figure size 500x500 with 1 Axes>"
            ],
            "image/png": "[encoded data removed]"
          },
          "metadata": {}
        }
      ]
    },
    {
      "cell_type": "markdown",
      "source": [
        "3. Read the file “Brexit.docx” and write python functions which take a string as an input and returns:\n",
        "\n",
        "  •\tNumber of geo-Political entities present in the file. Take function name as “GeoPoliticalCount”\n",
        "\n",
        "  •\tNumber of Persons present in the file. Take function name as “PersonsCount”\n",
        "\n",
        "  •\tNumbers of Organizations mentioned in the file. Take function name as “OrganizationsCount”"
      ],
      "metadata": {
        "id": "kxPe_uWf09ML"
      }
    },
    {
      "cell_type": "code",
      "source": [
        "# Run nltk.download('maxent_ne_chunker') and nltk.download('words') to use 'NE Chunk'\n",
        "import nltk\n",
        "from nltk import ne_chunk\n",
        "def GetNERTags(string):\n",
        "    tokens=nltk.word_tokenize(string)\n",
        "    POSTags=nltk.pos_tag(tokens)\n",
        "    NER=ne_chunk(POSTags)\n",
        "    return NER\n",
        "\n",
        "#Number of GeoPolitical entities\n",
        "def GeoPoliticalCount(string):\n",
        "    NER=GetNERTags(string)\n",
        "    count=0\n",
        "    for each in NER:\n",
        "        if hasattr(each, 'label') and each.label()==\"GPE\":\n",
        "            count+=1\n",
        "    return count\n",
        "\n",
        "#Number of Persons\n",
        "def PersonsCount(string):\n",
        "    NER=GetNERTags(string)\n",
        "    count=0\n",
        "    for each in NER:\n",
        "        if hasattr(each, 'label') and each.label()==\"PERSON\":\n",
        "            count+=1\n",
        "    return count\n",
        "\n",
        "#Number of Organizations\n",
        "def OrganizationCount(string):\n",
        "    NER=GetNERTags(string)\n",
        "    count=0\n",
        "    for each in NER:\n",
        "        if hasattr(each, 'label') and each.label()==\"ORGANIZATION\":\n",
        "            count+=1\n",
        "    return count\n"
      ],
      "metadata": {
        "id": "eZT5c2W805K4"
      },
      "execution_count": 16,
      "outputs": []
    },
    {
      "cell_type": "markdown",
      "source": [
        "4 Answer the following questions:\n",
        "\n",
        "•\tMost frequent bi-gram from the data\n",
        "\n",
        "•\tMost frequent Noun\n",
        "\n",
        "•\tMost frequent GeoPolitical Entity\n",
        "\n",
        "•\tMost frequent person\n"
      ],
      "metadata": {
        "id": "b81Cp_gI1Wy7"
      }
    },
    {
      "cell_type": "code",
      "source": [
        "#Most frequent bi-gram from the data\n",
        "from collections import Counter\n",
        "bigrams=GetNGrams(content,2)\n",
        "c=Counter(bigrams)\n",
        "c.most_common(1)"
      ],
      "metadata": {
        "colab": {
          "base_uri": "https://localhost:8080/"
        },
        "id": "thusmrHD1R86",
        "outputId": "cd198b34-3da0-4030-8f8e-dc62154c1421"
      },
      "execution_count": 17,
      "outputs": [
        {
          "output_type": "execute_result",
          "data": {
            "text/plain": [
              "[((',', 'the'), 7)]"
            ]
          },
          "metadata": {},
          "execution_count": 17
        }
      ]
    },
    {
      "cell_type": "code",
      "source": [
        "#Most frequent Noun Entity\n",
        "from collections import Counter\n",
        "import nltk\n",
        "\n",
        "tokens=nltk.word_tokenize(content)\n",
        "pos_tags=nltk.pos_tag(tokens)\n",
        "allFormsOfNoun=['NN','NNP','NNS','NNPS']\n",
        "allNouns=[]\n",
        "for word,tag in pos_tags:\n",
        "    if tag in allFormsOfNoun:\n",
        "        allNouns.append((word))\n",
        "c=Counter(allNouns)\n",
        "c.most_common(1)"
      ],
      "metadata": {
        "colab": {
          "base_uri": "https://localhost:8080/"
        },
        "id": "povhcQ6B1dy2",
        "outputId": "8206a9d6-6137-4dc5-c72e-d936ee7316a2"
      },
      "execution_count": 18,
      "outputs": [
        {
          "output_type": "execute_result",
          "data": {
            "text/plain": [
              "[('UK', 13)]"
            ]
          },
          "metadata": {},
          "execution_count": 18
        }
      ]
    },
    {
      "cell_type": "code",
      "source": [
        "#Most frequent GeoPolitical Entity\n",
        "from collections import Counter\n",
        "import nltk\n",
        "\n",
        "#use the function created above\n",
        "from nltk import ne_chunk\n",
        "def GetNERTags(string):\n",
        "    tokens=nltk.word_tokenize(string)\n",
        "    POSTags=nltk.pos_tag(tokens)\n",
        "    NER=ne_chunk(POSTags)\n",
        "    return NER\n",
        "\n",
        "#Get it for content of the file\n",
        "NER=GetNERTags(content)\n",
        "GlobalPoliticalEntities=[]\n",
        "for each in NER:\n",
        "    if hasattr(each, 'label') and each.label()==\"GPE\":\n",
        "        GlobalPoliticalEntities.append(each[0][0])\n",
        "\n",
        "c=Counter(GlobalPoliticalEntities)\n",
        "c.most_common(1)"
      ],
      "metadata": {
        "colab": {
          "base_uri": "https://localhost:8080/"
        },
        "id": "AC8J8V5s1ei2",
        "outputId": "8a8f682d-e6db-45bf-cbdd-75a2d8bd7643"
      },
      "execution_count": 19,
      "outputs": [
        {
          "output_type": "execute_result",
          "data": {
            "text/plain": [
              "[('EU', 8)]"
            ]
          },
          "metadata": {},
          "execution_count": 19
        }
      ]
    },
    {
      "cell_type": "code",
      "source": [
        "#Most frequent Person\n",
        "from collections import Counter\n",
        "import nltk\n",
        "\n",
        "#use the function created above\n",
        "from nltk import ne_chunk\n",
        "def GetNERTags(string):\n",
        "    tokens=nltk.word_tokenize(string)\n",
        "    POSTags=nltk.pos_tag(tokens)\n",
        "    NER=ne_chunk(POSTags)\n",
        "    return NER\n",
        "\n",
        "#Get it for content of the file\n",
        "NER=GetNERTags(content)\n",
        "PERSON=[]\n",
        "for each in NER:\n",
        "    if hasattr(each, 'label') and each.label()==\"PERSON\":\n",
        "        PERSON.append(each[0][0])\n",
        "\n",
        "c=Counter(PERSON)\n",
        "c.most_common(1)"
      ],
      "metadata": {
        "colab": {
          "base_uri": "https://localhost:8080/"
        },
        "id": "5bG-yDiK1hKn",
        "outputId": "e7208b4f-3236-4d56-e5aa-6bd791e2a079"
      },
      "execution_count": 20,
      "outputs": [
        {
          "output_type": "execute_result",
          "data": {
            "text/plain": [
              "[('Theresa', 2)]"
            ]
          },
          "metadata": {},
          "execution_count": 20
        }
      ]
    },
    {
      "cell_type": "code",
      "source": [],
      "metadata": {
        "id": "LbtfA_211kfn"
      },
      "execution_count": null,
      "outputs": []
    }
  ]
}