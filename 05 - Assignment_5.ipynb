{
  "nbformat": 4,
  "nbformat_minor": 0,
  "metadata": {
    "colab": {
      "provenance": [],
      "authorship_tag": "ABX9TyNWszkUE000YYjL62RKLn60"
    },
    "kernelspec": {
      "name": "python3",
      "display_name": "Python 3"
    },
    "language_info": {
      "name": "python"
    }
  },
  "cells": [
    {
      "cell_type": "markdown",
      "source": [
        "1.Write separate python functions which accepts a string and a number ‘n’ and return the following:\n",
        "\n",
        "a. N most frequent Nouns Take function name as “GetNMostFrequentNouns”\n",
        "\n",
        "\n",
        "b.N most frequent Verbs.Take function name as “GetNMostFrequentVerbs”\n",
        "\n",
        "\n",
        "c.N most frequent Delimiters.Take function name as “GetNMostFrequentDelimiters”\n",
        "\n",
        "\n",
        "d.N most frequent Prepositions.Take function name as “GetNMostFrequentPrepositions”\n",
        "\n",
        "\n",
        "** These functions will help you to in last question of this case study.\n",
        "\n",
        "\n",
        "Run all the function on the file “FIFAWorldCup2018.txt” and print the results."
      ],
      "metadata": {
        "id": "QHIn2zoRcBI2"
      }
    },
    {
      "cell_type": "code",
      "source": [
        "import nltk\n",
        "from nltk.tokenize import word_tokenize\n",
        "from nltk.probability import FreqDist\n",
        "nltk.download('punkt')\n",
        "nltk.download('averaged_perceptron_tagger')"
      ],
      "metadata": {
        "colab": {
          "base_uri": "https://localhost:8080/"
        },
        "id": "l12Zp_CidHgO",
        "outputId": "f01cfdd8-5df8-4426-bbc1-88edf81352a6"
      },
      "execution_count": 23,
      "outputs": [
        {
          "output_type": "stream",
          "name": "stderr",
          "text": [
            "[nltk_data] Downloading package punkt to /root/nltk_data...\n",
            "[nltk_data]   Package punkt is already up-to-date!\n",
            "[nltk_data] Downloading package averaged_perceptron_tagger to\n",
            "[nltk_data]     /root/nltk_data...\n",
            "[nltk_data]   Package averaged_perceptron_tagger is already up-to-\n",
            "[nltk_data]       date!\n"
          ]
        },
        {
          "output_type": "execute_result",
          "data": {
            "text/plain": [
              "True"
            ]
          },
          "metadata": {},
          "execution_count": 23
        }
      ]
    },
    {
      "cell_type": "code",
      "source": [
        "fl = open('/content/FIFAWorldCup2018.txt','r+', encoding='cp1252')\n",
        "string = fl.read()\n",
        "fl.close()\n",
        "\n",
        "def GetNMostFrequentNouns(string, n):\n",
        "\n",
        "    tokens=nltk.word_tokenize(string)\n",
        "    POSTags=nltk.pos_tag(tokens)\n",
        "\n",
        "    allForms=['NN','NNP','NNS','NNPS']\n",
        "    count=0\n",
        "    nn = []\n",
        "    fdist=FreqDist()\n",
        "\n",
        "    for word,tag in POSTags:\n",
        "        if tag in allForms:\n",
        "            fdist[word] +=1\n",
        "    return fdist.most_common(n)\n",
        "\n",
        "\n",
        "n = 5\n",
        "GetNMostFrequentNouns(string,n)"
      ],
      "metadata": {
        "colab": {
          "base_uri": "https://localhost:8080/"
        },
        "id": "0fiKcnyRdBRu",
        "outputId": "e19079a7-02ee-44ea-d5bf-d762157c1001"
      },
      "execution_count": 24,
      "outputs": [
        {
          "output_type": "execute_result",
          "data": {
            "text/plain": [
              "[('World', 15), ('Cup', 14), ('FIFA', 12), ('Russia', 5), ('tournament', 4)]"
            ]
          },
          "metadata": {},
          "execution_count": 24
        }
      ]
    },
    {
      "cell_type": "code",
      "source": [
        "def GetNMostFrequentVerbs(string, n):\n",
        "\n",
        "    tokens=nltk.word_tokenize(string)\n",
        "    POSTags=nltk.pos_tag(tokens)\n",
        "\n",
        "    allForms=['VB','VBP','VBZ','VBG','VBD','VBN']\n",
        "    count=0\n",
        "    nn = []\n",
        "    fdist=FreqDist()\n",
        "\n",
        "    for word,tag in POSTags:\n",
        "        if tag in allForms:\n",
        "            fdist[word] +=1\n",
        "    return fdist.most_common(n)\n",
        "\n",
        "\n",
        "n = 5\n",
        "GetNMostFrequentVerbs(string,n)"
      ],
      "metadata": {
        "colab": {
          "base_uri": "https://localhost:8080/"
        },
        "id": "AnTPeUJydmZq",
        "outputId": "f8efc674-82c4-44c5-af3d-59301923820e"
      },
      "execution_count": 25,
      "outputs": [
        {
          "output_type": "execute_result",
          "data": {
            "text/plain": [
              "[('was', 11), ('had', 7), ('were', 7), ('is', 3), ('won', 3)]"
            ]
          },
          "metadata": {},
          "execution_count": 25
        }
      ]
    },
    {
      "cell_type": "code",
      "source": [
        "def GetNMostFrequentDelimiters(string, n):\n",
        "\n",
        "    tokens=nltk.word_tokenize(string)\n",
        "    POSTags=nltk.pos_tag(tokens)\n",
        "\n",
        "    allForms=[',',\"'\",'!','#','@','%','&','*','.','?']\n",
        "    count=0\n",
        "    nn = []\n",
        "    fdist=FreqDist()\n",
        "\n",
        "    for word,tag in POSTags:\n",
        "        if tag in allForms:\n",
        "            fdist[word] +=1\n",
        "    return fdist.most_common(n)\n",
        "\n",
        "\n",
        "n = 5\n",
        "GetNMostFrequentDelimiters(string,n)"
      ],
      "metadata": {
        "colab": {
          "base_uri": "https://localhost:8080/"
        },
        "id": "qcrcbsc1gu3p",
        "outputId": "98b66423-f8e3-4c51-b9f4-6bd3027595bf"
      },
      "execution_count": 26,
      "outputs": [
        {
          "output_type": "execute_result",
          "data": {
            "text/plain": [
              "[(',', 40), ('.', 28)]"
            ]
          },
          "metadata": {},
          "execution_count": 26
        }
      ]
    },
    {
      "cell_type": "code",
      "source": [
        "def GetNMostFrequentPrepositions(string, n):\n",
        "\n",
        "    tokens=nltk.word_tokenize(string)\n",
        "    POSTags=nltk.pos_tag(tokens)\n",
        "\n",
        "    allForms=['IN']\n",
        "    count=0\n",
        "    nn = []\n",
        "    fdist=FreqDist()\n",
        "\n",
        "    for word,tag in POSTags:\n",
        "        if tag in allForms:\n",
        "            fdist[word] +=1\n",
        "    return fdist.most_common(n)\n",
        "\n",
        "\n",
        "n = 5\n",
        "GetNMostFrequentPrepositions(string,n)"
      ],
      "metadata": {
        "colab": {
          "base_uri": "https://localhost:8080/"
        },
        "id": "tcNoFHFDibz1",
        "outputId": "73718e2b-9a94-4165-b8af-94743a662ccb"
      },
      "execution_count": 27,
      "outputs": [
        {
          "output_type": "execute_result",
          "data": {
            "text/plain": [
              "[('of', 29), ('in', 18), ('from', 10), ('for', 8), ('that', 5)]"
            ]
          },
          "metadata": {},
          "execution_count": 27
        }
      ]
    },
    {
      "cell_type": "markdown",
      "source": [
        "2.\n",
        "Write a python function which accepts a string and print the first  sentence in the string along with its syntax tree.\n",
        "\n",
        "\n",
        "Take function name as “PrintSyntaxTree”Run this function on the file “FIFAWorldCup2018.txt”"
      ],
      "metadata": {
        "id": "1p34CSn4j6GA"
      }
    },
    {
      "cell_type": "code",
      "source": [
        "import nltk\n",
        "nltk.download('punkt')\n",
        "nltk.download('averaged_perceptron_tagger')\n",
        "!pip install svgling"
      ],
      "metadata": {
        "colab": {
          "base_uri": "https://localhost:8080/"
        },
        "id": "M-GGzAqo4pBJ",
        "outputId": "2141c22b-cca9-4a83-a7b7-d25c00a1f98b"
      },
      "execution_count": 28,
      "outputs": [
        {
          "output_type": "stream",
          "name": "stderr",
          "text": [
            "[nltk_data] Downloading package punkt to /root/nltk_data...\n",
            "[nltk_data]   Package punkt is already up-to-date!\n",
            "[nltk_data] Downloading package averaged_perceptron_tagger to\n",
            "[nltk_data]     /root/nltk_data...\n",
            "[nltk_data]   Package averaged_perceptron_tagger is already up-to-\n",
            "[nltk_data]       date!\n"
          ]
        },
        {
          "output_type": "stream",
          "name": "stdout",
          "text": [
            "Requirement already satisfied: svgling in /usr/local/lib/python3.10/dist-packages (0.4.0)\n",
            "Requirement already satisfied: svgwrite in /usr/local/lib/python3.10/dist-packages (from svgling) (1.4.3)\n"
          ]
        }
      ]
    },
    {
      "cell_type": "code",
      "source": [
        "def PrintSyntaxTree(sent):\n",
        "    first_sent=sent.split(\".\")[0]+\".\"\n",
        "    sent_tokens=nltk.pos_tag(nltk.word_tokenize(first_sent))\n",
        "    grammar=r\"NP:{<DT>?<JJ>*<NN>}\"\n",
        "    chunk_parser=nltk.RegexpParser(grammar)\n",
        "    chunk_result=chunk_parser.parse(sent_tokens)\n",
        "    print(first_sent)\n",
        "    return chunk_result\n",
        "\n",
        "file=open(\"/content/FIFAWorldCup2018.txt\",'r',encoding='cp1252')\n",
        "content=file.read()\n",
        "file.close()\n",
        "\n",
        "#Printing the tree\n",
        "PrintSyntaxTree(content)"
      ],
      "metadata": {
        "colab": {
          "base_uri": "https://localhost:8080/",
          "height": 227
        },
        "id": "Y6Jj3Xzh3-vl",
        "outputId": "39e7ccdb-1b81-4f8d-d69c-97a760736a95"
      },
      "execution_count": 29,
      "outputs": [
        {
          "output_type": "stream",
          "name": "stdout",
          "text": [
            "2018 FIFA World CUP is an international tournament where all teams compete religously and they showcase beautiful talent.\n"
          ]
        },
        {
          "output_type": "execute_result",
          "data": {
            "text/plain": [
              "Tree('S', [('2018', 'CD'), ('FIFA', 'NNP'), ('World', 'NNP'), ('CUP', 'NNP'), ('is', 'VBZ'), Tree('NP', [('an', 'DT'), ('international', 'JJ'), ('tournament', 'NN')]), ('where', 'WRB'), ('all', 'DT'), ('teams', 'NNS'), ('compete', 'VBP'), ('religously', 'RB'), ('and', 'CC'), ('they', 'PRP'), ('showcase', 'VBP'), Tree('NP', [('beautiful', 'JJ'), ('talent', 'NN')]), ('.', '.')])"
            ],
            "image/svg+xml": "<svg baseProfile=\"full\" height=\"168px\" preserveAspectRatio=\"xMidYMid meet\" style=\"font-family: times, serif; font-weight: normal; font-style: normal; font-size: 16px;\" version=\"1.1\" viewBox=\"0,0,1144.0,168.0\" width=\"1144px\" xmlns=\"http://www.w3.org/2000/svg\" xmlns:ev=\"http://www.w3.org/2001/xml-events\" xmlns:xlink=\"http://www.w3.org/1999/xlink\"><defs /><svg width=\"100%\" x=\"0\" y=\"0px\"><defs /><text text-anchor=\"middle\" x=\"50%\" y=\"16px\">S</text></svg><svg width=\"4.1958%\" x=\"0%\" y=\"48px\"><defs /><svg width=\"100%\" x=\"0\" y=\"0px\"><defs /><text text-anchor=\"middle\" x=\"50%\" y=\"16px\">2018</text></svg><svg width=\"100%\" x=\"0%\" y=\"48px\"><defs /><svg width=\"100%\" x=\"0\" y=\"0px\"><defs /><text text-anchor=\"middle\" x=\"50%\" y=\"16px\">CD</text></svg></svg><line stroke=\"black\" x1=\"50%\" x2=\"50%\" y1=\"19.2px\" y2=\"48px\" /></svg><line stroke=\"black\" x1=\"50%\" x2=\"2.0979%\" y1=\"19.2px\" y2=\"48px\" /><svg width=\"4.1958%\" x=\"4.1958%\" y=\"48px\"><defs /><svg width=\"100%\" x=\"0\" y=\"0px\"><defs /><text text-anchor=\"middle\" x=\"50%\" y=\"16px\">FIFA</text></svg><svg width=\"100%\" x=\"0%\" y=\"48px\"><defs /><svg width=\"100%\" x=\"0\" y=\"0px\"><defs /><text text-anchor=\"middle\" x=\"50%\" y=\"16px\">NNP</text></svg></svg><line stroke=\"black\" x1=\"50%\" x2=\"50%\" y1=\"19.2px\" y2=\"48px\" /></svg><line stroke=\"black\" x1=\"50%\" x2=\"6.29371%\" y1=\"19.2px\" y2=\"48px\" /><svg width=\"4.8951%\" x=\"8.39161%\" y=\"48px\"><defs /><svg width=\"100%\" x=\"0\" y=\"0px\"><defs /><text text-anchor=\"middle\" x=\"50%\" y=\"16px\">World</text></svg><svg width=\"100%\" x=\"0%\" y=\"48px\"><defs /><svg width=\"100%\" x=\"0\" y=\"0px\"><defs /><text text-anchor=\"middle\" x=\"50%\" y=\"16px\">NNP</text></svg></svg><line stroke=\"black\" x1=\"50%\" x2=\"50%\" y1=\"19.2px\" y2=\"48px\" /></svg><line stroke=\"black\" x1=\"50%\" x2=\"10.8392%\" y1=\"19.2px\" y2=\"48px\" /><svg width=\"3.4965%\" x=\"13.2867%\" y=\"48px\"><defs /><svg width=\"100%\" x=\"0\" y=\"0px\"><defs /><text text-anchor=\"middle\" x=\"50%\" y=\"16px\">CUP</text></svg><svg width=\"100%\" x=\"0%\" y=\"48px\"><defs /><svg width=\"100%\" x=\"0\" y=\"0px\"><defs /><text text-anchor=\"middle\" x=\"50%\" y=\"16px\">NNP</text></svg></svg><line stroke=\"black\" x1=\"50%\" x2=\"50%\" y1=\"19.2px\" y2=\"48px\" /></svg><line stroke=\"black\" x1=\"50%\" x2=\"15.035%\" y1=\"19.2px\" y2=\"48px\" /><svg width=\"3.4965%\" x=\"16.7832%\" y=\"48px\"><defs /><svg width=\"100%\" x=\"0\" y=\"0px\"><defs /><text text-anchor=\"middle\" x=\"50%\" y=\"16px\">is</text></svg><svg width=\"100%\" x=\"0%\" y=\"48px\"><defs /><svg width=\"100%\" x=\"0\" y=\"0px\"><defs /><text text-anchor=\"middle\" x=\"50%\" y=\"16px\">VBZ</text></svg></svg><line stroke=\"black\" x1=\"50%\" x2=\"50%\" y1=\"19.2px\" y2=\"48px\" /></svg><line stroke=\"black\" x1=\"50%\" x2=\"18.5315%\" y1=\"19.2px\" y2=\"48px\" /><svg width=\"21.6783%\" x=\"20.2797%\" y=\"48px\"><defs /><svg width=\"100%\" x=\"0\" y=\"0px\"><defs /><text text-anchor=\"middle\" x=\"50%\" y=\"16px\">NP</text></svg><svg width=\"12.9032%\" x=\"0%\" y=\"48px\"><defs /><svg width=\"100%\" x=\"0\" y=\"0px\"><defs /><text text-anchor=\"middle\" x=\"50%\" y=\"16px\">an</text></svg><svg width=\"100%\" x=\"0%\" y=\"48px\"><defs /><svg width=\"100%\" x=\"0\" y=\"0px\"><defs /><text text-anchor=\"middle\" x=\"50%\" y=\"16px\">DT</text></svg></svg><line stroke=\"black\" x1=\"50%\" x2=\"50%\" y1=\"19.2px\" y2=\"48px\" /></svg><line stroke=\"black\" x1=\"50%\" x2=\"6.45161%\" y1=\"19.2px\" y2=\"48px\" /><svg width=\"48.3871%\" x=\"12.9032%\" y=\"48px\"><defs /><svg width=\"100%\" x=\"0\" y=\"0px\"><defs /><text text-anchor=\"middle\" x=\"50%\" y=\"16px\">international</text></svg><svg width=\"100%\" x=\"0%\" y=\"48px\"><defs /><svg width=\"100%\" x=\"0\" y=\"0px\"><defs /><text text-anchor=\"middle\" x=\"50%\" y=\"16px\">JJ</text></svg></svg><line stroke=\"black\" x1=\"50%\" x2=\"50%\" y1=\"19.2px\" y2=\"48px\" /></svg><line stroke=\"black\" x1=\"50%\" x2=\"37.0968%\" y1=\"19.2px\" y2=\"48px\" /><svg width=\"38.7097%\" x=\"61.2903%\" y=\"48px\"><defs /><svg width=\"100%\" x=\"0\" y=\"0px\"><defs /><text text-anchor=\"middle\" x=\"50%\" y=\"16px\">tournament</text></svg><svg width=\"100%\" x=\"0%\" y=\"48px\"><defs /><svg width=\"100%\" x=\"0\" y=\"0px\"><defs /><text text-anchor=\"middle\" x=\"50%\" y=\"16px\">NN</text></svg></svg><line stroke=\"black\" x1=\"50%\" x2=\"50%\" y1=\"19.2px\" y2=\"48px\" /></svg><line stroke=\"black\" x1=\"50%\" x2=\"80.6452%\" y1=\"19.2px\" y2=\"48px\" /></svg><line stroke=\"black\" x1=\"50%\" x2=\"31.1189%\" y1=\"19.2px\" y2=\"48px\" /><svg width=\"4.8951%\" x=\"41.958%\" y=\"48px\"><defs /><svg width=\"100%\" x=\"0\" y=\"0px\"><defs /><text text-anchor=\"middle\" x=\"50%\" y=\"16px\">where</text></svg><svg width=\"100%\" x=\"0%\" y=\"48px\"><defs /><svg width=\"100%\" x=\"0\" y=\"0px\"><defs /><text text-anchor=\"middle\" x=\"50%\" y=\"16px\">WRB</text></svg></svg><line stroke=\"black\" x1=\"50%\" x2=\"50%\" y1=\"19.2px\" y2=\"48px\" /></svg><line stroke=\"black\" x1=\"50%\" x2=\"44.4056%\" y1=\"19.2px\" y2=\"48px\" /><svg width=\"3.4965%\" x=\"46.8531%\" y=\"48px\"><defs /><svg width=\"100%\" x=\"0\" y=\"0px\"><defs /><text text-anchor=\"middle\" x=\"50%\" y=\"16px\">all</text></svg><svg width=\"100%\" x=\"0%\" y=\"48px\"><defs /><svg width=\"100%\" x=\"0\" y=\"0px\"><defs /><text text-anchor=\"middle\" x=\"50%\" y=\"16px\">DT</text></svg></svg><line stroke=\"black\" x1=\"50%\" x2=\"50%\" y1=\"19.2px\" y2=\"48px\" /></svg><line stroke=\"black\" x1=\"50%\" x2=\"48.6014%\" y1=\"19.2px\" y2=\"48px\" /><svg width=\"4.8951%\" x=\"50.3497%\" y=\"48px\"><defs /><svg width=\"100%\" x=\"0\" y=\"0px\"><defs /><text text-anchor=\"middle\" x=\"50%\" y=\"16px\">teams</text></svg><svg width=\"100%\" x=\"0%\" y=\"48px\"><defs /><svg width=\"100%\" x=\"0\" y=\"0px\"><defs /><text text-anchor=\"middle\" x=\"50%\" y=\"16px\">NNS</text></svg></svg><line stroke=\"black\" x1=\"50%\" x2=\"50%\" y1=\"19.2px\" y2=\"48px\" /></svg><line stroke=\"black\" x1=\"50%\" x2=\"52.7972%\" y1=\"19.2px\" y2=\"48px\" /><svg width=\"6.29371%\" x=\"55.2448%\" y=\"48px\"><defs /><svg width=\"100%\" x=\"0\" y=\"0px\"><defs /><text text-anchor=\"middle\" x=\"50%\" y=\"16px\">compete</text></svg><svg width=\"100%\" x=\"0%\" y=\"48px\"><defs /><svg width=\"100%\" x=\"0\" y=\"0px\"><defs /><text text-anchor=\"middle\" x=\"50%\" y=\"16px\">VBP</text></svg></svg><line stroke=\"black\" x1=\"50%\" x2=\"50%\" y1=\"19.2px\" y2=\"48px\" /></svg><line stroke=\"black\" x1=\"50%\" x2=\"58.3916%\" y1=\"19.2px\" y2=\"48px\" /><svg width=\"8.39161%\" x=\"61.5385%\" y=\"48px\"><defs /><svg width=\"100%\" x=\"0\" y=\"0px\"><defs /><text text-anchor=\"middle\" x=\"50%\" y=\"16px\">religously</text></svg><svg width=\"100%\" x=\"0%\" y=\"48px\"><defs /><svg width=\"100%\" x=\"0\" y=\"0px\"><defs /><text text-anchor=\"middle\" x=\"50%\" y=\"16px\">RB</text></svg></svg><line stroke=\"black\" x1=\"50%\" x2=\"50%\" y1=\"19.2px\" y2=\"48px\" /></svg><line stroke=\"black\" x1=\"50%\" x2=\"65.7343%\" y1=\"19.2px\" y2=\"48px\" /><svg width=\"3.4965%\" x=\"69.9301%\" y=\"48px\"><defs /><svg width=\"100%\" x=\"0\" y=\"0px\"><defs /><text text-anchor=\"middle\" x=\"50%\" y=\"16px\">and</text></svg><svg width=\"100%\" x=\"0%\" y=\"48px\"><defs /><svg width=\"100%\" x=\"0\" y=\"0px\"><defs /><text text-anchor=\"middle\" x=\"50%\" y=\"16px\">CC</text></svg></svg><line stroke=\"black\" x1=\"50%\" x2=\"50%\" y1=\"19.2px\" y2=\"48px\" /></svg><line stroke=\"black\" x1=\"50%\" x2=\"71.6783%\" y1=\"19.2px\" y2=\"48px\" /><svg width=\"4.1958%\" x=\"73.4266%\" y=\"48px\"><defs /><svg width=\"100%\" x=\"0\" y=\"0px\"><defs /><text text-anchor=\"middle\" x=\"50%\" y=\"16px\">they</text></svg><svg width=\"100%\" x=\"0%\" y=\"48px\"><defs /><svg width=\"100%\" x=\"0\" y=\"0px\"><defs /><text text-anchor=\"middle\" x=\"50%\" y=\"16px\">PRP</text></svg></svg><line stroke=\"black\" x1=\"50%\" x2=\"50%\" y1=\"19.2px\" y2=\"48px\" /></svg><line stroke=\"black\" x1=\"50%\" x2=\"75.5245%\" y1=\"19.2px\" y2=\"48px\" /><svg width=\"6.99301%\" x=\"77.6224%\" y=\"48px\"><defs /><svg width=\"100%\" x=\"0\" y=\"0px\"><defs /><text text-anchor=\"middle\" x=\"50%\" y=\"16px\">showcase</text></svg><svg width=\"100%\" x=\"0%\" y=\"48px\"><defs /><svg width=\"100%\" x=\"0\" y=\"0px\"><defs /><text text-anchor=\"middle\" x=\"50%\" y=\"16px\">VBP</text></svg></svg><line stroke=\"black\" x1=\"50%\" x2=\"50%\" y1=\"19.2px\" y2=\"48px\" /></svg><line stroke=\"black\" x1=\"50%\" x2=\"81.1189%\" y1=\"19.2px\" y2=\"48px\" /><svg width=\"13.2867%\" x=\"84.6154%\" y=\"48px\"><defs /><svg width=\"100%\" x=\"0\" y=\"0px\"><defs /><text text-anchor=\"middle\" x=\"50%\" y=\"16px\">NP</text></svg><svg width=\"57.8947%\" x=\"0%\" y=\"48px\"><defs /><svg width=\"100%\" x=\"0\" y=\"0px\"><defs /><text text-anchor=\"middle\" x=\"50%\" y=\"16px\">beautiful</text></svg><svg width=\"100%\" x=\"0%\" y=\"48px\"><defs /><svg width=\"100%\" x=\"0\" y=\"0px\"><defs /><text text-anchor=\"middle\" x=\"50%\" y=\"16px\">JJ</text></svg></svg><line stroke=\"black\" x1=\"50%\" x2=\"50%\" y1=\"19.2px\" y2=\"48px\" /></svg><line stroke=\"black\" x1=\"50%\" x2=\"28.9474%\" y1=\"19.2px\" y2=\"48px\" /><svg width=\"42.1053%\" x=\"57.8947%\" y=\"48px\"><defs /><svg width=\"100%\" x=\"0\" y=\"0px\"><defs /><text text-anchor=\"middle\" x=\"50%\" y=\"16px\">talent</text></svg><svg width=\"100%\" x=\"0%\" y=\"48px\"><defs /><svg width=\"100%\" x=\"0\" y=\"0px\"><defs /><text text-anchor=\"middle\" x=\"50%\" y=\"16px\">NN</text></svg></svg><line stroke=\"black\" x1=\"50%\" x2=\"50%\" y1=\"19.2px\" y2=\"48px\" /></svg><line stroke=\"black\" x1=\"50%\" x2=\"78.9474%\" y1=\"19.2px\" y2=\"48px\" /></svg><line stroke=\"black\" x1=\"50%\" x2=\"91.2587%\" y1=\"19.2px\" y2=\"48px\" /><svg width=\"2.0979%\" x=\"97.9021%\" y=\"48px\"><defs /><svg width=\"100%\" x=\"0\" y=\"0px\"><defs /><text text-anchor=\"middle\" x=\"50%\" y=\"16px\">.</text></svg><svg width=\"100%\" x=\"0%\" y=\"48px\"><defs /><svg width=\"100%\" x=\"0\" y=\"0px\"><defs /><text text-anchor=\"middle\" x=\"50%\" y=\"16px\">.</text></svg></svg><line stroke=\"black\" x1=\"50%\" x2=\"50%\" y1=\"19.2px\" y2=\"48px\" /></svg><line stroke=\"black\" x1=\"50%\" x2=\"98.951%\" y1=\"19.2px\" y2=\"48px\" /></svg>"
          },
          "metadata": {},
          "execution_count": 29
        }
      ]
    },
    {
      "cell_type": "markdown",
      "source": [
        "Write python functions which accepts a string and returns the following using regular expressions:\n",
        "\n",
        "a.\tText from the string after removing all the punctuations\n",
        "Take function name as “TextAfterRemovingPunctuations”\n",
        "\n",
        "b.\tText from the string after removing all the numbers/digits\n",
        "Take function name as “TextAfterRemovingDigits”\n",
        "\n",
        "c.\tAll the words which begins with the capital letter\n",
        "Take function name as “AllCapitalizedWordsFromText”\n",
        "\n",
        "d.\tAll the emails from the string\n",
        "Take function name as “AllEmailsFromText”\n",
        "\n",
        "Run all the above functions on the file “FIFAWorldCup2018.txt” and print the results.\n"
      ],
      "metadata": {
        "id": "asNlyjlz5ltC"
      }
    },
    {
      "cell_type": "code",
      "source": [
        "import re\n",
        "def TextAfterRemovingPunctuations(string):\n",
        "    s = re.sub(r'[^\\w\\s]','',string)\n",
        "    return s\n",
        "\n",
        "def TextAfterRemovingDigits(string):\n",
        "    s=re.sub(r\"(^|\\W)\\d+\", \"\", string)\n",
        "    return s\n",
        "\n",
        "def AllCapitalizedWordsFromText(string):\n",
        "    s = re.findall(r'(\\b[A-Z]([a-z])*\\b)',string)\n",
        "    Capitalized=[]\n",
        "    for word,lastcharacter in s:\n",
        "        Capitalized.append(word)\n",
        "    return Capitalized\n",
        "\n",
        "def AllEmailsFromText(string):\n",
        "    match = re.findall(r'[\\w\\.-]+@[\\w\\.-]+', string)\n",
        "    return match\n",
        "\n",
        "file=open(\"/content/FIFAWorldCup2018.txt\",'r',encoding='cp1252')\n",
        "content=file.read()\n",
        "file.close()\n",
        "\n",
        "print(\"After Removing Punctuation\")\n",
        "print(TextAfterRemovingPunctuations(content))\n",
        "print(\"\\n\")\n",
        "\n",
        "print(\"After Removing Digits\")\n",
        "print(TextAfterRemovingDigits(content))\n",
        "print(\"\\n\")\n",
        "\n",
        "print(\"Capitalized Words\")\n",
        "print(AllCapitalizedWordsFromText(content))\n",
        "print(\"\\n\")\n",
        "\n",
        "print(\"Emails\")\n",
        "print(AllEmailsFromText(content))\n",
        "print(\"\\n\")\n"
      ],
      "metadata": {
        "colab": {
          "base_uri": "https://localhost:8080/"
        },
        "id": "XM4DlLWo4OlA",
        "outputId": "16713124-c7d9-4e0d-9f2a-7fbc05af2ad6"
      },
      "execution_count": 30,
      "outputs": [
        {
          "output_type": "stream",
          "name": "stdout",
          "text": [
            "After Removing Punctuation\n",
            "2018 FIFA World CUP is an international tournament where all teams compete religously and they showcase beautiful talent It took place in Russia from 14 June to 15 July 2018 It was the first World Cup to be held in Eastern Europe and the 11th time that it had been held in Europe At an estimated cost of over 142 billion it was the most expensive World Cup It was also the first World Cup to use the video assistant referee  system \n",
            "The finals involved 32 teams of which 31 came through qualifying competitions while the host nation qualified automatically Of the 32 teams 20 had also appeared in the previous tournament in 2014 while both Iceland and Panama made their first appearances at a FIFA World Cup A total of 64 matches were played in 12 venues across 11 cities \n",
            "The final took place on 15 July at the Luzhniki Stadium in Moscow between France and Croatia France won the match 42 to claim their second World Cup title marking the fourth consecutive title won by a European team\n",
            "The bidding procedure to host the 2018 and 2022 FIFA World Cup tournaments began in January 2009 and national associations had until 2 February 2009 to register their interest Initially nine countries placed bids for the 2018 FIFA World Cup but Mexico later withdrew from proceedings  and Indonesias bid was rejected by FIFA in February 2010 after the Indonesian government failed to submit a letter to support the bid  During the bidding process the three remaining nonUEFA nations Australia Japan and the United States gradually withdrew from the 2018 bids and the UEFA nations were thus ruled out of the 2022 bid As such there were eventually four bids for the 2018 FIFA World Cup two of which were joint bids England Russia NetherlandsBelgium and PortugalSpain\n",
            "The 22member FIFA Executive Committee convened in Zürich on 2 December 2010 to vote to select the hosts of both tournaments Russia won the right to be the 2018 host in the second round of voting The PortugalSpain bid came second and that from BelgiumNetherlands third England which was bidding to host its second tournament was eliminated in the first round\n",
            "The English Football Association and others raised concerns of bribery on the part of the Russian team and corruption from FIFA members They claimed that four members of the executive committee had requested bribes to vote for England and Sepp Blatter had said that it had already been arranged before the vote that Russia would win  The 2014 Garcia Report an internal investigation led by Michael J Garcia was withheld from public release by HansJoachim Eckert FIFAs head of adjudication on ethical matters Eckert instead released a shorter revised summary and his and therefore FIFAs reluctance to publish the full report caused Garcia to resign in protest Because of the controversy the FA refused to accept Eckerts absolving of Russia from blame with Greg Dyke calling for a reexamination of the affair and David Bernstein calling for a boycott of the World Cup\n",
            "At an estimated cost of over 142 billion as of June 2018  it is the most expensive World Cup in history surpassing the cost of the 2014 FIFA World Cup in Brazil \n",
            "The Russian government had originally earmarked a budget of around 20 billion which was later slashed to 10 billion for the preparations of the World Cup of which half is spent on transport infrastructure As part of the program for preparation to the 2018 FIFA World Cup a federal subprogram Construction and Renovation of Transport Infrastructure was implemented with a total budget of 3525 billion rubles with 1703 billion coming from the federal budget 351 billion from regional budgets and 1471 billion from investors The biggest item of federal spending was the aviation infrastructure 1178 billion rubles86 Construction of new hotels was a crucial area of infrastructure development in the World Cup host cities Costs continued to balloon as preparations were underway\n",
            "There were 169 goals scored in 64 matches for an average of 264 goals per match\n",
            "Twelve own goals were scored during the tournament doubling the record of six set in 1998\n",
            "\n",
            "\n",
            "\n",
            "\n",
            "After Removing Digits\n",
            " FIFA World CUP is an international tournament where all teams compete religously and they showcase beautiful talent. It took place in Russia from June to July. It was the first World Cup to be held in Eastern Europe, and theth time that it had been held in Europe. At an estimated cost of over billion, it was the most expensive World Cup. It was also the first World Cup to use the video assistant referee  system. \n",
            "The finals involved teams, of which came through qualifying competitions, while the host nation qualified automatically. Of the teams, had also appeared in the previous tournament in, while both Iceland and Panama made their first appearances at a FIFA World Cup. A total of matches were played in venues across cities. \n",
            "The final took place on July at the Luzhniki Stadium in Moscow, between France and Croatia. France won the match to claim their second World Cup title, marking the fourth consecutive title won by a European team.\n",
            "The bidding procedure to host the and FIFA World Cup tournaments began in January, and national associations had until February to register their interest. Initially, nine countries placed bids for the FIFA World Cup, but Mexico later withdrew from proceedings,  and Indonesia's bid was rejected by FIFA in February after the Indonesian government failed to submit a letter to support the bid.  During the bidding process, the three remaining non-UEFA nations (Australia, Japan, and the United States) gradually withdrew from the bids, and the UEFA nations were thus ruled out of the bid. As such, there were eventually four bids for the FIFA World Cup, two of which were joint bids: England, Russia, Netherlands/Belgium, and Portugal/Spain.\n",
            "The-member FIFA Executive Committee convened in Zürich on December to vote to select the hosts of both tournaments. Russia won the right to be the host in the second round of voting. The Portugal/Spain bid came second, and that from Belgium/Netherlands third. England, which was bidding to host its second tournament, was eliminated in the first round\n",
            "The English Football Association and others raised concerns of bribery on the part of the Russian team and corruption from FIFA members. They claimed that four members of the executive committee had requested bribes to vote for England, and Sepp Blatter had said that it had already been arranged before the vote that Russia would win.  The Garcia Report, an internal investigation led by Michael J. Garcia, was withheld from public release by Hans-Joachim Eckert, FIFA's head of adjudication on ethical matters. Eckert instead released a shorter revised summary, and his (and therefore FIFA's) reluctance to publish the full report caused Garcia to resign in protest. Because of the controversy, the FA refused to accept Eckert's absolving of Russia from blame, with Greg Dyke calling for a re-examination of the affair and David Bernstein calling for a boycott of the World Cup.\n",
            "At an estimated cost of over  billion as of June,  it is the most expensive World Cup in history, surpassing the cost of the FIFA World Cup in Brazil. \n",
            "The Russian government had originally earmarked a budget of around  billion which was later slashed to  billion for the preparations of the World Cup, of which half is spent on transport infrastructure. As part of the program for preparation to the FIFA World Cup, a federal sub-program \"Construction and Renovation of Transport Infrastructure\" was implemented with a total budget of billion rubles, with billion coming from the federal budget, billion from regional budgets, and billion from investors. The biggest item of federal spending was the aviation infrastructure  billion rubles).] Construction of new hotels was a crucial area of infrastructure development in the World Cup host cities. Costs continued to balloon as preparations were underway\n",
            "There were goals scored in matches, for an average of goals per match.\n",
            "Twelve own goals were scored during the tournament, doubling the record of six set in\n",
            "\n",
            "\n",
            "\n",
            "\n",
            "Capitalized Words\n",
            "['World', 'It', 'Russia', 'June', 'July', 'It', 'World', 'Cup', 'Eastern', 'Europe', 'Europe', 'At', 'World', 'Cup', 'It', 'World', 'Cup', 'The', 'Of', 'Iceland', 'Panama', 'World', 'Cup', 'A', 'The', 'July', 'Luzhniki', 'Stadium', 'Moscow', 'France', 'Croatia', 'France', 'World', 'Cup', 'European', 'The', 'World', 'Cup', 'January', 'February', 'Initially', 'World', 'Cup', 'Mexico', 'Indonesia', 'February', 'Indonesian', 'During', 'Australia', 'Japan', 'United', 'States', 'As', 'World', 'Cup', 'England', 'Russia', 'Netherlands', 'Belgium', 'Portugal', 'Spain', 'The', 'Executive', 'Committee', 'December', 'Russia', 'The', 'Portugal', 'Spain', 'Belgium', 'Netherlands', 'England', 'The', 'English', 'Football', 'Association', 'Russian', 'They', 'England', 'Sepp', 'Blatter', 'Russia', 'The', 'Garcia', 'Report', 'Michael', 'J', 'Garcia', 'Hans', 'Joachim', 'Eckert', 'Eckert', 'Garcia', 'Because', 'Eckert', 'Russia', 'Greg', 'Dyke', 'David', 'Bernstein', 'World', 'Cup', 'At', 'June', 'World', 'Cup', 'World', 'Cup', 'Brazil', 'The', 'Russian', 'World', 'Cup', 'As', 'World', 'Cup', 'Construction', 'Renovation', 'Transport', 'Infrastructure', 'The', 'Construction', 'World', 'Cup', 'Costs', 'There', 'Twelve']\n",
            "\n",
            "\n",
            "Emails\n",
            "[]\n",
            "\n",
            "\n"
          ]
        }
      ]
    },
    {
      "cell_type": "markdown",
      "source": [
        "4.\tWrite python functions which accepts a string as an input and return the following chunks.\n",
        "\n",
        "a.\tPhrases having Proper nouns followed by Verbs\n",
        "Take function name as “ChunkingVer1”\n",
        "\n",
        "b.\tVerb Phrases having Verbs followed by Adjectives\n",
        "Take function name as “ChunkingVer2”\n",
        "\n",
        "c.\tNoun Phrases having Determiners followed by Nouns\n",
        "Take function name as “ChunkingVer3”\n",
        "\n",
        "d.\tVerb Phrases having Verbs followed by Adverbs\n",
        "Take function name as “ChunkingVer4”\n",
        "\n",
        "e.\tPhrases having Delimiter, Adjectives and Nouns in the respective order.\n",
        "Take function name as “ChunkingVer5”\n",
        "\n",
        "f.\tNoun Phrases which having Nouns and Adjectives, terminated with Nouns.\n",
        "Take function name as “ChunkingVer5”\n",
        "\n",
        "Run all the function for the first sentence in the file “FIFAWorldCup2018.txt” and print the results."
      ],
      "metadata": {
        "id": "dP7z2p3n6S09"
      }
    },
    {
      "cell_type": "code",
      "source": [
        "#Phrases having Proper nouns followed by Verbs\n",
        "def ChunkingVer1(sent):\n",
        "    sent_tokens=nltk.pos_tag(nltk.word_tokenize(sent))\n",
        "    grammar=r\"Phrases:{<NNP|NNPS>*<NNP|NNPS><VB|VBD|VBG|VBZ|VBP|VBN>*<VB|VBD|VBG|VBZ|VBP|VBN>}\"\n",
        "    chunk_parser=nltk.RegexpParser(grammar)\n",
        "    chunk_result=chunk_parser.parse(sent_tokens)\n",
        "    return chunk_result\n",
        "\n",
        "\n",
        "#Verb Phrases having Verbs followed by Adjectives\n",
        "def ChunkingVer2(sent):\n",
        "    sent_tokens=nltk.pos_tag(nltk.word_tokenize(sent))\n",
        "    grammar=r\"VerbPhrases:{<VB|VBD|VBG|VBZ|VBP|VBN>*<VB|VBD|VBG|VBZ|VBP|VBN><JJ|JJR|JJS>*<JJ|JJR|JJS>}\"\n",
        "    chunk_parser=nltk.RegexpParser(grammar)\n",
        "    chunk_result=chunk_parser.parse(sent_tokens)\n",
        "    return chunk_result\n",
        "\n",
        "#Noun Phrases having Determiners followed by Nouns\n",
        "def ChunkingVer3(sent):\n",
        "    sent_tokens=nltk.pos_tag(nltk.word_tokenize(sent))\n",
        "    grammar=r\"NounPhrases:{<DT><NN|NNS|NNP|NNPS>*<NN|NNS|NNP|NNPS>}\"\n",
        "    chunk_parser=nltk.RegexpParser(grammar)\n",
        "    chunk_result=chunk_parser.parse(sent_tokens)\n",
        "    return chunk_result\n",
        "\n",
        "#Verb Phrases having Verbs followed by Adverbs\n",
        "def ChunkingVer4(sent):\n",
        "    sent_tokens=nltk.pos_tag(nltk.word_tokenize(sent))\n",
        "    grammar=r\"VerbPhrases:{<VB|VBD|VBG|VBZ|VBP|VBN>*<VB|VBD|VBG|VBZ|VBP|VBN><RB|RBR>*<RB|RBR>}\"\n",
        "    chunk_parser=nltk.RegexpParser(grammar)\n",
        "    chunk_result=chunk_parser.parse(sent_tokens)\n",
        "    return chunk_result\n",
        "\n",
        "#Phrases having Delimiter, Adjectives and Nouns in the respective order.\n",
        "def ChunkingVer5(sent):\n",
        "    sent_tokens=nltk.pos_tag(nltk.word_tokenize(sent))\n",
        "    grammar=r\"Phrases:{<DT><JJ><NN|NNP|NNS|NNPS>}\"\n",
        "    chunk_parser=nltk.RegexpParser(grammar)\n",
        "    chunk_result=chunk_parser.parse(sent_tokens)\n",
        "    return chunk_result\n",
        "\n",
        "#Noun Phrases which having Nouns and Adjectives, terminated with Nouns.\n",
        "def ChunkingVer6(sent):\n",
        "    sent_tokens=nltk.pos_tag(nltk.word_tokenize(sent))\n",
        "    grammar=r\"NounPhrases:{<NN|NNP|NNS|NNPS><JJ><NN|NNP|NNS|NNPS>}\"\n",
        "    chunk_parser=nltk.RegexpParser(grammar)\n",
        "    chunk_result=chunk_parser.parse(sent_tokens)\n",
        "\n",
        "    return chunk_result\n",
        "\n",
        "file=open(\"/content/FIFAWorldCup2018.txt\",'r',encoding='cp1252')\n",
        "content=file.read()\n",
        "file.close()\n",
        "\n",
        "first_sent=content.split(\".\")[0]+\".\""
      ],
      "metadata": {
        "id": "zr2X0KUJ5tKj"
      },
      "execution_count": 31,
      "outputs": []
    },
    {
      "cell_type": "code",
      "source": [
        "ChunkingVer1(first_sent)"
      ],
      "metadata": {
        "colab": {
          "base_uri": "https://localhost:8080/",
          "height": 209
        },
        "id": "ujiDkkHZ6eVi",
        "outputId": "d4e7a60f-da29-45ec-a137-2d427a66c3d0"
      },
      "execution_count": 32,
      "outputs": [
        {
          "output_type": "execute_result",
          "data": {
            "text/plain": [
              "Tree('S', [('2018', 'CD'), Tree('Phrases', [('FIFA', 'NNP'), ('World', 'NNP'), ('CUP', 'NNP'), ('is', 'VBZ')]), ('an', 'DT'), ('international', 'JJ'), ('tournament', 'NN'), ('where', 'WRB'), ('all', 'DT'), ('teams', 'NNS'), ('compete', 'VBP'), ('religously', 'RB'), ('and', 'CC'), ('they', 'PRP'), ('showcase', 'VBP'), ('beautiful', 'JJ'), ('talent', 'NN'), ('.', '.')])"
            ],
            "image/svg+xml": "<svg baseProfile=\"full\" height=\"168px\" preserveAspectRatio=\"xMidYMid meet\" style=\"font-family: times, serif; font-weight: normal; font-style: normal; font-size: 16px;\" version=\"1.1\" viewBox=\"0,0,1144.0,168.0\" width=\"1144px\" xmlns=\"http://www.w3.org/2000/svg\" xmlns:ev=\"http://www.w3.org/2001/xml-events\" xmlns:xlink=\"http://www.w3.org/1999/xlink\"><defs /><svg width=\"100%\" x=\"0\" y=\"0px\"><defs /><text text-anchor=\"middle\" x=\"50%\" y=\"16px\">S</text></svg><svg width=\"4.1958%\" x=\"0%\" y=\"48px\"><defs /><svg width=\"100%\" x=\"0\" y=\"0px\"><defs /><text text-anchor=\"middle\" x=\"50%\" y=\"16px\">2018</text></svg><svg width=\"100%\" x=\"0%\" y=\"48px\"><defs /><svg width=\"100%\" x=\"0\" y=\"0px\"><defs /><text text-anchor=\"middle\" x=\"50%\" y=\"16px\">CD</text></svg></svg><line stroke=\"black\" x1=\"50%\" x2=\"50%\" y1=\"19.2px\" y2=\"48px\" /></svg><line stroke=\"black\" x1=\"50%\" x2=\"2.0979%\" y1=\"19.2px\" y2=\"48px\" /><svg width=\"16.0839%\" x=\"4.1958%\" y=\"48px\"><defs /><svg width=\"100%\" x=\"0\" y=\"0px\"><defs /><text text-anchor=\"middle\" x=\"50%\" y=\"16px\">Phrases</text></svg><svg width=\"26.087%\" x=\"0%\" y=\"48px\"><defs /><svg width=\"100%\" x=\"0\" y=\"0px\"><defs /><text text-anchor=\"middle\" x=\"50%\" y=\"16px\">FIFA</text></svg><svg width=\"100%\" x=\"0%\" y=\"48px\"><defs /><svg width=\"100%\" x=\"0\" y=\"0px\"><defs /><text text-anchor=\"middle\" x=\"50%\" y=\"16px\">NNP</text></svg></svg><line stroke=\"black\" x1=\"50%\" x2=\"50%\" y1=\"19.2px\" y2=\"48px\" /></svg><line stroke=\"black\" x1=\"50%\" x2=\"13.0435%\" y1=\"19.2px\" y2=\"48px\" /><svg width=\"30.4348%\" x=\"26.087%\" y=\"48px\"><defs /><svg width=\"100%\" x=\"0\" y=\"0px\"><defs /><text text-anchor=\"middle\" x=\"50%\" y=\"16px\">World</text></svg><svg width=\"100%\" x=\"0%\" y=\"48px\"><defs /><svg width=\"100%\" x=\"0\" y=\"0px\"><defs /><text text-anchor=\"middle\" x=\"50%\" y=\"16px\">NNP</text></svg></svg><line stroke=\"black\" x1=\"50%\" x2=\"50%\" y1=\"19.2px\" y2=\"48px\" /></svg><line stroke=\"black\" x1=\"50%\" x2=\"41.3043%\" y1=\"19.2px\" y2=\"48px\" /><svg width=\"21.7391%\" x=\"56.5217%\" y=\"48px\"><defs /><svg width=\"100%\" x=\"0\" y=\"0px\"><defs /><text text-anchor=\"middle\" x=\"50%\" y=\"16px\">CUP</text></svg><svg width=\"100%\" x=\"0%\" y=\"48px\"><defs /><svg width=\"100%\" x=\"0\" y=\"0px\"><defs /><text text-anchor=\"middle\" x=\"50%\" y=\"16px\">NNP</text></svg></svg><line stroke=\"black\" x1=\"50%\" x2=\"50%\" y1=\"19.2px\" y2=\"48px\" /></svg><line stroke=\"black\" x1=\"50%\" x2=\"67.3913%\" y1=\"19.2px\" y2=\"48px\" /><svg width=\"21.7391%\" x=\"78.2609%\" y=\"48px\"><defs /><svg width=\"100%\" x=\"0\" y=\"0px\"><defs /><text text-anchor=\"middle\" x=\"50%\" y=\"16px\">is</text></svg><svg width=\"100%\" x=\"0%\" y=\"48px\"><defs /><svg width=\"100%\" x=\"0\" y=\"0px\"><defs /><text text-anchor=\"middle\" x=\"50%\" y=\"16px\">VBZ</text></svg></svg><line stroke=\"black\" x1=\"50%\" x2=\"50%\" y1=\"19.2px\" y2=\"48px\" /></svg><line stroke=\"black\" x1=\"50%\" x2=\"89.1304%\" y1=\"19.2px\" y2=\"48px\" /></svg><line stroke=\"black\" x1=\"50%\" x2=\"12.2378%\" y1=\"19.2px\" y2=\"48px\" /><svg width=\"2.7972%\" x=\"20.2797%\" y=\"48px\"><defs /><svg width=\"100%\" x=\"0\" y=\"0px\"><defs /><text text-anchor=\"middle\" x=\"50%\" y=\"16px\">an</text></svg><svg width=\"100%\" x=\"0%\" y=\"48px\"><defs /><svg width=\"100%\" x=\"0\" y=\"0px\"><defs /><text text-anchor=\"middle\" x=\"50%\" y=\"16px\">DT</text></svg></svg><line stroke=\"black\" x1=\"50%\" x2=\"50%\" y1=\"19.2px\" y2=\"48px\" /></svg><line stroke=\"black\" x1=\"50%\" x2=\"21.6783%\" y1=\"19.2px\" y2=\"48px\" /><svg width=\"10.4895%\" x=\"23.0769%\" y=\"48px\"><defs /><svg width=\"100%\" x=\"0\" y=\"0px\"><defs /><text text-anchor=\"middle\" x=\"50%\" y=\"16px\">international</text></svg><svg width=\"100%\" x=\"0%\" y=\"48px\"><defs /><svg width=\"100%\" x=\"0\" y=\"0px\"><defs /><text text-anchor=\"middle\" x=\"50%\" y=\"16px\">JJ</text></svg></svg><line stroke=\"black\" x1=\"50%\" x2=\"50%\" y1=\"19.2px\" y2=\"48px\" /></svg><line stroke=\"black\" x1=\"50%\" x2=\"28.3217%\" y1=\"19.2px\" y2=\"48px\" /><svg width=\"8.39161%\" x=\"33.5664%\" y=\"48px\"><defs /><svg width=\"100%\" x=\"0\" y=\"0px\"><defs /><text text-anchor=\"middle\" x=\"50%\" y=\"16px\">tournament</text></svg><svg width=\"100%\" x=\"0%\" y=\"48px\"><defs /><svg width=\"100%\" x=\"0\" y=\"0px\"><defs /><text text-anchor=\"middle\" x=\"50%\" y=\"16px\">NN</text></svg></svg><line stroke=\"black\" x1=\"50%\" x2=\"50%\" y1=\"19.2px\" y2=\"48px\" /></svg><line stroke=\"black\" x1=\"50%\" x2=\"37.7622%\" y1=\"19.2px\" y2=\"48px\" /><svg width=\"4.8951%\" x=\"41.958%\" y=\"48px\"><defs /><svg width=\"100%\" x=\"0\" y=\"0px\"><defs /><text text-anchor=\"middle\" x=\"50%\" y=\"16px\">where</text></svg><svg width=\"100%\" x=\"0%\" y=\"48px\"><defs /><svg width=\"100%\" x=\"0\" y=\"0px\"><defs /><text text-anchor=\"middle\" x=\"50%\" y=\"16px\">WRB</text></svg></svg><line stroke=\"black\" x1=\"50%\" x2=\"50%\" y1=\"19.2px\" y2=\"48px\" /></svg><line stroke=\"black\" x1=\"50%\" x2=\"44.4056%\" y1=\"19.2px\" y2=\"48px\" /><svg width=\"3.4965%\" x=\"46.8531%\" y=\"48px\"><defs /><svg width=\"100%\" x=\"0\" y=\"0px\"><defs /><text text-anchor=\"middle\" x=\"50%\" y=\"16px\">all</text></svg><svg width=\"100%\" x=\"0%\" y=\"48px\"><defs /><svg width=\"100%\" x=\"0\" y=\"0px\"><defs /><text text-anchor=\"middle\" x=\"50%\" y=\"16px\">DT</text></svg></svg><line stroke=\"black\" x1=\"50%\" x2=\"50%\" y1=\"19.2px\" y2=\"48px\" /></svg><line stroke=\"black\" x1=\"50%\" x2=\"48.6014%\" y1=\"19.2px\" y2=\"48px\" /><svg width=\"4.8951%\" x=\"50.3497%\" y=\"48px\"><defs /><svg width=\"100%\" x=\"0\" y=\"0px\"><defs /><text text-anchor=\"middle\" x=\"50%\" y=\"16px\">teams</text></svg><svg width=\"100%\" x=\"0%\" y=\"48px\"><defs /><svg width=\"100%\" x=\"0\" y=\"0px\"><defs /><text text-anchor=\"middle\" x=\"50%\" y=\"16px\">NNS</text></svg></svg><line stroke=\"black\" x1=\"50%\" x2=\"50%\" y1=\"19.2px\" y2=\"48px\" /></svg><line stroke=\"black\" x1=\"50%\" x2=\"52.7972%\" y1=\"19.2px\" y2=\"48px\" /><svg width=\"6.29371%\" x=\"55.2448%\" y=\"48px\"><defs /><svg width=\"100%\" x=\"0\" y=\"0px\"><defs /><text text-anchor=\"middle\" x=\"50%\" y=\"16px\">compete</text></svg><svg width=\"100%\" x=\"0%\" y=\"48px\"><defs /><svg width=\"100%\" x=\"0\" y=\"0px\"><defs /><text text-anchor=\"middle\" x=\"50%\" y=\"16px\">VBP</text></svg></svg><line stroke=\"black\" x1=\"50%\" x2=\"50%\" y1=\"19.2px\" y2=\"48px\" /></svg><line stroke=\"black\" x1=\"50%\" x2=\"58.3916%\" y1=\"19.2px\" y2=\"48px\" /><svg width=\"8.39161%\" x=\"61.5385%\" y=\"48px\"><defs /><svg width=\"100%\" x=\"0\" y=\"0px\"><defs /><text text-anchor=\"middle\" x=\"50%\" y=\"16px\">religously</text></svg><svg width=\"100%\" x=\"0%\" y=\"48px\"><defs /><svg width=\"100%\" x=\"0\" y=\"0px\"><defs /><text text-anchor=\"middle\" x=\"50%\" y=\"16px\">RB</text></svg></svg><line stroke=\"black\" x1=\"50%\" x2=\"50%\" y1=\"19.2px\" y2=\"48px\" /></svg><line stroke=\"black\" x1=\"50%\" x2=\"65.7343%\" y1=\"19.2px\" y2=\"48px\" /><svg width=\"3.4965%\" x=\"69.9301%\" y=\"48px\"><defs /><svg width=\"100%\" x=\"0\" y=\"0px\"><defs /><text text-anchor=\"middle\" x=\"50%\" y=\"16px\">and</text></svg><svg width=\"100%\" x=\"0%\" y=\"48px\"><defs /><svg width=\"100%\" x=\"0\" y=\"0px\"><defs /><text text-anchor=\"middle\" x=\"50%\" y=\"16px\">CC</text></svg></svg><line stroke=\"black\" x1=\"50%\" x2=\"50%\" y1=\"19.2px\" y2=\"48px\" /></svg><line stroke=\"black\" x1=\"50%\" x2=\"71.6783%\" y1=\"19.2px\" y2=\"48px\" /><svg width=\"4.1958%\" x=\"73.4266%\" y=\"48px\"><defs /><svg width=\"100%\" x=\"0\" y=\"0px\"><defs /><text text-anchor=\"middle\" x=\"50%\" y=\"16px\">they</text></svg><svg width=\"100%\" x=\"0%\" y=\"48px\"><defs /><svg width=\"100%\" x=\"0\" y=\"0px\"><defs /><text text-anchor=\"middle\" x=\"50%\" y=\"16px\">PRP</text></svg></svg><line stroke=\"black\" x1=\"50%\" x2=\"50%\" y1=\"19.2px\" y2=\"48px\" /></svg><line stroke=\"black\" x1=\"50%\" x2=\"75.5245%\" y1=\"19.2px\" y2=\"48px\" /><svg width=\"6.99301%\" x=\"77.6224%\" y=\"48px\"><defs /><svg width=\"100%\" x=\"0\" y=\"0px\"><defs /><text text-anchor=\"middle\" x=\"50%\" y=\"16px\">showcase</text></svg><svg width=\"100%\" x=\"0%\" y=\"48px\"><defs /><svg width=\"100%\" x=\"0\" y=\"0px\"><defs /><text text-anchor=\"middle\" x=\"50%\" y=\"16px\">VBP</text></svg></svg><line stroke=\"black\" x1=\"50%\" x2=\"50%\" y1=\"19.2px\" y2=\"48px\" /></svg><line stroke=\"black\" x1=\"50%\" x2=\"81.1189%\" y1=\"19.2px\" y2=\"48px\" /><svg width=\"7.69231%\" x=\"84.6154%\" y=\"48px\"><defs /><svg width=\"100%\" x=\"0\" y=\"0px\"><defs /><text text-anchor=\"middle\" x=\"50%\" y=\"16px\">beautiful</text></svg><svg width=\"100%\" x=\"0%\" y=\"48px\"><defs /><svg width=\"100%\" x=\"0\" y=\"0px\"><defs /><text text-anchor=\"middle\" x=\"50%\" y=\"16px\">JJ</text></svg></svg><line stroke=\"black\" x1=\"50%\" x2=\"50%\" y1=\"19.2px\" y2=\"48px\" /></svg><line stroke=\"black\" x1=\"50%\" x2=\"88.4615%\" y1=\"19.2px\" y2=\"48px\" /><svg width=\"5.59441%\" x=\"92.3077%\" y=\"48px\"><defs /><svg width=\"100%\" x=\"0\" y=\"0px\"><defs /><text text-anchor=\"middle\" x=\"50%\" y=\"16px\">talent</text></svg><svg width=\"100%\" x=\"0%\" y=\"48px\"><defs /><svg width=\"100%\" x=\"0\" y=\"0px\"><defs /><text text-anchor=\"middle\" x=\"50%\" y=\"16px\">NN</text></svg></svg><line stroke=\"black\" x1=\"50%\" x2=\"50%\" y1=\"19.2px\" y2=\"48px\" /></svg><line stroke=\"black\" x1=\"50%\" x2=\"95.1049%\" y1=\"19.2px\" y2=\"48px\" /><svg width=\"2.0979%\" x=\"97.9021%\" y=\"48px\"><defs /><svg width=\"100%\" x=\"0\" y=\"0px\"><defs /><text text-anchor=\"middle\" x=\"50%\" y=\"16px\">.</text></svg><svg width=\"100%\" x=\"0%\" y=\"48px\"><defs /><svg width=\"100%\" x=\"0\" y=\"0px\"><defs /><text text-anchor=\"middle\" x=\"50%\" y=\"16px\">.</text></svg></svg><line stroke=\"black\" x1=\"50%\" x2=\"50%\" y1=\"19.2px\" y2=\"48px\" /></svg><line stroke=\"black\" x1=\"50%\" x2=\"98.951%\" y1=\"19.2px\" y2=\"48px\" /></svg>"
          },
          "metadata": {},
          "execution_count": 32
        }
      ]
    },
    {
      "cell_type": "code",
      "source": [
        "ChunkingVer2(first_sent)"
      ],
      "metadata": {
        "colab": {
          "base_uri": "https://localhost:8080/",
          "height": 209
        },
        "id": "8pTXbcn06gjx",
        "outputId": "abdfe1d7-edb9-4de0-da2d-1c899efd418d"
      },
      "execution_count": 33,
      "outputs": [
        {
          "output_type": "execute_result",
          "data": {
            "text/plain": [
              "Tree('S', [('2018', 'CD'), ('FIFA', 'NNP'), ('World', 'NNP'), ('CUP', 'NNP'), ('is', 'VBZ'), ('an', 'DT'), ('international', 'JJ'), ('tournament', 'NN'), ('where', 'WRB'), ('all', 'DT'), ('teams', 'NNS'), ('compete', 'VBP'), ('religously', 'RB'), ('and', 'CC'), ('they', 'PRP'), Tree('VerbPhrases', [('showcase', 'VBP'), ('beautiful', 'JJ')]), ('talent', 'NN'), ('.', '.')])"
            ],
            "image/svg+xml": "<svg baseProfile=\"full\" height=\"168px\" preserveAspectRatio=\"xMidYMid meet\" style=\"font-family: times, serif; font-weight: normal; font-style: normal; font-size: 16px;\" version=\"1.1\" viewBox=\"0,0,1144.0,168.0\" width=\"1144px\" xmlns=\"http://www.w3.org/2000/svg\" xmlns:ev=\"http://www.w3.org/2001/xml-events\" xmlns:xlink=\"http://www.w3.org/1999/xlink\"><defs /><svg width=\"100%\" x=\"0\" y=\"0px\"><defs /><text text-anchor=\"middle\" x=\"50%\" y=\"16px\">S</text></svg><svg width=\"4.1958%\" x=\"0%\" y=\"48px\"><defs /><svg width=\"100%\" x=\"0\" y=\"0px\"><defs /><text text-anchor=\"middle\" x=\"50%\" y=\"16px\">2018</text></svg><svg width=\"100%\" x=\"0%\" y=\"48px\"><defs /><svg width=\"100%\" x=\"0\" y=\"0px\"><defs /><text text-anchor=\"middle\" x=\"50%\" y=\"16px\">CD</text></svg></svg><line stroke=\"black\" x1=\"50%\" x2=\"50%\" y1=\"19.2px\" y2=\"48px\" /></svg><line stroke=\"black\" x1=\"50%\" x2=\"2.0979%\" y1=\"19.2px\" y2=\"48px\" /><svg width=\"4.1958%\" x=\"4.1958%\" y=\"48px\"><defs /><svg width=\"100%\" x=\"0\" y=\"0px\"><defs /><text text-anchor=\"middle\" x=\"50%\" y=\"16px\">FIFA</text></svg><svg width=\"100%\" x=\"0%\" y=\"48px\"><defs /><svg width=\"100%\" x=\"0\" y=\"0px\"><defs /><text text-anchor=\"middle\" x=\"50%\" y=\"16px\">NNP</text></svg></svg><line stroke=\"black\" x1=\"50%\" x2=\"50%\" y1=\"19.2px\" y2=\"48px\" /></svg><line stroke=\"black\" x1=\"50%\" x2=\"6.29371%\" y1=\"19.2px\" y2=\"48px\" /><svg width=\"4.8951%\" x=\"8.39161%\" y=\"48px\"><defs /><svg width=\"100%\" x=\"0\" y=\"0px\"><defs /><text text-anchor=\"middle\" x=\"50%\" y=\"16px\">World</text></svg><svg width=\"100%\" x=\"0%\" y=\"48px\"><defs /><svg width=\"100%\" x=\"0\" y=\"0px\"><defs /><text text-anchor=\"middle\" x=\"50%\" y=\"16px\">NNP</text></svg></svg><line stroke=\"black\" x1=\"50%\" x2=\"50%\" y1=\"19.2px\" y2=\"48px\" /></svg><line stroke=\"black\" x1=\"50%\" x2=\"10.8392%\" y1=\"19.2px\" y2=\"48px\" /><svg width=\"3.4965%\" x=\"13.2867%\" y=\"48px\"><defs /><svg width=\"100%\" x=\"0\" y=\"0px\"><defs /><text text-anchor=\"middle\" x=\"50%\" y=\"16px\">CUP</text></svg><svg width=\"100%\" x=\"0%\" y=\"48px\"><defs /><svg width=\"100%\" x=\"0\" y=\"0px\"><defs /><text text-anchor=\"middle\" x=\"50%\" y=\"16px\">NNP</text></svg></svg><line stroke=\"black\" x1=\"50%\" x2=\"50%\" y1=\"19.2px\" y2=\"48px\" /></svg><line stroke=\"black\" x1=\"50%\" x2=\"15.035%\" y1=\"19.2px\" y2=\"48px\" /><svg width=\"3.4965%\" x=\"16.7832%\" y=\"48px\"><defs /><svg width=\"100%\" x=\"0\" y=\"0px\"><defs /><text text-anchor=\"middle\" x=\"50%\" y=\"16px\">is</text></svg><svg width=\"100%\" x=\"0%\" y=\"48px\"><defs /><svg width=\"100%\" x=\"0\" y=\"0px\"><defs /><text text-anchor=\"middle\" x=\"50%\" y=\"16px\">VBZ</text></svg></svg><line stroke=\"black\" x1=\"50%\" x2=\"50%\" y1=\"19.2px\" y2=\"48px\" /></svg><line stroke=\"black\" x1=\"50%\" x2=\"18.5315%\" y1=\"19.2px\" y2=\"48px\" /><svg width=\"2.7972%\" x=\"20.2797%\" y=\"48px\"><defs /><svg width=\"100%\" x=\"0\" y=\"0px\"><defs /><text text-anchor=\"middle\" x=\"50%\" y=\"16px\">an</text></svg><svg width=\"100%\" x=\"0%\" y=\"48px\"><defs /><svg width=\"100%\" x=\"0\" y=\"0px\"><defs /><text text-anchor=\"middle\" x=\"50%\" y=\"16px\">DT</text></svg></svg><line stroke=\"black\" x1=\"50%\" x2=\"50%\" y1=\"19.2px\" y2=\"48px\" /></svg><line stroke=\"black\" x1=\"50%\" x2=\"21.6783%\" y1=\"19.2px\" y2=\"48px\" /><svg width=\"10.4895%\" x=\"23.0769%\" y=\"48px\"><defs /><svg width=\"100%\" x=\"0\" y=\"0px\"><defs /><text text-anchor=\"middle\" x=\"50%\" y=\"16px\">international</text></svg><svg width=\"100%\" x=\"0%\" y=\"48px\"><defs /><svg width=\"100%\" x=\"0\" y=\"0px\"><defs /><text text-anchor=\"middle\" x=\"50%\" y=\"16px\">JJ</text></svg></svg><line stroke=\"black\" x1=\"50%\" x2=\"50%\" y1=\"19.2px\" y2=\"48px\" /></svg><line stroke=\"black\" x1=\"50%\" x2=\"28.3217%\" y1=\"19.2px\" y2=\"48px\" /><svg width=\"8.39161%\" x=\"33.5664%\" y=\"48px\"><defs /><svg width=\"100%\" x=\"0\" y=\"0px\"><defs /><text text-anchor=\"middle\" x=\"50%\" y=\"16px\">tournament</text></svg><svg width=\"100%\" x=\"0%\" y=\"48px\"><defs /><svg width=\"100%\" x=\"0\" y=\"0px\"><defs /><text text-anchor=\"middle\" x=\"50%\" y=\"16px\">NN</text></svg></svg><line stroke=\"black\" x1=\"50%\" x2=\"50%\" y1=\"19.2px\" y2=\"48px\" /></svg><line stroke=\"black\" x1=\"50%\" x2=\"37.7622%\" y1=\"19.2px\" y2=\"48px\" /><svg width=\"4.8951%\" x=\"41.958%\" y=\"48px\"><defs /><svg width=\"100%\" x=\"0\" y=\"0px\"><defs /><text text-anchor=\"middle\" x=\"50%\" y=\"16px\">where</text></svg><svg width=\"100%\" x=\"0%\" y=\"48px\"><defs /><svg width=\"100%\" x=\"0\" y=\"0px\"><defs /><text text-anchor=\"middle\" x=\"50%\" y=\"16px\">WRB</text></svg></svg><line stroke=\"black\" x1=\"50%\" x2=\"50%\" y1=\"19.2px\" y2=\"48px\" /></svg><line stroke=\"black\" x1=\"50%\" x2=\"44.4056%\" y1=\"19.2px\" y2=\"48px\" /><svg width=\"3.4965%\" x=\"46.8531%\" y=\"48px\"><defs /><svg width=\"100%\" x=\"0\" y=\"0px\"><defs /><text text-anchor=\"middle\" x=\"50%\" y=\"16px\">all</text></svg><svg width=\"100%\" x=\"0%\" y=\"48px\"><defs /><svg width=\"100%\" x=\"0\" y=\"0px\"><defs /><text text-anchor=\"middle\" x=\"50%\" y=\"16px\">DT</text></svg></svg><line stroke=\"black\" x1=\"50%\" x2=\"50%\" y1=\"19.2px\" y2=\"48px\" /></svg><line stroke=\"black\" x1=\"50%\" x2=\"48.6014%\" y1=\"19.2px\" y2=\"48px\" /><svg width=\"4.8951%\" x=\"50.3497%\" y=\"48px\"><defs /><svg width=\"100%\" x=\"0\" y=\"0px\"><defs /><text text-anchor=\"middle\" x=\"50%\" y=\"16px\">teams</text></svg><svg width=\"100%\" x=\"0%\" y=\"48px\"><defs /><svg width=\"100%\" x=\"0\" y=\"0px\"><defs /><text text-anchor=\"middle\" x=\"50%\" y=\"16px\">NNS</text></svg></svg><line stroke=\"black\" x1=\"50%\" x2=\"50%\" y1=\"19.2px\" y2=\"48px\" /></svg><line stroke=\"black\" x1=\"50%\" x2=\"52.7972%\" y1=\"19.2px\" y2=\"48px\" /><svg width=\"6.29371%\" x=\"55.2448%\" y=\"48px\"><defs /><svg width=\"100%\" x=\"0\" y=\"0px\"><defs /><text text-anchor=\"middle\" x=\"50%\" y=\"16px\">compete</text></svg><svg width=\"100%\" x=\"0%\" y=\"48px\"><defs /><svg width=\"100%\" x=\"0\" y=\"0px\"><defs /><text text-anchor=\"middle\" x=\"50%\" y=\"16px\">VBP</text></svg></svg><line stroke=\"black\" x1=\"50%\" x2=\"50%\" y1=\"19.2px\" y2=\"48px\" /></svg><line stroke=\"black\" x1=\"50%\" x2=\"58.3916%\" y1=\"19.2px\" y2=\"48px\" /><svg width=\"8.39161%\" x=\"61.5385%\" y=\"48px\"><defs /><svg width=\"100%\" x=\"0\" y=\"0px\"><defs /><text text-anchor=\"middle\" x=\"50%\" y=\"16px\">religously</text></svg><svg width=\"100%\" x=\"0%\" y=\"48px\"><defs /><svg width=\"100%\" x=\"0\" y=\"0px\"><defs /><text text-anchor=\"middle\" x=\"50%\" y=\"16px\">RB</text></svg></svg><line stroke=\"black\" x1=\"50%\" x2=\"50%\" y1=\"19.2px\" y2=\"48px\" /></svg><line stroke=\"black\" x1=\"50%\" x2=\"65.7343%\" y1=\"19.2px\" y2=\"48px\" /><svg width=\"3.4965%\" x=\"69.9301%\" y=\"48px\"><defs /><svg width=\"100%\" x=\"0\" y=\"0px\"><defs /><text text-anchor=\"middle\" x=\"50%\" y=\"16px\">and</text></svg><svg width=\"100%\" x=\"0%\" y=\"48px\"><defs /><svg width=\"100%\" x=\"0\" y=\"0px\"><defs /><text text-anchor=\"middle\" x=\"50%\" y=\"16px\">CC</text></svg></svg><line stroke=\"black\" x1=\"50%\" x2=\"50%\" y1=\"19.2px\" y2=\"48px\" /></svg><line stroke=\"black\" x1=\"50%\" x2=\"71.6783%\" y1=\"19.2px\" y2=\"48px\" /><svg width=\"4.1958%\" x=\"73.4266%\" y=\"48px\"><defs /><svg width=\"100%\" x=\"0\" y=\"0px\"><defs /><text text-anchor=\"middle\" x=\"50%\" y=\"16px\">they</text></svg><svg width=\"100%\" x=\"0%\" y=\"48px\"><defs /><svg width=\"100%\" x=\"0\" y=\"0px\"><defs /><text text-anchor=\"middle\" x=\"50%\" y=\"16px\">PRP</text></svg></svg><line stroke=\"black\" x1=\"50%\" x2=\"50%\" y1=\"19.2px\" y2=\"48px\" /></svg><line stroke=\"black\" x1=\"50%\" x2=\"75.5245%\" y1=\"19.2px\" y2=\"48px\" /><svg width=\"14.6853%\" x=\"77.6224%\" y=\"48px\"><defs /><svg width=\"100%\" x=\"0\" y=\"0px\"><defs /><text text-anchor=\"middle\" x=\"50%\" y=\"16px\">VerbPhrases</text></svg><svg width=\"47.619%\" x=\"0%\" y=\"48px\"><defs /><svg width=\"100%\" x=\"0\" y=\"0px\"><defs /><text text-anchor=\"middle\" x=\"50%\" y=\"16px\">showcase</text></svg><svg width=\"100%\" x=\"0%\" y=\"48px\"><defs /><svg width=\"100%\" x=\"0\" y=\"0px\"><defs /><text text-anchor=\"middle\" x=\"50%\" y=\"16px\">VBP</text></svg></svg><line stroke=\"black\" x1=\"50%\" x2=\"50%\" y1=\"19.2px\" y2=\"48px\" /></svg><line stroke=\"black\" x1=\"50%\" x2=\"23.8095%\" y1=\"19.2px\" y2=\"48px\" /><svg width=\"52.381%\" x=\"47.619%\" y=\"48px\"><defs /><svg width=\"100%\" x=\"0\" y=\"0px\"><defs /><text text-anchor=\"middle\" x=\"50%\" y=\"16px\">beautiful</text></svg><svg width=\"100%\" x=\"0%\" y=\"48px\"><defs /><svg width=\"100%\" x=\"0\" y=\"0px\"><defs /><text text-anchor=\"middle\" x=\"50%\" y=\"16px\">JJ</text></svg></svg><line stroke=\"black\" x1=\"50%\" x2=\"50%\" y1=\"19.2px\" y2=\"48px\" /></svg><line stroke=\"black\" x1=\"50%\" x2=\"73.8095%\" y1=\"19.2px\" y2=\"48px\" /></svg><line stroke=\"black\" x1=\"50%\" x2=\"84.965%\" y1=\"19.2px\" y2=\"48px\" /><svg width=\"5.59441%\" x=\"92.3077%\" y=\"48px\"><defs /><svg width=\"100%\" x=\"0\" y=\"0px\"><defs /><text text-anchor=\"middle\" x=\"50%\" y=\"16px\">talent</text></svg><svg width=\"100%\" x=\"0%\" y=\"48px\"><defs /><svg width=\"100%\" x=\"0\" y=\"0px\"><defs /><text text-anchor=\"middle\" x=\"50%\" y=\"16px\">NN</text></svg></svg><line stroke=\"black\" x1=\"50%\" x2=\"50%\" y1=\"19.2px\" y2=\"48px\" /></svg><line stroke=\"black\" x1=\"50%\" x2=\"95.1049%\" y1=\"19.2px\" y2=\"48px\" /><svg width=\"2.0979%\" x=\"97.9021%\" y=\"48px\"><defs /><svg width=\"100%\" x=\"0\" y=\"0px\"><defs /><text text-anchor=\"middle\" x=\"50%\" y=\"16px\">.</text></svg><svg width=\"100%\" x=\"0%\" y=\"48px\"><defs /><svg width=\"100%\" x=\"0\" y=\"0px\"><defs /><text text-anchor=\"middle\" x=\"50%\" y=\"16px\">.</text></svg></svg><line stroke=\"black\" x1=\"50%\" x2=\"50%\" y1=\"19.2px\" y2=\"48px\" /></svg><line stroke=\"black\" x1=\"50%\" x2=\"98.951%\" y1=\"19.2px\" y2=\"48px\" /></svg>"
          },
          "metadata": {},
          "execution_count": 33
        }
      ]
    },
    {
      "cell_type": "code",
      "source": [
        "ChunkingVer3(first_sent)"
      ],
      "metadata": {
        "colab": {
          "base_uri": "https://localhost:8080/",
          "height": 209
        },
        "id": "kPkbOLy-6in6",
        "outputId": "dcefbddf-7d76-4fab-d367-8b14c686817e"
      },
      "execution_count": 34,
      "outputs": [
        {
          "output_type": "execute_result",
          "data": {
            "text/plain": [
              "Tree('S', [('2018', 'CD'), ('FIFA', 'NNP'), ('World', 'NNP'), ('CUP', 'NNP'), ('is', 'VBZ'), ('an', 'DT'), ('international', 'JJ'), ('tournament', 'NN'), ('where', 'WRB'), Tree('NounPhrases', [('all', 'DT'), ('teams', 'NNS')]), ('compete', 'VBP'), ('religously', 'RB'), ('and', 'CC'), ('they', 'PRP'), ('showcase', 'VBP'), ('beautiful', 'JJ'), ('talent', 'NN'), ('.', '.')])"
            ],
            "image/svg+xml": "<svg baseProfile=\"full\" height=\"168px\" preserveAspectRatio=\"xMidYMid meet\" style=\"font-family: times, serif; font-weight: normal; font-style: normal; font-size: 16px;\" version=\"1.1\" viewBox=\"0,0,1152.0,168.0\" width=\"1152px\" xmlns=\"http://www.w3.org/2000/svg\" xmlns:ev=\"http://www.w3.org/2001/xml-events\" xmlns:xlink=\"http://www.w3.org/1999/xlink\"><defs /><svg width=\"100%\" x=\"0\" y=\"0px\"><defs /><text text-anchor=\"middle\" x=\"50%\" y=\"16px\">S</text></svg><svg width=\"4.16667%\" x=\"0%\" y=\"48px\"><defs /><svg width=\"100%\" x=\"0\" y=\"0px\"><defs /><text text-anchor=\"middle\" x=\"50%\" y=\"16px\">2018</text></svg><svg width=\"100%\" x=\"0%\" y=\"48px\"><defs /><svg width=\"100%\" x=\"0\" y=\"0px\"><defs /><text text-anchor=\"middle\" x=\"50%\" y=\"16px\">CD</text></svg></svg><line stroke=\"black\" x1=\"50%\" x2=\"50%\" y1=\"19.2px\" y2=\"48px\" /></svg><line stroke=\"black\" x1=\"50%\" x2=\"2.08333%\" y1=\"19.2px\" y2=\"48px\" /><svg width=\"4.16667%\" x=\"4.16667%\" y=\"48px\"><defs /><svg width=\"100%\" x=\"0\" y=\"0px\"><defs /><text text-anchor=\"middle\" x=\"50%\" y=\"16px\">FIFA</text></svg><svg width=\"100%\" x=\"0%\" y=\"48px\"><defs /><svg width=\"100%\" x=\"0\" y=\"0px\"><defs /><text text-anchor=\"middle\" x=\"50%\" y=\"16px\">NNP</text></svg></svg><line stroke=\"black\" x1=\"50%\" x2=\"50%\" y1=\"19.2px\" y2=\"48px\" /></svg><line stroke=\"black\" x1=\"50%\" x2=\"6.25%\" y1=\"19.2px\" y2=\"48px\" /><svg width=\"4.86111%\" x=\"8.33333%\" y=\"48px\"><defs /><svg width=\"100%\" x=\"0\" y=\"0px\"><defs /><text text-anchor=\"middle\" x=\"50%\" y=\"16px\">World</text></svg><svg width=\"100%\" x=\"0%\" y=\"48px\"><defs /><svg width=\"100%\" x=\"0\" y=\"0px\"><defs /><text text-anchor=\"middle\" x=\"50%\" y=\"16px\">NNP</text></svg></svg><line stroke=\"black\" x1=\"50%\" x2=\"50%\" y1=\"19.2px\" y2=\"48px\" /></svg><line stroke=\"black\" x1=\"50%\" x2=\"10.7639%\" y1=\"19.2px\" y2=\"48px\" /><svg width=\"3.47222%\" x=\"13.1944%\" y=\"48px\"><defs /><svg width=\"100%\" x=\"0\" y=\"0px\"><defs /><text text-anchor=\"middle\" x=\"50%\" y=\"16px\">CUP</text></svg><svg width=\"100%\" x=\"0%\" y=\"48px\"><defs /><svg width=\"100%\" x=\"0\" y=\"0px\"><defs /><text text-anchor=\"middle\" x=\"50%\" y=\"16px\">NNP</text></svg></svg><line stroke=\"black\" x1=\"50%\" x2=\"50%\" y1=\"19.2px\" y2=\"48px\" /></svg><line stroke=\"black\" x1=\"50%\" x2=\"14.9306%\" y1=\"19.2px\" y2=\"48px\" /><svg width=\"3.47222%\" x=\"16.6667%\" y=\"48px\"><defs /><svg width=\"100%\" x=\"0\" y=\"0px\"><defs /><text text-anchor=\"middle\" x=\"50%\" y=\"16px\">is</text></svg><svg width=\"100%\" x=\"0%\" y=\"48px\"><defs /><svg width=\"100%\" x=\"0\" y=\"0px\"><defs /><text text-anchor=\"middle\" x=\"50%\" y=\"16px\">VBZ</text></svg></svg><line stroke=\"black\" x1=\"50%\" x2=\"50%\" y1=\"19.2px\" y2=\"48px\" /></svg><line stroke=\"black\" x1=\"50%\" x2=\"18.4028%\" y1=\"19.2px\" y2=\"48px\" /><svg width=\"2.77778%\" x=\"20.1389%\" y=\"48px\"><defs /><svg width=\"100%\" x=\"0\" y=\"0px\"><defs /><text text-anchor=\"middle\" x=\"50%\" y=\"16px\">an</text></svg><svg width=\"100%\" x=\"0%\" y=\"48px\"><defs /><svg width=\"100%\" x=\"0\" y=\"0px\"><defs /><text text-anchor=\"middle\" x=\"50%\" y=\"16px\">DT</text></svg></svg><line stroke=\"black\" x1=\"50%\" x2=\"50%\" y1=\"19.2px\" y2=\"48px\" /></svg><line stroke=\"black\" x1=\"50%\" x2=\"21.5278%\" y1=\"19.2px\" y2=\"48px\" /><svg width=\"10.4167%\" x=\"22.9167%\" y=\"48px\"><defs /><svg width=\"100%\" x=\"0\" y=\"0px\"><defs /><text text-anchor=\"middle\" x=\"50%\" y=\"16px\">international</text></svg><svg width=\"100%\" x=\"0%\" y=\"48px\"><defs /><svg width=\"100%\" x=\"0\" y=\"0px\"><defs /><text text-anchor=\"middle\" x=\"50%\" y=\"16px\">JJ</text></svg></svg><line stroke=\"black\" x1=\"50%\" x2=\"50%\" y1=\"19.2px\" y2=\"48px\" /></svg><line stroke=\"black\" x1=\"50%\" x2=\"28.125%\" y1=\"19.2px\" y2=\"48px\" /><svg width=\"8.33333%\" x=\"33.3333%\" y=\"48px\"><defs /><svg width=\"100%\" x=\"0\" y=\"0px\"><defs /><text text-anchor=\"middle\" x=\"50%\" y=\"16px\">tournament</text></svg><svg width=\"100%\" x=\"0%\" y=\"48px\"><defs /><svg width=\"100%\" x=\"0\" y=\"0px\"><defs /><text text-anchor=\"middle\" x=\"50%\" y=\"16px\">NN</text></svg></svg><line stroke=\"black\" x1=\"50%\" x2=\"50%\" y1=\"19.2px\" y2=\"48px\" /></svg><line stroke=\"black\" x1=\"50%\" x2=\"37.5%\" y1=\"19.2px\" y2=\"48px\" /><svg width=\"4.86111%\" x=\"41.6667%\" y=\"48px\"><defs /><svg width=\"100%\" x=\"0\" y=\"0px\"><defs /><text text-anchor=\"middle\" x=\"50%\" y=\"16px\">where</text></svg><svg width=\"100%\" x=\"0%\" y=\"48px\"><defs /><svg width=\"100%\" x=\"0\" y=\"0px\"><defs /><text text-anchor=\"middle\" x=\"50%\" y=\"16px\">WRB</text></svg></svg><line stroke=\"black\" x1=\"50%\" x2=\"50%\" y1=\"19.2px\" y2=\"48px\" /></svg><line stroke=\"black\" x1=\"50%\" x2=\"44.0972%\" y1=\"19.2px\" y2=\"48px\" /><svg width=\"9.02778%\" x=\"46.5278%\" y=\"48px\"><defs /><svg width=\"100%\" x=\"0\" y=\"0px\"><defs /><text text-anchor=\"middle\" x=\"50%\" y=\"16px\">NounPhrases</text></svg><svg width=\"41.6667%\" x=\"0%\" y=\"48px\"><defs /><svg width=\"100%\" x=\"0\" y=\"0px\"><defs /><text text-anchor=\"middle\" x=\"50%\" y=\"16px\">all</text></svg><svg width=\"100%\" x=\"0%\" y=\"48px\"><defs /><svg width=\"100%\" x=\"0\" y=\"0px\"><defs /><text text-anchor=\"middle\" x=\"50%\" y=\"16px\">DT</text></svg></svg><line stroke=\"black\" x1=\"50%\" x2=\"50%\" y1=\"19.2px\" y2=\"48px\" /></svg><line stroke=\"black\" x1=\"50%\" x2=\"20.8333%\" y1=\"19.2px\" y2=\"48px\" /><svg width=\"58.3333%\" x=\"41.6667%\" y=\"48px\"><defs /><svg width=\"100%\" x=\"0\" y=\"0px\"><defs /><text text-anchor=\"middle\" x=\"50%\" y=\"16px\">teams</text></svg><svg width=\"100%\" x=\"0%\" y=\"48px\"><defs /><svg width=\"100%\" x=\"0\" y=\"0px\"><defs /><text text-anchor=\"middle\" x=\"50%\" y=\"16px\">NNS</text></svg></svg><line stroke=\"black\" x1=\"50%\" x2=\"50%\" y1=\"19.2px\" y2=\"48px\" /></svg><line stroke=\"black\" x1=\"50%\" x2=\"70.8333%\" y1=\"19.2px\" y2=\"48px\" /></svg><line stroke=\"black\" x1=\"50%\" x2=\"51.0417%\" y1=\"19.2px\" y2=\"48px\" /><svg width=\"6.25%\" x=\"55.5556%\" y=\"48px\"><defs /><svg width=\"100%\" x=\"0\" y=\"0px\"><defs /><text text-anchor=\"middle\" x=\"50%\" y=\"16px\">compete</text></svg><svg width=\"100%\" x=\"0%\" y=\"48px\"><defs /><svg width=\"100%\" x=\"0\" y=\"0px\"><defs /><text text-anchor=\"middle\" x=\"50%\" y=\"16px\">VBP</text></svg></svg><line stroke=\"black\" x1=\"50%\" x2=\"50%\" y1=\"19.2px\" y2=\"48px\" /></svg><line stroke=\"black\" x1=\"50%\" x2=\"58.6806%\" y1=\"19.2px\" y2=\"48px\" /><svg width=\"8.33333%\" x=\"61.8056%\" y=\"48px\"><defs /><svg width=\"100%\" x=\"0\" y=\"0px\"><defs /><text text-anchor=\"middle\" x=\"50%\" y=\"16px\">religously</text></svg><svg width=\"100%\" x=\"0%\" y=\"48px\"><defs /><svg width=\"100%\" x=\"0\" y=\"0px\"><defs /><text text-anchor=\"middle\" x=\"50%\" y=\"16px\">RB</text></svg></svg><line stroke=\"black\" x1=\"50%\" x2=\"50%\" y1=\"19.2px\" y2=\"48px\" /></svg><line stroke=\"black\" x1=\"50%\" x2=\"65.9722%\" y1=\"19.2px\" y2=\"48px\" /><svg width=\"3.47222%\" x=\"70.1389%\" y=\"48px\"><defs /><svg width=\"100%\" x=\"0\" y=\"0px\"><defs /><text text-anchor=\"middle\" x=\"50%\" y=\"16px\">and</text></svg><svg width=\"100%\" x=\"0%\" y=\"48px\"><defs /><svg width=\"100%\" x=\"0\" y=\"0px\"><defs /><text text-anchor=\"middle\" x=\"50%\" y=\"16px\">CC</text></svg></svg><line stroke=\"black\" x1=\"50%\" x2=\"50%\" y1=\"19.2px\" y2=\"48px\" /></svg><line stroke=\"black\" x1=\"50%\" x2=\"71.875%\" y1=\"19.2px\" y2=\"48px\" /><svg width=\"4.16667%\" x=\"73.6111%\" y=\"48px\"><defs /><svg width=\"100%\" x=\"0\" y=\"0px\"><defs /><text text-anchor=\"middle\" x=\"50%\" y=\"16px\">they</text></svg><svg width=\"100%\" x=\"0%\" y=\"48px\"><defs /><svg width=\"100%\" x=\"0\" y=\"0px\"><defs /><text text-anchor=\"middle\" x=\"50%\" y=\"16px\">PRP</text></svg></svg><line stroke=\"black\" x1=\"50%\" x2=\"50%\" y1=\"19.2px\" y2=\"48px\" /></svg><line stroke=\"black\" x1=\"50%\" x2=\"75.6944%\" y1=\"19.2px\" y2=\"48px\" /><svg width=\"6.94444%\" x=\"77.7778%\" y=\"48px\"><defs /><svg width=\"100%\" x=\"0\" y=\"0px\"><defs /><text text-anchor=\"middle\" x=\"50%\" y=\"16px\">showcase</text></svg><svg width=\"100%\" x=\"0%\" y=\"48px\"><defs /><svg width=\"100%\" x=\"0\" y=\"0px\"><defs /><text text-anchor=\"middle\" x=\"50%\" y=\"16px\">VBP</text></svg></svg><line stroke=\"black\" x1=\"50%\" x2=\"50%\" y1=\"19.2px\" y2=\"48px\" /></svg><line stroke=\"black\" x1=\"50%\" x2=\"81.25%\" y1=\"19.2px\" y2=\"48px\" /><svg width=\"7.63889%\" x=\"84.7222%\" y=\"48px\"><defs /><svg width=\"100%\" x=\"0\" y=\"0px\"><defs /><text text-anchor=\"middle\" x=\"50%\" y=\"16px\">beautiful</text></svg><svg width=\"100%\" x=\"0%\" y=\"48px\"><defs /><svg width=\"100%\" x=\"0\" y=\"0px\"><defs /><text text-anchor=\"middle\" x=\"50%\" y=\"16px\">JJ</text></svg></svg><line stroke=\"black\" x1=\"50%\" x2=\"50%\" y1=\"19.2px\" y2=\"48px\" /></svg><line stroke=\"black\" x1=\"50%\" x2=\"88.5417%\" y1=\"19.2px\" y2=\"48px\" /><svg width=\"5.55556%\" x=\"92.3611%\" y=\"48px\"><defs /><svg width=\"100%\" x=\"0\" y=\"0px\"><defs /><text text-anchor=\"middle\" x=\"50%\" y=\"16px\">talent</text></svg><svg width=\"100%\" x=\"0%\" y=\"48px\"><defs /><svg width=\"100%\" x=\"0\" y=\"0px\"><defs /><text text-anchor=\"middle\" x=\"50%\" y=\"16px\">NN</text></svg></svg><line stroke=\"black\" x1=\"50%\" x2=\"50%\" y1=\"19.2px\" y2=\"48px\" /></svg><line stroke=\"black\" x1=\"50%\" x2=\"95.1389%\" y1=\"19.2px\" y2=\"48px\" /><svg width=\"2.08333%\" x=\"97.9167%\" y=\"48px\"><defs /><svg width=\"100%\" x=\"0\" y=\"0px\"><defs /><text text-anchor=\"middle\" x=\"50%\" y=\"16px\">.</text></svg><svg width=\"100%\" x=\"0%\" y=\"48px\"><defs /><svg width=\"100%\" x=\"0\" y=\"0px\"><defs /><text text-anchor=\"middle\" x=\"50%\" y=\"16px\">.</text></svg></svg><line stroke=\"black\" x1=\"50%\" x2=\"50%\" y1=\"19.2px\" y2=\"48px\" /></svg><line stroke=\"black\" x1=\"50%\" x2=\"98.9583%\" y1=\"19.2px\" y2=\"48px\" /></svg>"
          },
          "metadata": {},
          "execution_count": 34
        }
      ]
    },
    {
      "cell_type": "code",
      "source": [
        "ChunkingVer4(first_sent)"
      ],
      "metadata": {
        "colab": {
          "base_uri": "https://localhost:8080/",
          "height": 209
        },
        "id": "kFKAPwFt6kMU",
        "outputId": "4289491c-3d4c-4067-a368-75fd40bacc1a"
      },
      "execution_count": 35,
      "outputs": [
        {
          "output_type": "execute_result",
          "data": {
            "text/plain": [
              "Tree('S', [('2018', 'CD'), ('FIFA', 'NNP'), ('World', 'NNP'), ('CUP', 'NNP'), ('is', 'VBZ'), ('an', 'DT'), ('international', 'JJ'), ('tournament', 'NN'), ('where', 'WRB'), ('all', 'DT'), ('teams', 'NNS'), Tree('VerbPhrases', [('compete', 'VBP'), ('religously', 'RB')]), ('and', 'CC'), ('they', 'PRP'), ('showcase', 'VBP'), ('beautiful', 'JJ'), ('talent', 'NN'), ('.', '.')])"
            ],
            "image/svg+xml": "<svg baseProfile=\"full\" height=\"168px\" preserveAspectRatio=\"xMidYMid meet\" style=\"font-family: times, serif; font-weight: normal; font-style: normal; font-size: 16px;\" version=\"1.1\" viewBox=\"0,0,1144.0,168.0\" width=\"1144px\" xmlns=\"http://www.w3.org/2000/svg\" xmlns:ev=\"http://www.w3.org/2001/xml-events\" xmlns:xlink=\"http://www.w3.org/1999/xlink\"><defs /><svg width=\"100%\" x=\"0\" y=\"0px\"><defs /><text text-anchor=\"middle\" x=\"50%\" y=\"16px\">S</text></svg><svg width=\"4.1958%\" x=\"0%\" y=\"48px\"><defs /><svg width=\"100%\" x=\"0\" y=\"0px\"><defs /><text text-anchor=\"middle\" x=\"50%\" y=\"16px\">2018</text></svg><svg width=\"100%\" x=\"0%\" y=\"48px\"><defs /><svg width=\"100%\" x=\"0\" y=\"0px\"><defs /><text text-anchor=\"middle\" x=\"50%\" y=\"16px\">CD</text></svg></svg><line stroke=\"black\" x1=\"50%\" x2=\"50%\" y1=\"19.2px\" y2=\"48px\" /></svg><line stroke=\"black\" x1=\"50%\" x2=\"2.0979%\" y1=\"19.2px\" y2=\"48px\" /><svg width=\"4.1958%\" x=\"4.1958%\" y=\"48px\"><defs /><svg width=\"100%\" x=\"0\" y=\"0px\"><defs /><text text-anchor=\"middle\" x=\"50%\" y=\"16px\">FIFA</text></svg><svg width=\"100%\" x=\"0%\" y=\"48px\"><defs /><svg width=\"100%\" x=\"0\" y=\"0px\"><defs /><text text-anchor=\"middle\" x=\"50%\" y=\"16px\">NNP</text></svg></svg><line stroke=\"black\" x1=\"50%\" x2=\"50%\" y1=\"19.2px\" y2=\"48px\" /></svg><line stroke=\"black\" x1=\"50%\" x2=\"6.29371%\" y1=\"19.2px\" y2=\"48px\" /><svg width=\"4.8951%\" x=\"8.39161%\" y=\"48px\"><defs /><svg width=\"100%\" x=\"0\" y=\"0px\"><defs /><text text-anchor=\"middle\" x=\"50%\" y=\"16px\">World</text></svg><svg width=\"100%\" x=\"0%\" y=\"48px\"><defs /><svg width=\"100%\" x=\"0\" y=\"0px\"><defs /><text text-anchor=\"middle\" x=\"50%\" y=\"16px\">NNP</text></svg></svg><line stroke=\"black\" x1=\"50%\" x2=\"50%\" y1=\"19.2px\" y2=\"48px\" /></svg><line stroke=\"black\" x1=\"50%\" x2=\"10.8392%\" y1=\"19.2px\" y2=\"48px\" /><svg width=\"3.4965%\" x=\"13.2867%\" y=\"48px\"><defs /><svg width=\"100%\" x=\"0\" y=\"0px\"><defs /><text text-anchor=\"middle\" x=\"50%\" y=\"16px\">CUP</text></svg><svg width=\"100%\" x=\"0%\" y=\"48px\"><defs /><svg width=\"100%\" x=\"0\" y=\"0px\"><defs /><text text-anchor=\"middle\" x=\"50%\" y=\"16px\">NNP</text></svg></svg><line stroke=\"black\" x1=\"50%\" x2=\"50%\" y1=\"19.2px\" y2=\"48px\" /></svg><line stroke=\"black\" x1=\"50%\" x2=\"15.035%\" y1=\"19.2px\" y2=\"48px\" /><svg width=\"3.4965%\" x=\"16.7832%\" y=\"48px\"><defs /><svg width=\"100%\" x=\"0\" y=\"0px\"><defs /><text text-anchor=\"middle\" x=\"50%\" y=\"16px\">is</text></svg><svg width=\"100%\" x=\"0%\" y=\"48px\"><defs /><svg width=\"100%\" x=\"0\" y=\"0px\"><defs /><text text-anchor=\"middle\" x=\"50%\" y=\"16px\">VBZ</text></svg></svg><line stroke=\"black\" x1=\"50%\" x2=\"50%\" y1=\"19.2px\" y2=\"48px\" /></svg><line stroke=\"black\" x1=\"50%\" x2=\"18.5315%\" y1=\"19.2px\" y2=\"48px\" /><svg width=\"2.7972%\" x=\"20.2797%\" y=\"48px\"><defs /><svg width=\"100%\" x=\"0\" y=\"0px\"><defs /><text text-anchor=\"middle\" x=\"50%\" y=\"16px\">an</text></svg><svg width=\"100%\" x=\"0%\" y=\"48px\"><defs /><svg width=\"100%\" x=\"0\" y=\"0px\"><defs /><text text-anchor=\"middle\" x=\"50%\" y=\"16px\">DT</text></svg></svg><line stroke=\"black\" x1=\"50%\" x2=\"50%\" y1=\"19.2px\" y2=\"48px\" /></svg><line stroke=\"black\" x1=\"50%\" x2=\"21.6783%\" y1=\"19.2px\" y2=\"48px\" /><svg width=\"10.4895%\" x=\"23.0769%\" y=\"48px\"><defs /><svg width=\"100%\" x=\"0\" y=\"0px\"><defs /><text text-anchor=\"middle\" x=\"50%\" y=\"16px\">international</text></svg><svg width=\"100%\" x=\"0%\" y=\"48px\"><defs /><svg width=\"100%\" x=\"0\" y=\"0px\"><defs /><text text-anchor=\"middle\" x=\"50%\" y=\"16px\">JJ</text></svg></svg><line stroke=\"black\" x1=\"50%\" x2=\"50%\" y1=\"19.2px\" y2=\"48px\" /></svg><line stroke=\"black\" x1=\"50%\" x2=\"28.3217%\" y1=\"19.2px\" y2=\"48px\" /><svg width=\"8.39161%\" x=\"33.5664%\" y=\"48px\"><defs /><svg width=\"100%\" x=\"0\" y=\"0px\"><defs /><text text-anchor=\"middle\" x=\"50%\" y=\"16px\">tournament</text></svg><svg width=\"100%\" x=\"0%\" y=\"48px\"><defs /><svg width=\"100%\" x=\"0\" y=\"0px\"><defs /><text text-anchor=\"middle\" x=\"50%\" y=\"16px\">NN</text></svg></svg><line stroke=\"black\" x1=\"50%\" x2=\"50%\" y1=\"19.2px\" y2=\"48px\" /></svg><line stroke=\"black\" x1=\"50%\" x2=\"37.7622%\" y1=\"19.2px\" y2=\"48px\" /><svg width=\"4.8951%\" x=\"41.958%\" y=\"48px\"><defs /><svg width=\"100%\" x=\"0\" y=\"0px\"><defs /><text text-anchor=\"middle\" x=\"50%\" y=\"16px\">where</text></svg><svg width=\"100%\" x=\"0%\" y=\"48px\"><defs /><svg width=\"100%\" x=\"0\" y=\"0px\"><defs /><text text-anchor=\"middle\" x=\"50%\" y=\"16px\">WRB</text></svg></svg><line stroke=\"black\" x1=\"50%\" x2=\"50%\" y1=\"19.2px\" y2=\"48px\" /></svg><line stroke=\"black\" x1=\"50%\" x2=\"44.4056%\" y1=\"19.2px\" y2=\"48px\" /><svg width=\"3.4965%\" x=\"46.8531%\" y=\"48px\"><defs /><svg width=\"100%\" x=\"0\" y=\"0px\"><defs /><text text-anchor=\"middle\" x=\"50%\" y=\"16px\">all</text></svg><svg width=\"100%\" x=\"0%\" y=\"48px\"><defs /><svg width=\"100%\" x=\"0\" y=\"0px\"><defs /><text text-anchor=\"middle\" x=\"50%\" y=\"16px\">DT</text></svg></svg><line stroke=\"black\" x1=\"50%\" x2=\"50%\" y1=\"19.2px\" y2=\"48px\" /></svg><line stroke=\"black\" x1=\"50%\" x2=\"48.6014%\" y1=\"19.2px\" y2=\"48px\" /><svg width=\"4.8951%\" x=\"50.3497%\" y=\"48px\"><defs /><svg width=\"100%\" x=\"0\" y=\"0px\"><defs /><text text-anchor=\"middle\" x=\"50%\" y=\"16px\">teams</text></svg><svg width=\"100%\" x=\"0%\" y=\"48px\"><defs /><svg width=\"100%\" x=\"0\" y=\"0px\"><defs /><text text-anchor=\"middle\" x=\"50%\" y=\"16px\">NNS</text></svg></svg><line stroke=\"black\" x1=\"50%\" x2=\"50%\" y1=\"19.2px\" y2=\"48px\" /></svg><line stroke=\"black\" x1=\"50%\" x2=\"52.7972%\" y1=\"19.2px\" y2=\"48px\" /><svg width=\"14.6853%\" x=\"55.2448%\" y=\"48px\"><defs /><svg width=\"100%\" x=\"0\" y=\"0px\"><defs /><text text-anchor=\"middle\" x=\"50%\" y=\"16px\">VerbPhrases</text></svg><svg width=\"42.8571%\" x=\"0%\" y=\"48px\"><defs /><svg width=\"100%\" x=\"0\" y=\"0px\"><defs /><text text-anchor=\"middle\" x=\"50%\" y=\"16px\">compete</text></svg><svg width=\"100%\" x=\"0%\" y=\"48px\"><defs /><svg width=\"100%\" x=\"0\" y=\"0px\"><defs /><text text-anchor=\"middle\" x=\"50%\" y=\"16px\">VBP</text></svg></svg><line stroke=\"black\" x1=\"50%\" x2=\"50%\" y1=\"19.2px\" y2=\"48px\" /></svg><line stroke=\"black\" x1=\"50%\" x2=\"21.4286%\" y1=\"19.2px\" y2=\"48px\" /><svg width=\"57.1429%\" x=\"42.8571%\" y=\"48px\"><defs /><svg width=\"100%\" x=\"0\" y=\"0px\"><defs /><text text-anchor=\"middle\" x=\"50%\" y=\"16px\">religously</text></svg><svg width=\"100%\" x=\"0%\" y=\"48px\"><defs /><svg width=\"100%\" x=\"0\" y=\"0px\"><defs /><text text-anchor=\"middle\" x=\"50%\" y=\"16px\">RB</text></svg></svg><line stroke=\"black\" x1=\"50%\" x2=\"50%\" y1=\"19.2px\" y2=\"48px\" /></svg><line stroke=\"black\" x1=\"50%\" x2=\"71.4286%\" y1=\"19.2px\" y2=\"48px\" /></svg><line stroke=\"black\" x1=\"50%\" x2=\"62.5874%\" y1=\"19.2px\" y2=\"48px\" /><svg width=\"3.4965%\" x=\"69.9301%\" y=\"48px\"><defs /><svg width=\"100%\" x=\"0\" y=\"0px\"><defs /><text text-anchor=\"middle\" x=\"50%\" y=\"16px\">and</text></svg><svg width=\"100%\" x=\"0%\" y=\"48px\"><defs /><svg width=\"100%\" x=\"0\" y=\"0px\"><defs /><text text-anchor=\"middle\" x=\"50%\" y=\"16px\">CC</text></svg></svg><line stroke=\"black\" x1=\"50%\" x2=\"50%\" y1=\"19.2px\" y2=\"48px\" /></svg><line stroke=\"black\" x1=\"50%\" x2=\"71.6783%\" y1=\"19.2px\" y2=\"48px\" /><svg width=\"4.1958%\" x=\"73.4266%\" y=\"48px\"><defs /><svg width=\"100%\" x=\"0\" y=\"0px\"><defs /><text text-anchor=\"middle\" x=\"50%\" y=\"16px\">they</text></svg><svg width=\"100%\" x=\"0%\" y=\"48px\"><defs /><svg width=\"100%\" x=\"0\" y=\"0px\"><defs /><text text-anchor=\"middle\" x=\"50%\" y=\"16px\">PRP</text></svg></svg><line stroke=\"black\" x1=\"50%\" x2=\"50%\" y1=\"19.2px\" y2=\"48px\" /></svg><line stroke=\"black\" x1=\"50%\" x2=\"75.5245%\" y1=\"19.2px\" y2=\"48px\" /><svg width=\"6.99301%\" x=\"77.6224%\" y=\"48px\"><defs /><svg width=\"100%\" x=\"0\" y=\"0px\"><defs /><text text-anchor=\"middle\" x=\"50%\" y=\"16px\">showcase</text></svg><svg width=\"100%\" x=\"0%\" y=\"48px\"><defs /><svg width=\"100%\" x=\"0\" y=\"0px\"><defs /><text text-anchor=\"middle\" x=\"50%\" y=\"16px\">VBP</text></svg></svg><line stroke=\"black\" x1=\"50%\" x2=\"50%\" y1=\"19.2px\" y2=\"48px\" /></svg><line stroke=\"black\" x1=\"50%\" x2=\"81.1189%\" y1=\"19.2px\" y2=\"48px\" /><svg width=\"7.69231%\" x=\"84.6154%\" y=\"48px\"><defs /><svg width=\"100%\" x=\"0\" y=\"0px\"><defs /><text text-anchor=\"middle\" x=\"50%\" y=\"16px\">beautiful</text></svg><svg width=\"100%\" x=\"0%\" y=\"48px\"><defs /><svg width=\"100%\" x=\"0\" y=\"0px\"><defs /><text text-anchor=\"middle\" x=\"50%\" y=\"16px\">JJ</text></svg></svg><line stroke=\"black\" x1=\"50%\" x2=\"50%\" y1=\"19.2px\" y2=\"48px\" /></svg><line stroke=\"black\" x1=\"50%\" x2=\"88.4615%\" y1=\"19.2px\" y2=\"48px\" /><svg width=\"5.59441%\" x=\"92.3077%\" y=\"48px\"><defs /><svg width=\"100%\" x=\"0\" y=\"0px\"><defs /><text text-anchor=\"middle\" x=\"50%\" y=\"16px\">talent</text></svg><svg width=\"100%\" x=\"0%\" y=\"48px\"><defs /><svg width=\"100%\" x=\"0\" y=\"0px\"><defs /><text text-anchor=\"middle\" x=\"50%\" y=\"16px\">NN</text></svg></svg><line stroke=\"black\" x1=\"50%\" x2=\"50%\" y1=\"19.2px\" y2=\"48px\" /></svg><line stroke=\"black\" x1=\"50%\" x2=\"95.1049%\" y1=\"19.2px\" y2=\"48px\" /><svg width=\"2.0979%\" x=\"97.9021%\" y=\"48px\"><defs /><svg width=\"100%\" x=\"0\" y=\"0px\"><defs /><text text-anchor=\"middle\" x=\"50%\" y=\"16px\">.</text></svg><svg width=\"100%\" x=\"0%\" y=\"48px\"><defs /><svg width=\"100%\" x=\"0\" y=\"0px\"><defs /><text text-anchor=\"middle\" x=\"50%\" y=\"16px\">.</text></svg></svg><line stroke=\"black\" x1=\"50%\" x2=\"50%\" y1=\"19.2px\" y2=\"48px\" /></svg><line stroke=\"black\" x1=\"50%\" x2=\"98.951%\" y1=\"19.2px\" y2=\"48px\" /></svg>"
          },
          "metadata": {},
          "execution_count": 35
        }
      ]
    },
    {
      "cell_type": "code",
      "source": [
        "ChunkingVer5(first_sent)"
      ],
      "metadata": {
        "colab": {
          "base_uri": "https://localhost:8080/",
          "height": 209
        },
        "id": "eyrXbyEP6mAM",
        "outputId": "dbb2cc08-2be2-4215-ebce-e056b0523524"
      },
      "execution_count": 36,
      "outputs": [
        {
          "output_type": "execute_result",
          "data": {
            "text/plain": [
              "Tree('S', [('2018', 'CD'), ('FIFA', 'NNP'), ('World', 'NNP'), ('CUP', 'NNP'), ('is', 'VBZ'), Tree('Phrases', [('an', 'DT'), ('international', 'JJ'), ('tournament', 'NN')]), ('where', 'WRB'), ('all', 'DT'), ('teams', 'NNS'), ('compete', 'VBP'), ('religously', 'RB'), ('and', 'CC'), ('they', 'PRP'), ('showcase', 'VBP'), ('beautiful', 'JJ'), ('talent', 'NN'), ('.', '.')])"
            ],
            "image/svg+xml": "<svg baseProfile=\"full\" height=\"168px\" preserveAspectRatio=\"xMidYMid meet\" style=\"font-family: times, serif; font-weight: normal; font-style: normal; font-size: 16px;\" version=\"1.1\" viewBox=\"0,0,1144.0,168.0\" width=\"1144px\" xmlns=\"http://www.w3.org/2000/svg\" xmlns:ev=\"http://www.w3.org/2001/xml-events\" xmlns:xlink=\"http://www.w3.org/1999/xlink\"><defs /><svg width=\"100%\" x=\"0\" y=\"0px\"><defs /><text text-anchor=\"middle\" x=\"50%\" y=\"16px\">S</text></svg><svg width=\"4.1958%\" x=\"0%\" y=\"48px\"><defs /><svg width=\"100%\" x=\"0\" y=\"0px\"><defs /><text text-anchor=\"middle\" x=\"50%\" y=\"16px\">2018</text></svg><svg width=\"100%\" x=\"0%\" y=\"48px\"><defs /><svg width=\"100%\" x=\"0\" y=\"0px\"><defs /><text text-anchor=\"middle\" x=\"50%\" y=\"16px\">CD</text></svg></svg><line stroke=\"black\" x1=\"50%\" x2=\"50%\" y1=\"19.2px\" y2=\"48px\" /></svg><line stroke=\"black\" x1=\"50%\" x2=\"2.0979%\" y1=\"19.2px\" y2=\"48px\" /><svg width=\"4.1958%\" x=\"4.1958%\" y=\"48px\"><defs /><svg width=\"100%\" x=\"0\" y=\"0px\"><defs /><text text-anchor=\"middle\" x=\"50%\" y=\"16px\">FIFA</text></svg><svg width=\"100%\" x=\"0%\" y=\"48px\"><defs /><svg width=\"100%\" x=\"0\" y=\"0px\"><defs /><text text-anchor=\"middle\" x=\"50%\" y=\"16px\">NNP</text></svg></svg><line stroke=\"black\" x1=\"50%\" x2=\"50%\" y1=\"19.2px\" y2=\"48px\" /></svg><line stroke=\"black\" x1=\"50%\" x2=\"6.29371%\" y1=\"19.2px\" y2=\"48px\" /><svg width=\"4.8951%\" x=\"8.39161%\" y=\"48px\"><defs /><svg width=\"100%\" x=\"0\" y=\"0px\"><defs /><text text-anchor=\"middle\" x=\"50%\" y=\"16px\">World</text></svg><svg width=\"100%\" x=\"0%\" y=\"48px\"><defs /><svg width=\"100%\" x=\"0\" y=\"0px\"><defs /><text text-anchor=\"middle\" x=\"50%\" y=\"16px\">NNP</text></svg></svg><line stroke=\"black\" x1=\"50%\" x2=\"50%\" y1=\"19.2px\" y2=\"48px\" /></svg><line stroke=\"black\" x1=\"50%\" x2=\"10.8392%\" y1=\"19.2px\" y2=\"48px\" /><svg width=\"3.4965%\" x=\"13.2867%\" y=\"48px\"><defs /><svg width=\"100%\" x=\"0\" y=\"0px\"><defs /><text text-anchor=\"middle\" x=\"50%\" y=\"16px\">CUP</text></svg><svg width=\"100%\" x=\"0%\" y=\"48px\"><defs /><svg width=\"100%\" x=\"0\" y=\"0px\"><defs /><text text-anchor=\"middle\" x=\"50%\" y=\"16px\">NNP</text></svg></svg><line stroke=\"black\" x1=\"50%\" x2=\"50%\" y1=\"19.2px\" y2=\"48px\" /></svg><line stroke=\"black\" x1=\"50%\" x2=\"15.035%\" y1=\"19.2px\" y2=\"48px\" /><svg width=\"3.4965%\" x=\"16.7832%\" y=\"48px\"><defs /><svg width=\"100%\" x=\"0\" y=\"0px\"><defs /><text text-anchor=\"middle\" x=\"50%\" y=\"16px\">is</text></svg><svg width=\"100%\" x=\"0%\" y=\"48px\"><defs /><svg width=\"100%\" x=\"0\" y=\"0px\"><defs /><text text-anchor=\"middle\" x=\"50%\" y=\"16px\">VBZ</text></svg></svg><line stroke=\"black\" x1=\"50%\" x2=\"50%\" y1=\"19.2px\" y2=\"48px\" /></svg><line stroke=\"black\" x1=\"50%\" x2=\"18.5315%\" y1=\"19.2px\" y2=\"48px\" /><svg width=\"21.6783%\" x=\"20.2797%\" y=\"48px\"><defs /><svg width=\"100%\" x=\"0\" y=\"0px\"><defs /><text text-anchor=\"middle\" x=\"50%\" y=\"16px\">Phrases</text></svg><svg width=\"12.9032%\" x=\"0%\" y=\"48px\"><defs /><svg width=\"100%\" x=\"0\" y=\"0px\"><defs /><text text-anchor=\"middle\" x=\"50%\" y=\"16px\">an</text></svg><svg width=\"100%\" x=\"0%\" y=\"48px\"><defs /><svg width=\"100%\" x=\"0\" y=\"0px\"><defs /><text text-anchor=\"middle\" x=\"50%\" y=\"16px\">DT</text></svg></svg><line stroke=\"black\" x1=\"50%\" x2=\"50%\" y1=\"19.2px\" y2=\"48px\" /></svg><line stroke=\"black\" x1=\"50%\" x2=\"6.45161%\" y1=\"19.2px\" y2=\"48px\" /><svg width=\"48.3871%\" x=\"12.9032%\" y=\"48px\"><defs /><svg width=\"100%\" x=\"0\" y=\"0px\"><defs /><text text-anchor=\"middle\" x=\"50%\" y=\"16px\">international</text></svg><svg width=\"100%\" x=\"0%\" y=\"48px\"><defs /><svg width=\"100%\" x=\"0\" y=\"0px\"><defs /><text text-anchor=\"middle\" x=\"50%\" y=\"16px\">JJ</text></svg></svg><line stroke=\"black\" x1=\"50%\" x2=\"50%\" y1=\"19.2px\" y2=\"48px\" /></svg><line stroke=\"black\" x1=\"50%\" x2=\"37.0968%\" y1=\"19.2px\" y2=\"48px\" /><svg width=\"38.7097%\" x=\"61.2903%\" y=\"48px\"><defs /><svg width=\"100%\" x=\"0\" y=\"0px\"><defs /><text text-anchor=\"middle\" x=\"50%\" y=\"16px\">tournament</text></svg><svg width=\"100%\" x=\"0%\" y=\"48px\"><defs /><svg width=\"100%\" x=\"0\" y=\"0px\"><defs /><text text-anchor=\"middle\" x=\"50%\" y=\"16px\">NN</text></svg></svg><line stroke=\"black\" x1=\"50%\" x2=\"50%\" y1=\"19.2px\" y2=\"48px\" /></svg><line stroke=\"black\" x1=\"50%\" x2=\"80.6452%\" y1=\"19.2px\" y2=\"48px\" /></svg><line stroke=\"black\" x1=\"50%\" x2=\"31.1189%\" y1=\"19.2px\" y2=\"48px\" /><svg width=\"4.8951%\" x=\"41.958%\" y=\"48px\"><defs /><svg width=\"100%\" x=\"0\" y=\"0px\"><defs /><text text-anchor=\"middle\" x=\"50%\" y=\"16px\">where</text></svg><svg width=\"100%\" x=\"0%\" y=\"48px\"><defs /><svg width=\"100%\" x=\"0\" y=\"0px\"><defs /><text text-anchor=\"middle\" x=\"50%\" y=\"16px\">WRB</text></svg></svg><line stroke=\"black\" x1=\"50%\" x2=\"50%\" y1=\"19.2px\" y2=\"48px\" /></svg><line stroke=\"black\" x1=\"50%\" x2=\"44.4056%\" y1=\"19.2px\" y2=\"48px\" /><svg width=\"3.4965%\" x=\"46.8531%\" y=\"48px\"><defs /><svg width=\"100%\" x=\"0\" y=\"0px\"><defs /><text text-anchor=\"middle\" x=\"50%\" y=\"16px\">all</text></svg><svg width=\"100%\" x=\"0%\" y=\"48px\"><defs /><svg width=\"100%\" x=\"0\" y=\"0px\"><defs /><text text-anchor=\"middle\" x=\"50%\" y=\"16px\">DT</text></svg></svg><line stroke=\"black\" x1=\"50%\" x2=\"50%\" y1=\"19.2px\" y2=\"48px\" /></svg><line stroke=\"black\" x1=\"50%\" x2=\"48.6014%\" y1=\"19.2px\" y2=\"48px\" /><svg width=\"4.8951%\" x=\"50.3497%\" y=\"48px\"><defs /><svg width=\"100%\" x=\"0\" y=\"0px\"><defs /><text text-anchor=\"middle\" x=\"50%\" y=\"16px\">teams</text></svg><svg width=\"100%\" x=\"0%\" y=\"48px\"><defs /><svg width=\"100%\" x=\"0\" y=\"0px\"><defs /><text text-anchor=\"middle\" x=\"50%\" y=\"16px\">NNS</text></svg></svg><line stroke=\"black\" x1=\"50%\" x2=\"50%\" y1=\"19.2px\" y2=\"48px\" /></svg><line stroke=\"black\" x1=\"50%\" x2=\"52.7972%\" y1=\"19.2px\" y2=\"48px\" /><svg width=\"6.29371%\" x=\"55.2448%\" y=\"48px\"><defs /><svg width=\"100%\" x=\"0\" y=\"0px\"><defs /><text text-anchor=\"middle\" x=\"50%\" y=\"16px\">compete</text></svg><svg width=\"100%\" x=\"0%\" y=\"48px\"><defs /><svg width=\"100%\" x=\"0\" y=\"0px\"><defs /><text text-anchor=\"middle\" x=\"50%\" y=\"16px\">VBP</text></svg></svg><line stroke=\"black\" x1=\"50%\" x2=\"50%\" y1=\"19.2px\" y2=\"48px\" /></svg><line stroke=\"black\" x1=\"50%\" x2=\"58.3916%\" y1=\"19.2px\" y2=\"48px\" /><svg width=\"8.39161%\" x=\"61.5385%\" y=\"48px\"><defs /><svg width=\"100%\" x=\"0\" y=\"0px\"><defs /><text text-anchor=\"middle\" x=\"50%\" y=\"16px\">religously</text></svg><svg width=\"100%\" x=\"0%\" y=\"48px\"><defs /><svg width=\"100%\" x=\"0\" y=\"0px\"><defs /><text text-anchor=\"middle\" x=\"50%\" y=\"16px\">RB</text></svg></svg><line stroke=\"black\" x1=\"50%\" x2=\"50%\" y1=\"19.2px\" y2=\"48px\" /></svg><line stroke=\"black\" x1=\"50%\" x2=\"65.7343%\" y1=\"19.2px\" y2=\"48px\" /><svg width=\"3.4965%\" x=\"69.9301%\" y=\"48px\"><defs /><svg width=\"100%\" x=\"0\" y=\"0px\"><defs /><text text-anchor=\"middle\" x=\"50%\" y=\"16px\">and</text></svg><svg width=\"100%\" x=\"0%\" y=\"48px\"><defs /><svg width=\"100%\" x=\"0\" y=\"0px\"><defs /><text text-anchor=\"middle\" x=\"50%\" y=\"16px\">CC</text></svg></svg><line stroke=\"black\" x1=\"50%\" x2=\"50%\" y1=\"19.2px\" y2=\"48px\" /></svg><line stroke=\"black\" x1=\"50%\" x2=\"71.6783%\" y1=\"19.2px\" y2=\"48px\" /><svg width=\"4.1958%\" x=\"73.4266%\" y=\"48px\"><defs /><svg width=\"100%\" x=\"0\" y=\"0px\"><defs /><text text-anchor=\"middle\" x=\"50%\" y=\"16px\">they</text></svg><svg width=\"100%\" x=\"0%\" y=\"48px\"><defs /><svg width=\"100%\" x=\"0\" y=\"0px\"><defs /><text text-anchor=\"middle\" x=\"50%\" y=\"16px\">PRP</text></svg></svg><line stroke=\"black\" x1=\"50%\" x2=\"50%\" y1=\"19.2px\" y2=\"48px\" /></svg><line stroke=\"black\" x1=\"50%\" x2=\"75.5245%\" y1=\"19.2px\" y2=\"48px\" /><svg width=\"6.99301%\" x=\"77.6224%\" y=\"48px\"><defs /><svg width=\"100%\" x=\"0\" y=\"0px\"><defs /><text text-anchor=\"middle\" x=\"50%\" y=\"16px\">showcase</text></svg><svg width=\"100%\" x=\"0%\" y=\"48px\"><defs /><svg width=\"100%\" x=\"0\" y=\"0px\"><defs /><text text-anchor=\"middle\" x=\"50%\" y=\"16px\">VBP</text></svg></svg><line stroke=\"black\" x1=\"50%\" x2=\"50%\" y1=\"19.2px\" y2=\"48px\" /></svg><line stroke=\"black\" x1=\"50%\" x2=\"81.1189%\" y1=\"19.2px\" y2=\"48px\" /><svg width=\"7.69231%\" x=\"84.6154%\" y=\"48px\"><defs /><svg width=\"100%\" x=\"0\" y=\"0px\"><defs /><text text-anchor=\"middle\" x=\"50%\" y=\"16px\">beautiful</text></svg><svg width=\"100%\" x=\"0%\" y=\"48px\"><defs /><svg width=\"100%\" x=\"0\" y=\"0px\"><defs /><text text-anchor=\"middle\" x=\"50%\" y=\"16px\">JJ</text></svg></svg><line stroke=\"black\" x1=\"50%\" x2=\"50%\" y1=\"19.2px\" y2=\"48px\" /></svg><line stroke=\"black\" x1=\"50%\" x2=\"88.4615%\" y1=\"19.2px\" y2=\"48px\" /><svg width=\"5.59441%\" x=\"92.3077%\" y=\"48px\"><defs /><svg width=\"100%\" x=\"0\" y=\"0px\"><defs /><text text-anchor=\"middle\" x=\"50%\" y=\"16px\">talent</text></svg><svg width=\"100%\" x=\"0%\" y=\"48px\"><defs /><svg width=\"100%\" x=\"0\" y=\"0px\"><defs /><text text-anchor=\"middle\" x=\"50%\" y=\"16px\">NN</text></svg></svg><line stroke=\"black\" x1=\"50%\" x2=\"50%\" y1=\"19.2px\" y2=\"48px\" /></svg><line stroke=\"black\" x1=\"50%\" x2=\"95.1049%\" y1=\"19.2px\" y2=\"48px\" /><svg width=\"2.0979%\" x=\"97.9021%\" y=\"48px\"><defs /><svg width=\"100%\" x=\"0\" y=\"0px\"><defs /><text text-anchor=\"middle\" x=\"50%\" y=\"16px\">.</text></svg><svg width=\"100%\" x=\"0%\" y=\"48px\"><defs /><svg width=\"100%\" x=\"0\" y=\"0px\"><defs /><text text-anchor=\"middle\" x=\"50%\" y=\"16px\">.</text></svg></svg><line stroke=\"black\" x1=\"50%\" x2=\"50%\" y1=\"19.2px\" y2=\"48px\" /></svg><line stroke=\"black\" x1=\"50%\" x2=\"98.951%\" y1=\"19.2px\" y2=\"48px\" /></svg>"
          },
          "metadata": {},
          "execution_count": 36
        }
      ]
    },
    {
      "cell_type": "code",
      "source": [
        "ChunkingVer6(first_sent)"
      ],
      "metadata": {
        "colab": {
          "base_uri": "https://localhost:8080/",
          "height": 161
        },
        "id": "LDt5kJ3y6pf8",
        "outputId": "e03452a8-12df-495e-ff99-6ed65ca8fc5c"
      },
      "execution_count": 37,
      "outputs": [
        {
          "output_type": "execute_result",
          "data": {
            "text/plain": [
              "Tree('S', [('2018', 'CD'), ('FIFA', 'NNP'), ('World', 'NNP'), ('CUP', 'NNP'), ('is', 'VBZ'), ('an', 'DT'), ('international', 'JJ'), ('tournament', 'NN'), ('where', 'WRB'), ('all', 'DT'), ('teams', 'NNS'), ('compete', 'VBP'), ('religously', 'RB'), ('and', 'CC'), ('they', 'PRP'), ('showcase', 'VBP'), ('beautiful', 'JJ'), ('talent', 'NN'), ('.', '.')])"
            ],
            "image/svg+xml": "<svg baseProfile=\"full\" height=\"120px\" preserveAspectRatio=\"xMidYMid meet\" style=\"font-family: times, serif; font-weight: normal; font-style: normal; font-size: 16px;\" version=\"1.1\" viewBox=\"0,0,1144.0,120.0\" width=\"1144px\" xmlns=\"http://www.w3.org/2000/svg\" xmlns:ev=\"http://www.w3.org/2001/xml-events\" xmlns:xlink=\"http://www.w3.org/1999/xlink\"><defs /><svg width=\"100%\" x=\"0\" y=\"0px\"><defs /><text text-anchor=\"middle\" x=\"50%\" y=\"16px\">S</text></svg><svg width=\"4.1958%\" x=\"0%\" y=\"48px\"><defs /><svg width=\"100%\" x=\"0\" y=\"0px\"><defs /><text text-anchor=\"middle\" x=\"50%\" y=\"16px\">2018</text></svg><svg width=\"100%\" x=\"0%\" y=\"48px\"><defs /><svg width=\"100%\" x=\"0\" y=\"0px\"><defs /><text text-anchor=\"middle\" x=\"50%\" y=\"16px\">CD</text></svg></svg><line stroke=\"black\" x1=\"50%\" x2=\"50%\" y1=\"19.2px\" y2=\"48px\" /></svg><line stroke=\"black\" x1=\"50%\" x2=\"2.0979%\" y1=\"19.2px\" y2=\"48px\" /><svg width=\"4.1958%\" x=\"4.1958%\" y=\"48px\"><defs /><svg width=\"100%\" x=\"0\" y=\"0px\"><defs /><text text-anchor=\"middle\" x=\"50%\" y=\"16px\">FIFA</text></svg><svg width=\"100%\" x=\"0%\" y=\"48px\"><defs /><svg width=\"100%\" x=\"0\" y=\"0px\"><defs /><text text-anchor=\"middle\" x=\"50%\" y=\"16px\">NNP</text></svg></svg><line stroke=\"black\" x1=\"50%\" x2=\"50%\" y1=\"19.2px\" y2=\"48px\" /></svg><line stroke=\"black\" x1=\"50%\" x2=\"6.29371%\" y1=\"19.2px\" y2=\"48px\" /><svg width=\"4.8951%\" x=\"8.39161%\" y=\"48px\"><defs /><svg width=\"100%\" x=\"0\" y=\"0px\"><defs /><text text-anchor=\"middle\" x=\"50%\" y=\"16px\">World</text></svg><svg width=\"100%\" x=\"0%\" y=\"48px\"><defs /><svg width=\"100%\" x=\"0\" y=\"0px\"><defs /><text text-anchor=\"middle\" x=\"50%\" y=\"16px\">NNP</text></svg></svg><line stroke=\"black\" x1=\"50%\" x2=\"50%\" y1=\"19.2px\" y2=\"48px\" /></svg><line stroke=\"black\" x1=\"50%\" x2=\"10.8392%\" y1=\"19.2px\" y2=\"48px\" /><svg width=\"3.4965%\" x=\"13.2867%\" y=\"48px\"><defs /><svg width=\"100%\" x=\"0\" y=\"0px\"><defs /><text text-anchor=\"middle\" x=\"50%\" y=\"16px\">CUP</text></svg><svg width=\"100%\" x=\"0%\" y=\"48px\"><defs /><svg width=\"100%\" x=\"0\" y=\"0px\"><defs /><text text-anchor=\"middle\" x=\"50%\" y=\"16px\">NNP</text></svg></svg><line stroke=\"black\" x1=\"50%\" x2=\"50%\" y1=\"19.2px\" y2=\"48px\" /></svg><line stroke=\"black\" x1=\"50%\" x2=\"15.035%\" y1=\"19.2px\" y2=\"48px\" /><svg width=\"3.4965%\" x=\"16.7832%\" y=\"48px\"><defs /><svg width=\"100%\" x=\"0\" y=\"0px\"><defs /><text text-anchor=\"middle\" x=\"50%\" y=\"16px\">is</text></svg><svg width=\"100%\" x=\"0%\" y=\"48px\"><defs /><svg width=\"100%\" x=\"0\" y=\"0px\"><defs /><text text-anchor=\"middle\" x=\"50%\" y=\"16px\">VBZ</text></svg></svg><line stroke=\"black\" x1=\"50%\" x2=\"50%\" y1=\"19.2px\" y2=\"48px\" /></svg><line stroke=\"black\" x1=\"50%\" x2=\"18.5315%\" y1=\"19.2px\" y2=\"48px\" /><svg width=\"2.7972%\" x=\"20.2797%\" y=\"48px\"><defs /><svg width=\"100%\" x=\"0\" y=\"0px\"><defs /><text text-anchor=\"middle\" x=\"50%\" y=\"16px\">an</text></svg><svg width=\"100%\" x=\"0%\" y=\"48px\"><defs /><svg width=\"100%\" x=\"0\" y=\"0px\"><defs /><text text-anchor=\"middle\" x=\"50%\" y=\"16px\">DT</text></svg></svg><line stroke=\"black\" x1=\"50%\" x2=\"50%\" y1=\"19.2px\" y2=\"48px\" /></svg><line stroke=\"black\" x1=\"50%\" x2=\"21.6783%\" y1=\"19.2px\" y2=\"48px\" /><svg width=\"10.4895%\" x=\"23.0769%\" y=\"48px\"><defs /><svg width=\"100%\" x=\"0\" y=\"0px\"><defs /><text text-anchor=\"middle\" x=\"50%\" y=\"16px\">international</text></svg><svg width=\"100%\" x=\"0%\" y=\"48px\"><defs /><svg width=\"100%\" x=\"0\" y=\"0px\"><defs /><text text-anchor=\"middle\" x=\"50%\" y=\"16px\">JJ</text></svg></svg><line stroke=\"black\" x1=\"50%\" x2=\"50%\" y1=\"19.2px\" y2=\"48px\" /></svg><line stroke=\"black\" x1=\"50%\" x2=\"28.3217%\" y1=\"19.2px\" y2=\"48px\" /><svg width=\"8.39161%\" x=\"33.5664%\" y=\"48px\"><defs /><svg width=\"100%\" x=\"0\" y=\"0px\"><defs /><text text-anchor=\"middle\" x=\"50%\" y=\"16px\">tournament</text></svg><svg width=\"100%\" x=\"0%\" y=\"48px\"><defs /><svg width=\"100%\" x=\"0\" y=\"0px\"><defs /><text text-anchor=\"middle\" x=\"50%\" y=\"16px\">NN</text></svg></svg><line stroke=\"black\" x1=\"50%\" x2=\"50%\" y1=\"19.2px\" y2=\"48px\" /></svg><line stroke=\"black\" x1=\"50%\" x2=\"37.7622%\" y1=\"19.2px\" y2=\"48px\" /><svg width=\"4.8951%\" x=\"41.958%\" y=\"48px\"><defs /><svg width=\"100%\" x=\"0\" y=\"0px\"><defs /><text text-anchor=\"middle\" x=\"50%\" y=\"16px\">where</text></svg><svg width=\"100%\" x=\"0%\" y=\"48px\"><defs /><svg width=\"100%\" x=\"0\" y=\"0px\"><defs /><text text-anchor=\"middle\" x=\"50%\" y=\"16px\">WRB</text></svg></svg><line stroke=\"black\" x1=\"50%\" x2=\"50%\" y1=\"19.2px\" y2=\"48px\" /></svg><line stroke=\"black\" x1=\"50%\" x2=\"44.4056%\" y1=\"19.2px\" y2=\"48px\" /><svg width=\"3.4965%\" x=\"46.8531%\" y=\"48px\"><defs /><svg width=\"100%\" x=\"0\" y=\"0px\"><defs /><text text-anchor=\"middle\" x=\"50%\" y=\"16px\">all</text></svg><svg width=\"100%\" x=\"0%\" y=\"48px\"><defs /><svg width=\"100%\" x=\"0\" y=\"0px\"><defs /><text text-anchor=\"middle\" x=\"50%\" y=\"16px\">DT</text></svg></svg><line stroke=\"black\" x1=\"50%\" x2=\"50%\" y1=\"19.2px\" y2=\"48px\" /></svg><line stroke=\"black\" x1=\"50%\" x2=\"48.6014%\" y1=\"19.2px\" y2=\"48px\" /><svg width=\"4.8951%\" x=\"50.3497%\" y=\"48px\"><defs /><svg width=\"100%\" x=\"0\" y=\"0px\"><defs /><text text-anchor=\"middle\" x=\"50%\" y=\"16px\">teams</text></svg><svg width=\"100%\" x=\"0%\" y=\"48px\"><defs /><svg width=\"100%\" x=\"0\" y=\"0px\"><defs /><text text-anchor=\"middle\" x=\"50%\" y=\"16px\">NNS</text></svg></svg><line stroke=\"black\" x1=\"50%\" x2=\"50%\" y1=\"19.2px\" y2=\"48px\" /></svg><line stroke=\"black\" x1=\"50%\" x2=\"52.7972%\" y1=\"19.2px\" y2=\"48px\" /><svg width=\"6.29371%\" x=\"55.2448%\" y=\"48px\"><defs /><svg width=\"100%\" x=\"0\" y=\"0px\"><defs /><text text-anchor=\"middle\" x=\"50%\" y=\"16px\">compete</text></svg><svg width=\"100%\" x=\"0%\" y=\"48px\"><defs /><svg width=\"100%\" x=\"0\" y=\"0px\"><defs /><text text-anchor=\"middle\" x=\"50%\" y=\"16px\">VBP</text></svg></svg><line stroke=\"black\" x1=\"50%\" x2=\"50%\" y1=\"19.2px\" y2=\"48px\" /></svg><line stroke=\"black\" x1=\"50%\" x2=\"58.3916%\" y1=\"19.2px\" y2=\"48px\" /><svg width=\"8.39161%\" x=\"61.5385%\" y=\"48px\"><defs /><svg width=\"100%\" x=\"0\" y=\"0px\"><defs /><text text-anchor=\"middle\" x=\"50%\" y=\"16px\">religously</text></svg><svg width=\"100%\" x=\"0%\" y=\"48px\"><defs /><svg width=\"100%\" x=\"0\" y=\"0px\"><defs /><text text-anchor=\"middle\" x=\"50%\" y=\"16px\">RB</text></svg></svg><line stroke=\"black\" x1=\"50%\" x2=\"50%\" y1=\"19.2px\" y2=\"48px\" /></svg><line stroke=\"black\" x1=\"50%\" x2=\"65.7343%\" y1=\"19.2px\" y2=\"48px\" /><svg width=\"3.4965%\" x=\"69.9301%\" y=\"48px\"><defs /><svg width=\"100%\" x=\"0\" y=\"0px\"><defs /><text text-anchor=\"middle\" x=\"50%\" y=\"16px\">and</text></svg><svg width=\"100%\" x=\"0%\" y=\"48px\"><defs /><svg width=\"100%\" x=\"0\" y=\"0px\"><defs /><text text-anchor=\"middle\" x=\"50%\" y=\"16px\">CC</text></svg></svg><line stroke=\"black\" x1=\"50%\" x2=\"50%\" y1=\"19.2px\" y2=\"48px\" /></svg><line stroke=\"black\" x1=\"50%\" x2=\"71.6783%\" y1=\"19.2px\" y2=\"48px\" /><svg width=\"4.1958%\" x=\"73.4266%\" y=\"48px\"><defs /><svg width=\"100%\" x=\"0\" y=\"0px\"><defs /><text text-anchor=\"middle\" x=\"50%\" y=\"16px\">they</text></svg><svg width=\"100%\" x=\"0%\" y=\"48px\"><defs /><svg width=\"100%\" x=\"0\" y=\"0px\"><defs /><text text-anchor=\"middle\" x=\"50%\" y=\"16px\">PRP</text></svg></svg><line stroke=\"black\" x1=\"50%\" x2=\"50%\" y1=\"19.2px\" y2=\"48px\" /></svg><line stroke=\"black\" x1=\"50%\" x2=\"75.5245%\" y1=\"19.2px\" y2=\"48px\" /><svg width=\"6.99301%\" x=\"77.6224%\" y=\"48px\"><defs /><svg width=\"100%\" x=\"0\" y=\"0px\"><defs /><text text-anchor=\"middle\" x=\"50%\" y=\"16px\">showcase</text></svg><svg width=\"100%\" x=\"0%\" y=\"48px\"><defs /><svg width=\"100%\" x=\"0\" y=\"0px\"><defs /><text text-anchor=\"middle\" x=\"50%\" y=\"16px\">VBP</text></svg></svg><line stroke=\"black\" x1=\"50%\" x2=\"50%\" y1=\"19.2px\" y2=\"48px\" /></svg><line stroke=\"black\" x1=\"50%\" x2=\"81.1189%\" y1=\"19.2px\" y2=\"48px\" /><svg width=\"7.69231%\" x=\"84.6154%\" y=\"48px\"><defs /><svg width=\"100%\" x=\"0\" y=\"0px\"><defs /><text text-anchor=\"middle\" x=\"50%\" y=\"16px\">beautiful</text></svg><svg width=\"100%\" x=\"0%\" y=\"48px\"><defs /><svg width=\"100%\" x=\"0\" y=\"0px\"><defs /><text text-anchor=\"middle\" x=\"50%\" y=\"16px\">JJ</text></svg></svg><line stroke=\"black\" x1=\"50%\" x2=\"50%\" y1=\"19.2px\" y2=\"48px\" /></svg><line stroke=\"black\" x1=\"50%\" x2=\"88.4615%\" y1=\"19.2px\" y2=\"48px\" /><svg width=\"5.59441%\" x=\"92.3077%\" y=\"48px\"><defs /><svg width=\"100%\" x=\"0\" y=\"0px\"><defs /><text text-anchor=\"middle\" x=\"50%\" y=\"16px\">talent</text></svg><svg width=\"100%\" x=\"0%\" y=\"48px\"><defs /><svg width=\"100%\" x=\"0\" y=\"0px\"><defs /><text text-anchor=\"middle\" x=\"50%\" y=\"16px\">NN</text></svg></svg><line stroke=\"black\" x1=\"50%\" x2=\"50%\" y1=\"19.2px\" y2=\"48px\" /></svg><line stroke=\"black\" x1=\"50%\" x2=\"95.1049%\" y1=\"19.2px\" y2=\"48px\" /><svg width=\"2.0979%\" x=\"97.9021%\" y=\"48px\"><defs /><svg width=\"100%\" x=\"0\" y=\"0px\"><defs /><text text-anchor=\"middle\" x=\"50%\" y=\"16px\">.</text></svg><svg width=\"100%\" x=\"0%\" y=\"48px\"><defs /><svg width=\"100%\" x=\"0\" y=\"0px\"><defs /><text text-anchor=\"middle\" x=\"50%\" y=\"16px\">.</text></svg></svg><line stroke=\"black\" x1=\"50%\" x2=\"50%\" y1=\"19.2px\" y2=\"48px\" /></svg><line stroke=\"black\" x1=\"50%\" x2=\"98.951%\" y1=\"19.2px\" y2=\"48px\" /></svg>"
          },
          "metadata": {},
          "execution_count": 37
        }
      ]
    },
    {
      "cell_type": "markdown",
      "source": [
        "5.\tMake a content free grammar having the following rules:\n",
        "\n",
        "a.\tNoun Phrases are followed by Verb Phrases\n",
        "\n",
        "b.\tVerb Phrase can have\n",
        "i.\tVerb and noun phrase\n",
        "ii.\tVerb, noun phrase and a preposition\n",
        "\n",
        "c.\tNoun Phrases can have\n",
        "i.\tDelimiters followed by noun\n",
        "ii.\tDelimiters, noun and a preposition phrase\n",
        "\n",
        "d.\tPreposition phrase have a preposition followed by a noun phrase\n",
        "The delimiters, verbs, prepositions and nouns for the grammar should be the 2 most frequent words of each type from “FIFAWorldCup2018.txt”.\n",
        " Generate the CFG for “FIFAWorldCup2018.txt” file and save them in a file named “CFG.txt”"
      ],
      "metadata": {
        "id": "lxOwJ_LJ6vBS"
      }
    },
    {
      "cell_type": "code",
      "source": [
        "#2 most common Nouns\n",
        "print(\"Nouns:\",GetNMostFrequentNouns(content,2))\n",
        "\n",
        "#2 most common verbs\n",
        "print(\"Verbs:\",GetNMostFrequentVerbs(content,2))\n",
        "\n",
        "#2 most common prepositions\n",
        "print(\"Prepositions:\",GetNMostFrequentPrepositions(content,2))\n",
        "\n",
        "#2 most common delimiters\n",
        "print(\"Delimiters:\",GetNMostFrequentDelimiters(content,2))"
      ],
      "metadata": {
        "colab": {
          "base_uri": "https://localhost:8080/"
        },
        "id": "tQrl4Ay26rK7",
        "outputId": "dc882b85-6826-4d5c-e83f-26c2a81f87b2"
      },
      "execution_count": 38,
      "outputs": [
        {
          "output_type": "stream",
          "name": "stdout",
          "text": [
            "Nouns: [('World', 15), ('Cup', 14)]\n",
            "Verbs: [('was', 11), ('had', 7)]\n",
            "Prepositions: [('of', 29), ('in', 18)]\n",
            "Delimiters: [(',', 40), ('.', 28)]\n"
          ]
        }
      ]
    },
    {
      "cell_type": "code",
      "source": [
        "from nltk.parse.generate import generate\n",
        "grammar = nltk.CFG.fromstring(\"\"\"\n",
        " S -> NP VP\n",
        " VP -> V NP | V NP PP\n",
        " V -> \"had\" | \"was\"\n",
        " NP -> DT N\n",
        " DT -> \"a\" | \"the\"\n",
        " N -> \"world\" | \"cup\"\n",
        " PP -> P NP\n",
        " P -> \"of\" | \"in\"\n",
        " \"\"\")\n",
        "\n",
        "generated_grammar=[]\n",
        "for sent in generate(grammar):\n",
        "    generated_grammar.append(\" \".join(sent))"
      ],
      "metadata": {
        "id": "WGi6o7I76xfc"
      },
      "execution_count": 39,
      "outputs": []
    },
    {
      "cell_type": "code",
      "source": [
        "file=open('CFG.txt','a+')\n",
        "for each in generated_grammar:\n",
        "    file.write(each+\"\\n\")\n",
        "file.close()"
      ],
      "metadata": {
        "id": "s_P58U967E7Q"
      },
      "execution_count": 40,
      "outputs": []
    },
    {
      "cell_type": "markdown",
      "source": [
        "CONTENT IN THE CFG.TXT FILE\n",
        "\n",
        "a world had a world\n",
        "\n",
        "a world had a cup\n",
        "\n",
        "a world had the world\n",
        "\n",
        "a world had the cup\n",
        "\n",
        "a world was a world\n",
        "\n",
        "a world was a cup\n",
        "\n",
        "a world was the world\n",
        "\n",
        "a world was the cup\n",
        "\n",
        "a world had a world of a world\n",
        "\n",
        "a world had a world of a cup\n",
        "\n",
        "a world had a world of the world\n",
        "\n",
        "a world had a world of the cup\n",
        "\n",
        "a world had a world in a world\n",
        "\n",
        "a world had a world in a cup\n",
        "\n",
        "a world had a world in the world\n",
        "\n",
        "a world had a world in the cup\n",
        "\n",
        "a world had a cup of a world\n",
        "\n",
        "a world had a cup of a cup\n",
        "\n",
        "a world had a cup of the world\n",
        "\n",
        "a world had a cup of the cup\n",
        "\n",
        "a world had a cup in a world\n",
        "\n",
        "a world had a cup in a cup\n",
        "\n",
        "a world had a cup in the world\n",
        "\n",
        "a world had a cup in the cup\n",
        "\n",
        "a world had the world of a world\n",
        "\n",
        "a world had the world of a cup\n",
        "\n",
        "a world had the world of the world\n",
        "\n",
        "a world had the world of the cup\n",
        "\n",
        "a world had the world in a world\n",
        "\n",
        "a world had the world in a cup\n",
        "\n",
        "a world had the world in the world\n",
        "\n",
        "a world had the world in the cup\n",
        "\n",
        "a world had the cup of a world\n",
        "\n",
        "a world had the cup of a cup\n",
        "\n",
        "a world had the cup of the world\n",
        "\n",
        "a world had the cup of the cup\n",
        "\n",
        "a world had the cup in a world\n",
        "\n",
        "a world had the cup in a cup\n",
        "\n",
        "a world had the cup in the world\n",
        "\n",
        "a world had the cup in the cup\n",
        "\n",
        "a world was a world of a world\n",
        "\n",
        "a world was a world of a cup\n",
        "\n",
        "a world was a world of the world\n",
        "\n",
        "a world was a world of the cup\n",
        "\n",
        "a world was a world in a world\n",
        "\n",
        "a world was a world in a cup\n",
        "\n",
        "a world was a world in the world\n",
        "\n",
        "a world was a world in the cup\n",
        "\n",
        "a world was a cup of a world\n",
        "\n",
        "a world was a cup of a cup\n",
        "\n",
        "a world was a cup of the world\n",
        "\n",
        "a world was a cup of the cup\n",
        "\n",
        "a world was a cup in a world\n",
        "\n",
        "a world was a cup in a cup\n",
        "\n",
        "a world was a cup in the world\n",
        "\n",
        "a world was a cup in the cup\n",
        "\n",
        "a world was the world of a world\n",
        "\n",
        "a world was the world of a cup\n",
        "\n",
        "a world was the world of the world\n",
        "\n",
        "a world was the world of the cup\n",
        "\n",
        "a world was the world in a world\n",
        "\n",
        "a world was the world in a cup\n",
        "\n",
        "a world was the world in the world\n",
        "\n",
        "a world was the world in the cup\n",
        "\n",
        "a world was the cup of a world\n",
        "\n",
        "a world was the cup of a cup\n",
        "\n",
        "a world was the cup of the world\n",
        "\n",
        "a world was the cup of the cup\n",
        "\n",
        "a world was the cup in a world\n",
        "\n",
        "a world was the cup in a cup\n",
        "\n",
        "a world was the cup in the world\n",
        "\n",
        "a world was the cup in the cup\n",
        "\n",
        "a cup had a world\n",
        "\n",
        "a cup had a cup\n",
        "\n",
        "a cup had the world\n",
        "\n",
        "a cup had the cup\n",
        "\n",
        "a cup was a world\n",
        "\n",
        "a cup was a cup\n",
        "\n",
        "a cup was the world\n",
        "\n",
        "a cup was the cup\n",
        "\n",
        "a cup had a world of a world\n",
        "\n",
        "a cup had a world of a cup\n",
        "\n",
        "a cup had a world of the world\n",
        "\n",
        "a cup had a world of the cup\n",
        "\n",
        "a cup had a world in a world\n",
        "\n",
        "a cup had a world in a cup\n",
        "\n",
        "a cup had a world in the world\n",
        "\n",
        "a cup had a world in the cup\n",
        "\n",
        "a cup had a cup of a world\n",
        "\n",
        "a cup had a cup of a cup\n",
        "\n",
        "a cup had a cup of the world\n",
        "\n",
        "a cup had a cup of the cup\n",
        "\n",
        "a cup had a cup in a world\n",
        "\n",
        "a cup had a cup in a cup\n",
        "\n",
        "a cup had a cup in the world\n",
        "\n",
        "a cup had a cup in the cup\n",
        "\n",
        "a cup had the world of a world\n",
        "\n",
        "a cup had the world of a cup\n",
        "\n",
        "a cup had the world of the world\n",
        "\n",
        "a cup had the world of the cup\n",
        "\n",
        "a cup had the world in a world\n",
        "\n",
        "a cup had the world in a cup\n",
        "\n",
        "a cup had the world in the world\n",
        "\n",
        "a cup had the world in the cup\n",
        "\n",
        "a cup had the cup of a world\n",
        "\n",
        "a cup had the cup of a cup\n",
        "\n",
        "a cup had the cup of the world\n",
        "\n",
        "a cup had the cup of the cup\n",
        "\n",
        "a cup had the cup in a world\n",
        "\n",
        "a cup had the cup in a cup\n",
        "\n",
        "a cup had the cup in the world\n",
        "\n",
        "a cup had the cup in the cup\n",
        "\n",
        "a cup was a world of a world\n",
        "\n",
        "a cup was a world of a cup\n",
        "\n",
        "a cup was a world of the world\n",
        "\n",
        "a cup was a world of the cup\n",
        "\n",
        "a cup was a world in a world\n",
        "\n",
        "a cup was a world in a cup\n",
        "\n",
        "a cup was a world in the world\n",
        "\n",
        "a cup was a world in the cup\n",
        "\n",
        "a cup was a cup of a world\n",
        "\n",
        "a cup was a cup of a cup\n",
        "\n",
        "a cup was a cup of the world\n",
        "\n",
        "a cup was a cup of the cup\n",
        "\n",
        "a cup was a cup in a world\n",
        "\n",
        "a cup was a cup in a cup\n",
        "\n",
        "a cup was a cup in the world\n",
        "\n",
        "a cup was a cup in the cup\n",
        "\n",
        "a cup was the world of a world\n",
        "\n",
        "a cup was the world of a cup\n",
        "\n",
        "a cup was the world of the world\n",
        "\n",
        "a cup was the world of the cup\n",
        "\n",
        "a cup was the world in a world\n",
        "\n",
        "a cup was the world in a cup\n",
        "\n",
        "a cup was the world in the world\n",
        "\n",
        "a cup was the world in the cup\n",
        "\n",
        "a cup was the cup of a world\n",
        "\n",
        "a cup was the cup of a cup\n",
        "\n",
        "a cup was the cup of the world\n",
        "\n",
        "a cup was the cup of the cup\n",
        "\n",
        "a cup was the cup in a world\n",
        "\n",
        "a cup was the cup in a cup\n",
        "\n",
        "a cup was the cup in the world\n",
        "\n",
        "a cup was the cup in the cup\n",
        "\n",
        "the world had a world\n",
        "\n",
        "the world had a cup\n",
        "\n",
        "the world had the world\n",
        "\n",
        "the world had the cup\n",
        "\n",
        "the world was a world\n",
        "\n",
        "the world was a cup\n",
        "\n",
        "the world was the world\n",
        "\n",
        "the world was the cup\n",
        "\n",
        "the world had a world of a world\n",
        "\n",
        "the world had a world of a cup\n",
        "\n",
        "the world had a world of the world\n",
        "\n",
        "the world had a world of the cup\n",
        "\n",
        "the world had a world in a world\n",
        "\n",
        "the world had a world in a cup\n",
        "\n",
        "the world had a world in the world\n",
        "\n",
        "the world had a world in the cup\n",
        "\n",
        "the world had a cup of a world\n",
        "\n",
        "the world had a cup of a cup\n",
        "\n",
        "the world had a cup of the world\n",
        "\n",
        "the world had a cup of the cup\n",
        "\n",
        "the world had a cup in a world\n",
        "\n",
        "the world had a cup in a cup\n",
        "\n",
        "the world had a cup in the world\n",
        "\n",
        "the world had a cup in the cup\n",
        "\n",
        "the world had the world of a world\n",
        "\n",
        "the world had the world of a cup\n",
        "\n",
        "the world had the world of the world\n",
        "\n",
        "the world had the world of the cup\n",
        "\n",
        "the world had the world in a world\n",
        "\n",
        "the world had the world in a cup\n",
        "\n",
        "the world had the world in the world\n",
        "\n",
        "the world had the world in the cup\n",
        "\n",
        "the world had the cup of a world\n",
        "\n",
        "the world had the cup of a cup\n",
        "\n",
        "the world had the cup of the world\n",
        "\n",
        "the world had the cup of the cup\n",
        "\n",
        "the world had the cup in a world\n",
        "\n",
        "the world had the cup in a cup\n",
        "\n",
        "the world had the cup in the world\n",
        "\n",
        "the world had the cup in the cup\n",
        "\n",
        "the world was a world of a world\n",
        "\n",
        "the world was a world of a cup\n",
        "\n",
        "the world was a world of the world\n",
        "\n",
        "the world was a world of the cup\n",
        "\n",
        "the world was a world in a world\n",
        "\n",
        "the world was a world in a cup\n",
        "\n",
        "the world was a world in the world\n",
        "\n",
        "the world was a world in the cup\n",
        "\n",
        "the world was a cup of a world\n",
        "\n",
        "the world was a cup of a cup\n",
        "\n",
        "the world was a cup of the world\n",
        "\n",
        "the world was a cup of the cup\n",
        "\n",
        "the world was a cup in a world\n",
        "\n",
        "the world was a cup in a cup\n",
        "\n",
        "the world was a cup in the world\n",
        "\n",
        "the world was a cup in the cup\n",
        "\n",
        "the world was the world of a world\n",
        "\n",
        "the world was the world of a cup\n",
        "\n",
        "the world was the world of the world\n",
        "\n",
        "the world was the world of the cup\n",
        "\n",
        "the world was the world in a world\n",
        "\n",
        "the world was the world in a cup\n",
        "\n",
        "the world was the world in the world\n",
        "\n",
        "the world was the world in the cup\n",
        "\n",
        "the world was the cup of a world\n",
        "\n",
        "the world was the cup of a cup\n",
        "\n",
        "the world was the cup of the world\n",
        "\n",
        "the world was the cup of the cup\n",
        "\n",
        "the world was the cup in a world\n",
        "\n",
        "the world was the cup in a cup\n",
        "\n",
        "the world was the cup in the world\n",
        "\n",
        "the world was the cup in the cup\n",
        "\n",
        "the cup had a world\n",
        "\n",
        "the cup had a cup\n",
        "\n",
        "the cup had the world\n",
        "\n",
        "the cup had the cup\n",
        "\n",
        "the cup was a world\n",
        "\n",
        "the cup was a cup\n",
        "\n",
        "the cup was the world\n",
        "\n",
        "the cup was the cup\n",
        "\n",
        "the cup had a world of a world\n",
        "\n",
        "the cup had a world of a cup\n",
        "\n",
        "the cup had a world of the world\n",
        "\n",
        "the cup had a world of the cup\n",
        "\n",
        "the cup had a world in a world\n",
        "\n",
        "the cup had a world in a cup\n",
        "\n",
        "the cup had a world in the world\n",
        "\n",
        "the cup had a world in the cup\n",
        "\n",
        "the cup had a cup of a world\n",
        "\n",
        "the cup had a cup of a cup\n",
        "\n",
        "the cup had a cup of the world\n",
        "\n",
        "the cup had a cup of the cup\n",
        "\n",
        "the cup had a cup in a world\n",
        "\n",
        "the cup had a cup in a cup\n",
        "\n",
        "the cup had a cup in the world\n",
        "\n",
        "the cup had a cup in the cup\n",
        "\n",
        "the cup had the world of a world\n",
        "\n",
        "the cup had the world of a cup\n",
        "\n",
        "the cup had the world of the world\n",
        "\n",
        "the cup had the world of the cup\n",
        "\n",
        "the cup had the world in a world\n",
        "\n",
        "the cup had the world in a cup\n",
        "\n",
        "the cup had the world in the world\n",
        "\n",
        "the cup had the world in the cup\n",
        "\n",
        "the cup had the cup of a world\n",
        "\n",
        "the cup had the cup of a cup\n",
        "\n",
        "the cup had the cup of the world\n",
        "\n",
        "the cup had the cup of the cup\n",
        "\n",
        "the cup had the cup in a world\n",
        "\n",
        "the cup had the cup in a cup\n",
        "\n",
        "the cup had the cup in the world\n",
        "\n",
        "the cup had the cup in the cup\n",
        "\n",
        "the cup was a world of a world\n",
        "\n",
        "the cup was a world of a cup\n",
        "\n",
        "the cup was a world of the world\n",
        "\n",
        "the cup was a world of the cup\n",
        "\n",
        "the cup was a world in a world\n",
        "\n",
        "the cup was a world in a cup\n",
        "\n",
        "the cup was a world in the world\n",
        "\n",
        "the cup was a world in the cup\n",
        "\n",
        "the cup was a cup of a world\n",
        "\n",
        "the cup was a cup of a cup\n",
        "\n",
        "the cup was a cup of the world\n",
        "\n",
        "the cup was a cup of the cup\n",
        "\n",
        "the cup was a cup in a world\n",
        "\n",
        "the cup was a cup in a cup\n",
        "\n",
        "the cup was a cup in the world\n",
        "\n",
        "the cup was a cup in the cup\n",
        "\n",
        "the cup was the world of a world\n",
        "\n",
        "the cup was the world of a cup\n",
        "\n",
        "the cup was the world of the world\n",
        "\n",
        "the cup was the world of the cup\n",
        "\n",
        "the cup was the world in a world\n",
        "\n",
        "the cup was the world in a cup\n",
        "\n",
        "the cup was the world in the world\n",
        "\n",
        "the cup was the world in the cup\n",
        "\n",
        "the cup was the cup of a world\n",
        "\n",
        "the cup was the cup of a cup\n",
        "\n",
        "the cup was the cup of the world\n",
        "\n",
        "the cup was the cup of the cup\n",
        "\n",
        "the cup was the cup in a world\n",
        "\n",
        "the cup was the cup in a cup\n",
        "\n",
        "the cup was the cup in the world\n",
        "\n",
        "the cup was the cup in the cup\n",
        "\n"
      ],
      "metadata": {
        "id": "pKI0QiVn7Q6Q"
      }
    },
    {
      "cell_type": "code",
      "source": [],
      "metadata": {
        "id": "sYuX-eqM7Gv_"
      },
      "execution_count": null,
      "outputs": []
    }
  ]
}