{
  "nbformat": 4,
  "nbformat_minor": 0,
  "metadata": {
    "colab": {
      "provenance": [],
      "authorship_tag": "ABX9TyOfKWi0eJOxhsX8Gxgqx9TK"
    },
    "kernelspec": {
      "name": "python3",
      "display_name": "Python 3"
    },
    "language_info": {
      "name": "python"
    }
  },
  "cells": [
    {
      "cell_type": "markdown",
      "source": [
        "1.Write separate python functions which accepts a string and a number ‘n’ and return the following:\n",
        "\n",
        "a. N most frequent Nouns Take function name as “GetNMostFrequentNouns”\n",
        "\n",
        "\n",
        "b.N most frequent Verbs.Take function name as “GetNMostFrequentVerbs”\n",
        "\n",
        "\n",
        "c.N most frequent Delimiters.Take function name as “GetNMostFrequentDelimiters”\n",
        "\n",
        "\n",
        "d.N most frequent Prepositions.Take function name as “GetNMostFrequentPrepositions”\n",
        "\n",
        "\n",
        "** These functions will help you to in last question of this case study.\n",
        "\n",
        "\n",
        "Run all the function on the file “FIFAWorldCup2018.txt” and print the results."
      ],
      "metadata": {
        "id": "QHIn2zoRcBI2"
      }
    },
    {
      "cell_type": "code",
      "source": [
        "import nltk\n",
        "from nltk.tokenize import word_tokenize\n",
        "from nltk.probability import FreqDist\n",
        "nltk.download('punkt')\n",
        "nltk.download('averaged_perceptron_tagger')"
      ],
      "metadata": {
        "colab": {
          "base_uri": "https://localhost:8080/"
        },
        "id": "l12Zp_CidHgO",
        "outputId": "a98df646-2934-4d46-b794-e8f3deaef454"
      },
      "execution_count": 5,
      "outputs": [
        {
          "output_type": "stream",
          "name": "stderr",
          "text": [
            "[nltk_data] Downloading package punkt to /root/nltk_data...\n",
            "[nltk_data]   Package punkt is already up-to-date!\n",
            "[nltk_data] Downloading package averaged_perceptron_tagger to\n",
            "[nltk_data]     /root/nltk_data...\n",
            "[nltk_data]   Unzipping taggers/averaged_perceptron_tagger.zip.\n"
          ]
        },
        {
          "output_type": "execute_result",
          "data": {
            "text/plain": [
              "True"
            ]
          },
          "metadata": {},
          "execution_count": 5
        }
      ]
    },
    {
      "cell_type": "code",
      "source": [
        "fl = open('/content/FIFAWorldCup2018.txt','r+', encoding='cp1252')\n",
        "string = fl.read()\n",
        "fl.close()\n",
        "\n",
        "def GetNMostFrequentNouns(string, n):\n",
        "\n",
        "    tokens=nltk.word_tokenize(string)\n",
        "    POSTags=nltk.pos_tag(tokens)\n",
        "\n",
        "    allForms=['NN','NNP','NNS','NNPS']\n",
        "    count=0\n",
        "    nn = []\n",
        "    fdist=FreqDist()\n",
        "\n",
        "    for word,tag in POSTags:\n",
        "        if tag in allForms:\n",
        "            fdist[word] +=1\n",
        "    return fdist.most_common(n)\n",
        "\n",
        "\n",
        "n = 5\n",
        "GetNMostFrequentNouns(string,n)"
      ],
      "metadata": {
        "colab": {
          "base_uri": "https://localhost:8080/"
        },
        "id": "0fiKcnyRdBRu",
        "outputId": "8f2288d7-a021-4dbc-a2a7-1768a56b1676"
      },
      "execution_count": 26,
      "outputs": [
        {
          "output_type": "execute_result",
          "data": {
            "text/plain": [
              "[('World', 15), ('Cup', 14), ('FIFA', 12), ('Russia', 5), ('tournament', 4)]"
            ]
          },
          "metadata": {},
          "execution_count": 26
        }
      ]
    },
    {
      "cell_type": "code",
      "source": [
        "def GetNMostFrequentVerbs(string, n):\n",
        "\n",
        "    tokens=nltk.word_tokenize(string)\n",
        "    POSTags=nltk.pos_tag(tokens)\n",
        "\n",
        "    allForms=['VB','VBP','VBZ','VBG','VBD','VBN']\n",
        "    count=0\n",
        "    nn = []\n",
        "    fdist=FreqDist()\n",
        "\n",
        "    for word,tag in POSTags:\n",
        "        if tag in allForms:\n",
        "            fdist[word] +=1\n",
        "    return fdist.most_common(n)\n",
        "\n",
        "\n",
        "n = 5\n",
        "GetNMostFrequentVerbs(string,n)"
      ],
      "metadata": {
        "colab": {
          "base_uri": "https://localhost:8080/"
        },
        "id": "AnTPeUJydmZq",
        "outputId": "f58264c6-32b9-4dc5-ed2d-1d65738ae9ab"
      },
      "execution_count": 27,
      "outputs": [
        {
          "output_type": "execute_result",
          "data": {
            "text/plain": [
              "[('was', 11), ('had', 7), ('were', 7), ('is', 3), ('won', 3)]"
            ]
          },
          "metadata": {},
          "execution_count": 27
        }
      ]
    },
    {
      "cell_type": "code",
      "source": [
        "def GetNMostFrequentDelimiters(string, n):\n",
        "\n",
        "    tokens=nltk.word_tokenize(string)\n",
        "    POSTags=nltk.pos_tag(tokens)\n",
        "\n",
        "    allForms=[',',\"'\",'!','#','@','%','&','*','.','?']\n",
        "    count=0\n",
        "    nn = []\n",
        "    fdist=FreqDist()\n",
        "\n",
        "    for word,tag in POSTags:\n",
        "        if tag in allForms:\n",
        "            fdist[word] +=1\n",
        "    return fdist.most_common(n)\n",
        "\n",
        "\n",
        "n = 5\n",
        "GetNMostFrequentDelimiters(string,n)"
      ],
      "metadata": {
        "colab": {
          "base_uri": "https://localhost:8080/"
        },
        "id": "qcrcbsc1gu3p",
        "outputId": "0081c158-b7fe-434a-e4da-aa0000705421"
      },
      "execution_count": 28,
      "outputs": [
        {
          "output_type": "execute_result",
          "data": {
            "text/plain": [
              "[(',', 40), ('.', 28)]"
            ]
          },
          "metadata": {},
          "execution_count": 28
        }
      ]
    },
    {
      "cell_type": "code",
      "source": [
        "def GetNMostFrequentPrepositions(string, n):\n",
        "\n",
        "    tokens=nltk.word_tokenize(string)\n",
        "    POSTags=nltk.pos_tag(tokens)\n",
        "\n",
        "    allForms=['IN']\n",
        "    count=0\n",
        "    nn = []\n",
        "    fdist=FreqDist()\n",
        "\n",
        "    for word,tag in POSTags:\n",
        "        if tag in allForms:\n",
        "            fdist[word] +=1\n",
        "    return fdist.most_common(n)\n",
        "\n",
        "\n",
        "n = 5\n",
        "GetNMostFrequentPrepositions(string,n)"
      ],
      "metadata": {
        "colab": {
          "base_uri": "https://localhost:8080/"
        },
        "id": "tcNoFHFDibz1",
        "outputId": "be527e56-ec42-447f-daaa-a63302093e8f"
      },
      "execution_count": 29,
      "outputs": [
        {
          "output_type": "execute_result",
          "data": {
            "text/plain": [
              "[('of', 29), ('in', 18), ('from', 10), ('for', 8), ('that', 5)]"
            ]
          },
          "metadata": {},
          "execution_count": 29
        }
      ]
    },
    {
      "cell_type": "markdown",
      "source": [
        "2.\n",
        "Write a python function which accepts a string and print the first  sentence in the string along with its syntax tree.\n",
        "\n",
        "\n",
        "Take function name as “PrintSyntaxTree”Run this function on the file “FIFAWorldCup2018.txt”"
      ],
      "metadata": {
        "id": "1p34CSn4j6GA"
      }
    }
  ]
}