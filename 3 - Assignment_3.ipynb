{
  "nbformat": 4,
  "nbformat_minor": 0,
  "metadata": {
    "colab": {
      "provenance": [],
      "authorship_tag": "ABX9TyMnOxv6aBmrYJHjdrGKXdqf"
    },
    "kernelspec": {
      "name": "python3",
      "display_name": "Python 3"
    },
    "language_info": {
      "name": "python"
    }
  },
  "cells": [
    {
      "cell_type": "markdown",
      "source": [
        "1. Write a program to enter a string from user and perform following tasks\n",
        "\n",
        "  • Write a python function named “Tokenize” which returns the tokenized string\n",
        "\n",
        "  •Print tokens along with the frequency of each token using the above function\n",
        "  \n",
        "  •Print the 5 least occurring tokens"
      ],
      "metadata": {
        "id": "yBCxQYsZXmVS"
      }
    },
    {
      "cell_type": "code",
      "execution_count": null,
      "metadata": {
        "colab": {
          "base_uri": "https://localhost:8080/"
        },
        "id": "ax9Mj6fKXhEF",
        "outputId": "dc42abf2-d14e-425a-ccd6-85c3f4a883c0"
      },
      "outputs": [
        {
          "output_type": "stream",
          "name": "stdout",
          "text": [
            "twinkle twinkle little star, how i wonder what you are , up above the world so high, like a diamond in the sky\n",
            "[('e', 9), ('t', 8), ('i', 8), ('o', 7), ('w', 6), ('l', 6), ('a', 6), ('h', 6), ('n', 5), ('k', 4), ('r', 4), ('d', 4), ('s', 3), (',', 3), ('y', 2), ('u', 2), ('p', 1), ('b', 1), ('v', 1), ('g', 1), ('m', 1)]\n",
            "[('p', 1), ('b', 1), ('v', 1), ('g', 1), ('m', 1)]\n"
          ]
        }
      ],
      "source": [
        "import nltk\n",
        "from nltk.probability import FreqDist\n",
        "\n",
        "def Tokenize(string):\n",
        "  str_lst = string.split()\n",
        "  fdist = FreqDist()\n",
        "  for word in str_lst:\n",
        "    for chr in word:\n",
        "      fdist[chr.lower()] += 1\n",
        "  print(fdist.most_common())\n",
        "  print(fdist.most_common()[-5:])\n",
        "\n",
        "string = input()\n",
        "Tokenize(string)\n"
      ]
    },
    {
      "cell_type": "markdown",
      "source": [
        "2. Write a program to enter a string from user and perform following tasks.\n",
        "\n",
        "  •Write a python function named “RemoveStopWords” which returns the string after removing stop words\n",
        "\n",
        "  •Count frequency of each stop word present in a string using the above function\n",
        "\n",
        "  •Plot a bar graph depicting stop words and their frequencies"
      ],
      "metadata": {
        "id": "A1UMcO62cizm"
      }
    },
    {
      "cell_type": "code",
      "source": [
        "import nltk\n",
        "import pandas as pd\n",
        "from nltk.probability import FreqDist\n",
        "from nltk.corpus import stopwords\n",
        "import matplotlib.pyplot as plt\n",
        "nltk.download('stopwords')\n",
        "\n",
        "def RemoveStopWords(string):\n",
        "  str_lst = string.split()\n",
        "  stop_words = stopwords.words('english')\n",
        "\n",
        "  fdist = FreqDist()\n",
        "\n",
        "  for word in str_lst:\n",
        "    if word.lower() in stop_words:\n",
        "      fdist[word.lower()] += 1\n",
        "\n",
        "  print(fdist.most_common())\n",
        "\n",
        "  srs = pd.Series(dict(fdist))\n",
        "\n",
        "  plt.bar(srs[:26].index.tolist(), srs[:26].values.tolist())\n",
        "\n",
        "string = input()\n",
        "RemoveStopWords(string)"
      ],
      "metadata": {
        "id": "Opb4sXELaxfV",
        "colab": {
          "base_uri": "https://localhost:8080/",
          "height": 502
        },
        "outputId": "2565dc0e-eb7e-4b6a-b70b-9c0a7078b379"
      },
      "execution_count": null,
      "outputs": [
        {
          "output_type": "stream",
          "name": "stderr",
          "text": [
            "[nltk_data] Downloading package stopwords to /root/nltk_data...\n",
            "[nltk_data]   Package stopwords is already up-to-date!\n"
          ]
        },
        {
          "output_type": "stream",
          "name": "stdout",
          "text": [
            "twinkle twinkle little star, how i wonder what you are , up above the world so high, like a diamond in the sky\n",
            "[('the', 2), ('how', 1), ('i', 1), ('what', 1), ('you', 1), ('are', 1), ('up', 1), ('above', 1), ('so', 1), ('a', 1), ('in', 1)]\n"
          ]
        },
        {
          "output_type": "display_data",
          "data": {
            "text/plain": [
              "<Figure size 640x480 with 1 Axes>"
            ],
            "image/png": "[encoded data removed]"
          },
          "metadata": {}
        }
      ]
    },
    {
      "cell_type": "markdown",
      "source": [
        "3. Write a program to enter a string from user and perform following tasks\n",
        "\n",
        "  •Write a python function named “Lemmatize” which returns a string after lemmatizing the string.\n",
        "\n",
        "  •Write a python function named “Stemmed” which returns a string after stemming the string. (Use any stemmer of your preference)\n",
        "\n",
        "  •Print all the words along with their lemmatized and stemmed form using the above functions\n",
        "\n",
        "  •Save these results in a csv file having 3 columns:\n",
        "  \n",
        "  Original Word\n",
        "\n",
        "  Lemmatized Form\n",
        "\n",
        "  Stemmed Form"
      ],
      "metadata": {
        "id": "weg0cBWURwMa"
      }
    },
    {
      "cell_type": "code",
      "source": [
        "from nltk.stem import PorterStemmer\n",
        "from nltk.stem import WordNetLemmatizer\n",
        "nltk.download('wordnet')\n",
        "import pandas as pd\n",
        "\n",
        "def Stemmed(string):\n",
        "  str_lst = string.split()\n",
        "  pst = PorterStemmer()\n",
        "  stem_lst=[]\n",
        "\n",
        "  for word in str_lst:\n",
        "    stem_lst.append(pst.stem(word))\n",
        "\n",
        "  return stem_lst\n",
        "\n",
        "\n",
        "def Lemmatize(string):\n",
        "  str_lst = string.split()\n",
        "  lem = WordNetLemmatizer()\n",
        "  lem_lst=[]\n",
        "\n",
        "  for word in str_lst:\n",
        "    lem_lst.append(lem.lemmatize(word))\n",
        "\n",
        "  return lem_lst, str_lst\n",
        "\n",
        "string = input()\n",
        "lems, words = Lemmatize(string)\n",
        "stems = Stemmed(string)\n",
        "\n",
        "for i in range(len(words)):\n",
        "  print(f\"word: {words[i]}, stem word: {stems[i]}, lemmatized word: {lems[i]}\")\n",
        "\n",
        "df = pd.DataFrame({\"Original Word\":words, \"Lemmatized Form\":lems, \"Stemmed Form\":stems})\n",
        "df.to_csv('./words_stem_lem.csv', index=False)"
      ],
      "metadata": {
        "colab": {
          "base_uri": "https://localhost:8080/"
        },
        "id": "lksCfvluRLZA",
        "outputId": "07043c15-77ed-435f-d5e1-e90342d13d7e"
      },
      "execution_count": null,
      "outputs": [
        {
          "output_type": "stream",
          "name": "stderr",
          "text": [
            "[nltk_data] Downloading package wordnet to /root/nltk_data...\n",
            "[nltk_data]   Package wordnet is already up-to-date!\n"
          ]
        },
        {
          "output_type": "stream",
          "name": "stdout",
          "text": [
            "the quick brown fox jumps over the lazy frog\n",
            "word: the, stem word: the, lemmatized word: the\n",
            "word: quick, stem word: quick, lemmatized word: quick\n",
            "word: brown, stem word: brown, lemmatized word: brown\n",
            "word: fox, stem word: fox, lemmatized word: fox\n",
            "word: jumps, stem word: jump, lemmatized word: jump\n",
            "word: over, stem word: over, lemmatized word: over\n",
            "word: the, stem word: the, lemmatized word: the\n",
            "word: lazy, stem word: lazi, lemmatized word: lazy\n",
            "word: frog, stem word: frog, lemmatized word: frog\n"
          ]
        }
      ]
    },
    {
      "cell_type": "markdown",
      "source": [
        "4. Create a python file named “PreProcess” and perform the following tasks.\n",
        "\n",
        "  •Copy the function “Tokenize” in this file from question 1\n",
        "\n",
        "  •Copy the function “RemoveStopWords” in this file from question 2\n",
        "\n",
        "  •Copy the function “Lemmatize” in this file from question 3\n",
        "\n",
        "      Create a function named “Refine” which accepts a string and call the above 3 functions in the same order i.e. first Tokenize then RemoveStop Words then Lemmatize.\n",
        "\n",
        "      Remember:\n",
        "      >Inputted string will be input to Tokenize Function\n",
        "      >Tokenized String will be input to RemoveStopWords function\n",
        "      >StopWordsRemoved string will be input to Lemmatize function"
      ],
      "metadata": {
        "id": "4-D3ADqTX4Zh"
      }
    },
    {
      "cell_type": "code",
      "source": [
        "import nltk\n",
        "from nltk.corpus import stopwords\n",
        "import matplotlib.pyplot as plt\n",
        "nltk.download('stopwords')\n",
        "\n",
        "def Tokenize(string):\n",
        "  str_lst = string.split()\n",
        "  return str_lst\n",
        "\n",
        "def RemoveStopWords(string):\n",
        "  str_lst = string\n",
        "  stop_words = stopwords.words('english')\n",
        "  print(str_lst)\n",
        "  for word in str_lst:\n",
        "    print(word)\n",
        "    if word.lower() in stop_words:\n",
        "      str_lst.remove(word)\n",
        "\n",
        "  return str_lst\n",
        "\n",
        "def Lemmatize(string):\n",
        "  str_lst = string\n",
        "  lem = WordNetLemmatizer()\n",
        "  lem_lst=[]\n",
        "\n",
        "  for word in str_lst:\n",
        "    lem_lst.append(lem.lemmatize(word))\n",
        "\n",
        "  return lem_lst, str_lst\n",
        "\n",
        "def Refine():\n",
        "  string = input()\n",
        "  string = Tokenize(string)\n",
        "  string = RemoveStopWords(string)\n",
        "  string, words = Lemmatize(string)\n",
        "  string = \" \".join(string)\n",
        "  print(f\"refined string: {string}\")\n",
        "\n",
        "Refine()"
      ],
      "metadata": {
        "colab": {
          "base_uri": "https://localhost:8080/"
        },
        "id": "cNfHtr02Wf01",
        "outputId": "4b11d680-cfb2-47e8-a37b-0c73afeffe70"
      },
      "execution_count": null,
      "outputs": [
        {
          "output_type": "stream",
          "name": "stderr",
          "text": [
            "[nltk_data] Downloading package stopwords to /root/nltk_data...\n",
            "[nltk_data]   Package stopwords is already up-to-date!\n"
          ]
        },
        {
          "output_type": "stream",
          "name": "stdout",
          "text": [
            "quick brown fox jumps over lazy frog\n",
            "['quick', 'brown', 'fox', 'jumps', 'over', 'lazy', 'frog']\n",
            "quick\n",
            "brown\n",
            "fox\n",
            "jumps\n",
            "over\n",
            "frog\n",
            "refined string: quick brown fox jump lazy frog\n"
          ]
        }
      ]
    },
    {
      "cell_type": "markdown",
      "source": [
        "# Alternate solution"
      ],
      "metadata": {
        "id": "zA6a0WxI2Ok0"
      }
    },
    {
      "cell_type": "markdown",
      "source": [
        "1. Write a program to enter a string from user and perform following tasks\n",
        "\n",
        "  •\tWrite a python function named “Tokenize” which returns the tokenized string\n",
        "\n",
        "  •\tPrint tokens along with the frequency of each token using the above function\n",
        "\n",
        "  •\tPrint the 5 least occurring tokens"
      ],
      "metadata": {
        "id": "GNR0uwUP2SAk"
      }
    },
    {
      "cell_type": "code",
      "source": [
        "import nltk\n",
        "nltk.download('punkt')"
      ],
      "metadata": {
        "colab": {
          "base_uri": "https://localhost:8080/"
        },
        "id": "CVWavKx32sQK",
        "outputId": "d3e50143-0f1c-4a2e-cf68-28dfee81f253"
      },
      "execution_count": 6,
      "outputs": [
        {
          "output_type": "stream",
          "name": "stderr",
          "text": [
            "[nltk_data] Downloading package punkt to /root/nltk_data...\n",
            "[nltk_data]   Package punkt is already up-to-date!\n"
          ]
        },
        {
          "output_type": "execute_result",
          "data": {
            "text/plain": [
              "True"
            ]
          },
          "metadata": {},
          "execution_count": 6
        }
      ]
    },
    {
      "cell_type": "code",
      "source": [
        "#Inputting string from user\n",
        "inputted_string=input()"
      ],
      "metadata": {
        "id": "ZjjL_iCiaM1K",
        "colab": {
          "base_uri": "https://localhost:8080/"
        },
        "outputId": "e5415d58-d497-432f-9cca-7f6413b97ab7"
      },
      "execution_count": 7,
      "outputs": [
        {
          "name": "stdout",
          "output_type": "stream",
          "text": [
            "Welcome to Natural Language Processing course. It has many Natural language processing techniques and also includes text mining . It will show various examples on text processing.\n"
          ]
        }
      ]
    },
    {
      "cell_type": "code",
      "source": [
        "#Write a python function named “Tokenize” which returns the tokenized string\n",
        "\n",
        "def Tokenize(string):\n",
        "    tokens=nltk.tokenize.word_tokenize(string)\n",
        "    return \" \".join(tokens)\n",
        "\n",
        "#Print tokens along with the frequency of each token using the above function\n",
        "inputted_string_tokens=Tokenize(inputted_string).split(\" \")\n",
        "from collections import Counter\n",
        "count_of_all_tokens=dict(Counter(inputted_string_tokens))\n",
        "print(count_of_all_tokens)"
      ],
      "metadata": {
        "colab": {
          "base_uri": "https://localhost:8080/"
        },
        "id": "jbNZ7Ili2avB",
        "outputId": "207868ab-1064-4651-c043-a43ae2c3fac9"
      },
      "execution_count": 8,
      "outputs": [
        {
          "output_type": "stream",
          "name": "stdout",
          "text": [
            "{'Welcome': 1, 'to': 1, 'Natural': 2, 'Language': 1, 'Processing': 1, 'course': 1, '.': 3, 'It': 2, 'has': 1, 'many': 1, 'language': 1, 'processing': 2, 'techniques': 1, 'and': 1, 'also': 1, 'includes': 1, 'text': 2, 'mining': 1, 'will': 1, 'show': 1, 'various': 1, 'examples': 1, 'on': 1}\n"
          ]
        }
      ]
    },
    {
      "cell_type": "code",
      "source": [
        "#Print the 5 least occurring tokens\n",
        "for key, value in sorted(count_of_all_tokens.items(), key=lambda x: x[1])[:5]:\n",
        "    print(\"%s: %s\" % (key, value))"
      ],
      "metadata": {
        "colab": {
          "base_uri": "https://localhost:8080/"
        },
        "id": "b3o8e99s2j8w",
        "outputId": "ceece3fa-0f2c-4716-8533-1e3e6f0d242a"
      },
      "execution_count": 24,
      "outputs": [
        {
          "output_type": "stream",
          "name": "stdout",
          "text": [
            "Welcome: 1\n",
            "to: 1\n",
            "Language: 1\n",
            "Processing: 1\n",
            "course: 1\n"
          ]
        }
      ]
    },
    {
      "cell_type": "markdown",
      "source": [
        "2. Write a program to enter a string from user and perform following tasks.\n",
        "\n",
        "  •\tWrite a python function named “RemoveStopWords” which returns the string after removing stop words\n",
        "\n",
        "  •\tCount frequency of each stop word present in a string using the above function\n",
        "\n",
        "  •\tPlot a bar graph depicting stop words and their frequencies"
      ],
      "metadata": {
        "id": "a0GTv5tM5C6y"
      }
    },
    {
      "cell_type": "code",
      "source": [
        "#Write a python function named “RemoveStopWords” which returns the string after removing stop words\n",
        "from nltk.corpus import stopwords\n",
        "from string import punctuation\n",
        "\n",
        "def RemoveStopWords(string):\n",
        "    #Removing Punctuations\n",
        "    for each in punctuation:\n",
        "        string=string.replace(each,\"\")\n",
        "\n",
        "    #Removing Stopwords\n",
        "    english_stopwords=stopwords.words('english')\n",
        "    stopwords_removed_tokens=[]\n",
        "    words=string.split(\" \")\n",
        "\n",
        "    for each in words:\n",
        "        if each not in english_stopwords:\n",
        "            stopwords_removed_tokens.append(each)\n",
        "    return \" \".join(stopwords_removed_tokens)\n",
        ""
      ],
      "metadata": {
        "id": "UMJdmEmc5G0z"
      },
      "execution_count": 25,
      "outputs": []
    },
    {
      "cell_type": "code",
      "source": [
        "import nltk\n",
        "nltk.download('stopwords')"
      ],
      "metadata": {
        "colab": {
          "base_uri": "https://localhost:8080/"
        },
        "id": "IWvK_5rS5V9-",
        "outputId": "d3cc11cd-5823-4cd0-f69a-70e6c39b2490"
      },
      "execution_count": 28,
      "outputs": [
        {
          "output_type": "stream",
          "name": "stderr",
          "text": [
            "[nltk_data] Downloading package stopwords to /root/nltk_data...\n",
            "[nltk_data]   Unzipping corpora/stopwords.zip.\n"
          ]
        },
        {
          "output_type": "execute_result",
          "data": {
            "text/plain": [
              "True"
            ]
          },
          "metadata": {},
          "execution_count": 28
        }
      ]
    },
    {
      "cell_type": "code",
      "source": [
        "#Count frequency of each stop word present in a string using the above function\n",
        "english_stopwords=stopwords.words('english')\n",
        "stopwords_in_string=[]\n",
        "tokens=nltk.tokenize.word_tokenize(inputted_string)\n",
        "for each in tokens:\n",
        "    if each.lower() in english_stopwords:\n",
        "        stopwords_in_string.append(each)\n",
        "stopwords_in_string=list(set(stopwords_in_string))\n",
        "\n",
        "count_of_stopwords=map(lambda x:inputted_string.count(x),stopwords_in_string)\n",
        "k = list(zip(stopwords_in_string,count_of_stopwords))\n",
        "print(k)"
      ],
      "metadata": {
        "colab": {
          "base_uri": "https://localhost:8080/"
        },
        "id": "zNyZP9Ia5O0D",
        "outputId": "a24a8dd8-00e2-4b21-dc7d-5a664328b16c"
      },
      "execution_count": 60,
      "outputs": [
        {
          "output_type": "stream",
          "name": "stdout",
          "text": [
            "[('It', 2), ('on', 1), ('and', 1), ('has', 1), ('will', 1), ('to', 1)]\n"
          ]
        }
      ]
    },
    {
      "cell_type": "code",
      "source": [
        "xx = [i[1]for i in k]\n",
        "#Plot a bar graph depicting stop words and their frequencies\n",
        "import matplotlib.pyplot as plt\n",
        "plt.bar(range(len(stopwords_in_string)),xx)\n",
        "plt.xticks(range(len(stopwords_in_string)),stopwords_in_string)\n",
        "plt.show()"
      ],
      "metadata": {
        "colab": {
          "base_uri": "https://localhost:8080/",
          "height": 430
        },
        "id": "DjUS9lyl5RXU",
        "outputId": "9e51a195-c79d-47bb-b942-7c018b8efe80"
      },
      "execution_count": 62,
      "outputs": [
        {
          "output_type": "display_data",
          "data": {
            "text/plain": [
              "<Figure size 640x480 with 1 Axes>"
            ],
            "image/png": "[encoded data removed]"
          },
          "metadata": {}
        }
      ]
    },
    {
      "cell_type": "markdown",
      "source": [
        "3. Write a program to enter a string from user and perform following tasks\n",
        "\n",
        "  •\tWrite a python function named “Lemmatize” which returns a string after lemmatizing the string.\n",
        "\n",
        "  •\tWrite a python function named “Stemmed” which returns a string after stemming the string.\n",
        "  (Use any stemmer of your preference)\n",
        "\n",
        "  •\tPrint all the words along with their lemmatized and stemmed form using the above functions\n",
        "\n",
        "  •\tSave these results in a csv file having 3 columns:"
      ],
      "metadata": {
        "id": "WABvpIj29mrM"
      }
    },
    {
      "cell_type": "code",
      "source": [
        "#Write a python function named “Lemmatize” which returns a string after lemmatizing the string.\n",
        "import nltk\n",
        "from nltk.stem import  wordnet\n",
        "from nltk.stem import WordNetLemmatizer\n",
        "from nltk.stem import PorterStemmer\n",
        "from nltk.corpus import stopwords\n",
        "from string import punctuation\n",
        "from nltk.stem import  wordnet\n",
        "from nltk.stem import WordNetLemmatizer\n",
        "nltk.download('wordnet')"
      ],
      "metadata": {
        "colab": {
          "base_uri": "https://localhost:8080/"
        },
        "id": "u_k6EQ5W5zVb",
        "outputId": "f67eab9d-992e-435d-a82a-c82ab5b90399"
      },
      "execution_count": 65,
      "outputs": [
        {
          "output_type": "stream",
          "name": "stderr",
          "text": [
            "[nltk_data] Downloading package wordnet to /root/nltk_data...\n"
          ]
        },
        {
          "output_type": "execute_result",
          "data": {
            "text/plain": [
              "True"
            ]
          },
          "metadata": {},
          "execution_count": 65
        }
      ]
    },
    {
      "cell_type": "code",
      "source": [
        "def Lemmatize(string):\n",
        "    word_lem=WordNetLemmatizer()\n",
        "    words=string.split()\n",
        "    lemmatizeWords=[]\n",
        "    for each in words:\n",
        "        lemmatizeWords.append(word_lem.lemmatize(each))\n",
        "    return \" \".join(lemmatizeWords)\n",
        "\n",
        "def Stemmed(string):\n",
        "    pst=PorterStemmer()\n",
        "    words=string.split()\n",
        "    stemmedWords=[]\n",
        "    for each in words:\n",
        "        stemmedWords.append(pst.stem(each))\n",
        "    return \" \".join(stemmedWords)\n",
        "\n",
        "print(\"Lemmatized Form:\")\n",
        "print(Lemmatize(inputted_string))\n",
        "\n",
        "\n",
        "#Stemming Results\n",
        "\n",
        "print(\"Stemmed Form:\")\n",
        "print(Stemmed(inputted_string)    )"
      ],
      "metadata": {
        "colab": {
          "base_uri": "https://localhost:8080/"
        },
        "id": "46xCKONU92kM",
        "outputId": "7aa9b663-5327-4521-ce2f-98e7f952e66e"
      },
      "execution_count": 66,
      "outputs": [
        {
          "output_type": "stream",
          "name": "stdout",
          "text": [
            "Lemmatized Form:\n",
            "Welcome to Natural Language Processing course. It ha many Natural language processing technique and also includes text mining . It will show various example on text processing.\n",
            "Stemmed Form:\n",
            "welcom to natur languag process course. it ha mani natur languag process techniqu and also includ text mine . it will show variou exampl on text processing.\n"
          ]
        }
      ]
    },
    {
      "cell_type": "code",
      "source": [
        "#Save these results in a csv file having 3 columns:\n",
        "lemmatize_words=Lemmatize(inputted_string).split(\" \")\n",
        "stem_words=Stemmed(inputted_string).split(\" \")\n",
        "original_words=inputted_string.split(\" \")\n",
        "result=[]\n",
        "for each in zip(original_words,lemmatize_words,stem_words):\n",
        "    result.append(each)\n",
        "\n",
        "import pandas as pd\n",
        "df=pd.DataFrame(result,columns=['Original Form','Lemmatized Form','Stemmed Form'])"
      ],
      "metadata": {
        "id": "vgavnFZv-GY_"
      },
      "execution_count": 67,
      "outputs": []
    },
    {
      "cell_type": "code",
      "source": [
        "df.to_csv('WordsWithLemmatizedAndStemmedForm.csv',index=False)"
      ],
      "metadata": {
        "id": "HwgoNQyb-OpJ"
      },
      "execution_count": 68,
      "outputs": []
    },
    {
      "cell_type": "markdown",
      "source": [
        "4. Create a python file named “PreProcess” and perform the following tasks.\n",
        "\n",
        "  •\tCopy the function “Tokenize” in this file from question 1\n",
        "\n",
        "  •\tCopy the function “RemoveStopWords” in this file from question 2\n",
        "\n",
        "  •\tCopy the function “Lemmatize” in this file from question 3\n",
        "  Create a function named “Refine” which accepts a string and call the above 3 functions in the same order i.e. first Tokenize then RemoveStopWords then Lemmatize.\n"
      ],
      "metadata": {
        "id": "yzergC0I-V3B"
      }
    },
    {
      "cell_type": "code",
      "source": [
        "#Tokenize Function\n",
        "def Tokenize(string):\n",
        "    tokens=nltk.tokenize.word_tokenize(string)\n",
        "    return \" \".join(tokens)\n",
        "\n",
        "#RemoveStopWordsFunction\n",
        "def RemoveStopWords(string):\n",
        "    #Removing Punctuations\n",
        "    for each in punctuation:\n",
        "        string=string.replace(each,\"\")\n",
        "\n",
        "    #Removing Stopwords\n",
        "    english_stopwords=stopwords.words('english')\n",
        "    stopwords_removed_tokens=[]\n",
        "    words=string.split(\" \")\n",
        "\n",
        "    for each in words:\n",
        "        if each not in english_stopwords:\n",
        "            stopwords_removed_tokens.append(each)\n",
        "    return \" \".join(stopwords_removed_tokens)\n",
        "\n",
        "\n",
        "#LemmatizeFunction\n",
        "def Lemmatize(string):\n",
        "    word_lem=WordNetLemmatizer()\n",
        "    words=string.split()\n",
        "    lemmatizeWords=[]\n",
        "    for each in words:\n",
        "        lemmatizeWords.append(word_lem.lemmatize(each))\n",
        "    return \" \".join(lemmatizeWords)\n",
        "\n",
        "def Refine(string):\n",
        "    return Lemmatize(RemoveStopWords(Tokenize(string)))\n",
        "\n",
        "#Save the above functions in a file called PreProcess.py"
      ],
      "metadata": {
        "id": "uBlhA5A2-Qgh"
      },
      "execution_count": 69,
      "outputs": []
    },
    {
      "cell_type": "code",
      "source": [],
      "metadata": {
        "id": "On9MNPml-cFq"
      },
      "execution_count": null,
      "outputs": []
    }
  ]
}